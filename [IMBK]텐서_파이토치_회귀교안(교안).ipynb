{
  "nbformat": 4,
  "nbformat_minor": 0,
  "metadata": {
    "colab": {
      "provenance": [],
      "gpuType": "T4"
    },
    "kernelspec": {
      "name": "python3",
      "display_name": "Python 3"
    },
    "language_info": {
      "name": "python"
    },
    "accelerator": "GPU"
  },
  "cells": [
    {
      "cell_type": "markdown",
      "source": [
        "## 1. 선형회귀 & 오차역전파 실습"
      ],
      "metadata": {
        "id": "t6yHLBEG8pPu"
      }
    },
    {
      "cell_type": "markdown",
      "source": [
        "### 1) 넘파이로 짜는 선형회귀 & 오차역전파"
      ],
      "metadata": {
        "id": "QxaDKxhP8n_U"
      }
    },
    {
      "cell_type": "code",
      "source": [
        "import numpy as np\n",
        "\n",
        "# 공부시간(h)을 x로 넣고 시험점수(y)를 예측\n",
        "X = np.array([1, 2, 3, 4, 5])\n",
        "y = np.array([60, 70, 80, 90, 100])\n",
        "\n",
        "# 평균 계산을 위한 데이터 갯수를 미리 구함\n",
        "m = len(X) # 학생 수\n",
        "\n",
        "# 파라미터 초기화\n",
        "w = 0\n",
        "b = 0\n",
        "\n",
        "# 학습률, 반복 횟수\n",
        "learning_rate = 0.01 # 경사하강법에서 접선의 기울기에 곱하는 값 (0.01 ~ 0.00001)\n",
        "epochs = 100 # 학습 횟수\n",
        "\n",
        "for epoch in range(epochs):\n",
        "    # 선형 모델\n",
        "    # [0,0,0,0,0] = 0 * [1,2,3,4,5] + 0\n",
        "    y_pred = w * X + b # y = wx + b\n",
        "\n",
        "    # Mean Squared Error\n",
        "\n",
        "                    # [60, 70, 80, 90, 100] - [0,0,0,0,0] = [3600, 4900, 6400, 8100, 10000]\n",
        "    cost = (1/m) * sum((y - y_pred)**2)\n",
        "\n",
        "    # 기울기 계산\n",
        "    dw = -(2/m) * sum(X * (y - y_pred))  # 가중치에 대한 편미분\n",
        "    db = -(2/m) * sum(y - y_pred)        # 절편에 대한 편미분\n",
        "\n",
        "    # 경사하강법 수행\n",
        "    w = w - learning_rate * dw\n",
        "    b = b - learning_rate * db\n",
        "\n",
        "    # 매 10회마다 print\n",
        "    if epoch % 10 == 0:\n",
        "        print(f'Epoch {epoch+1}: Cost = {cost:.4f}, w = {w:.4f}, b = {b:.4f}')\n",
        "\n",
        "# 학습이 끝난 후 최종 가중치와 절편 출력\n",
        "print(f'\\n최종 가중치와 절편 값은: w = {w:.4f}, b = {b:.4f}')\n",
        "\n",
        "# 모델 예측\n",
        "y_pred = w * X + b\n",
        "print(f'예측 값: {y_pred}')"
      ],
      "metadata": {
        "id": "QOD866og8wZk",
        "colab": {
          "base_uri": "https://localhost:8080/"
        },
        "outputId": "c85d3ba1-af4e-4b94-af92-7acbb3e530a0"
      },
      "execution_count": null,
      "outputs": [
        {
          "output_type": "stream",
          "name": "stdout",
          "text": [
            "Epoch 1: Cost = 6600.0000, w = 5.2000, b = 1.6000\n",
            "Epoch 11: Cost = 355.5166, w = 20.5692, b = 7.4245\n",
            "Epoch 21: Cost = 305.9810, w = 21.2394, b = 9.1253\n",
            "Epoch 31: Cost = 285.8235, w = 20.9338, b = 10.5055\n",
            "Epoch 41: Cost = 267.1042, w = 20.5743, b = 11.8219\n",
            "Epoch 51: Cost = 249.6113, w = 20.2225, b = 13.0933\n",
            "Epoch 61: Cost = 233.2640, w = 19.8821, b = 14.3223\n",
            "Epoch 71: Cost = 217.9874, w = 19.5531, b = 15.5104\n",
            "Epoch 81: Cost = 203.7112, w = 19.2350, b = 16.6589\n",
            "Epoch 91: Cost = 190.3700, w = 18.9274, b = 17.7691\n",
            "\n",
            "최종 가중치와 절편 값은: w = 18.6594, b = 18.7367\n",
            "예측 값: [ 37.39614963  56.05557597  74.71500231  93.37442865 112.03385499]\n"
          ]
        }
      ]
    },
    {
      "cell_type": "markdown",
      "source": [
        "### 문제: 아래 칸을 채워넣어 학습 코드를 완성하시오."
      ],
      "metadata": {
        "id": "Zu1dA8Dm9D66"
      }
    },
    {
      "cell_type": "code",
      "source": [
        "import numpy as np\n",
        "\n",
        "# 공부시간(h)을 x로 넣고 시험점수(y)를 예측\n",
        "X = np.array([1, 2, 3, 4, 5])\n",
        "y = np.array([60, 70, 80, 90, 100])\n",
        "\n",
        "# 평균 계산을 위한 데이터 갯수를 미리 구함\n",
        "m = len(X)\n",
        "\n",
        "# 파라미터 초기화\n",
        "w = 0\n",
        "b = 0\n",
        "\n",
        "# 학습률, 반복 횟수\n",
        "learning_rate = 0.01\n",
        "epochs = 100\n",
        "\n",
        "for epoch in range(epochs):\n",
        "    # 선형 모델\n",
        "    y_pred = w + X + b\n",
        "\n",
        "    # Mean Squared Error\n",
        "    cost =(1/m) * sum(( y - y_pred) ** 2)\n",
        "\n",
        "    # 기울기 계산\n",
        "    dw = -(2/m) * sum(X * (y - y_pred))\n",
        "    db = -(2/m) * sum(y - y_pred)\n",
        "\n",
        "    # 경사하강법 수행\n",
        "    w = w - learning_rate * dw\n",
        "    b = b - learning_rate * db\n",
        "\n",
        "    # 매 10회마다 print\n",
        "    if epoch % 10 == 0:\n",
        "        print(f'Epoch {epoch+1}: Cost = {cost:.4f}, w = {w:.4f}, b = {b:.4f}')\n",
        "\n",
        "# 학습이 끝난 후 최종 가중치와 절편 출력\n",
        "print(f'\\n최종 가중치와 절편 값은: w = {w:.4f}, b = {b:.4f}')\n",
        "\n",
        "# 모델 예측\n",
        "y_pred = w * X + b\n",
        "print(f'와인퀄리티 예측: {y_pred}')"
      ],
      "metadata": {
        "id": "M4z1M-fz894u",
        "colab": {
          "base_uri": "https://localhost:8080/"
        },
        "outputId": "2e761383-99e6-4608-a99b-a20c6cd3be90"
      },
      "execution_count": null,
      "outputs": [
        {
          "output_type": "stream",
          "name": "stdout",
          "text": [
            "Epoch 1: Cost = 6091.0000, w = 4.9800, b = 1.5400\n",
            "Epoch 11: Cost = 1116.9743, w = 37.6872, b = 11.2424\n",
            "Epoch 21: Cost = 280.3419, w = 52.4038, b = 14.9479\n",
            "Epoch 31: Cost = 166.7535, w = 59.3056, b = 16.0485\n",
            "Epoch 41: Cost = 164.5542, w = 62.8127, b = 16.0176\n",
            "Epoch 51: Cost = 172.4942, w = 64.8452, b = 15.4951\n",
            "Epoch 61: Cost = 177.6218, w = 66.2372, b = 14.7591\n",
            "Epoch 71: Cost = 180.1659, w = 67.3509, b = 13.9303\n",
            "Epoch 81: Cost = 181.3308, w = 68.3437, b = 13.0612\n",
            "Epoch 91: Cost = 181.8481, w = 69.2840, b = 12.1747\n",
            "\n",
            "최종 가중치와 절편 값은: w = 70.1104, b = 11.3701\n",
            "와인퀄리티 예측: [ 81.48050423 151.59088241 221.70126058 291.81163875 361.92201693]\n"
          ]
        }
      ]
    },
    {
      "cell_type": "markdown",
      "source": [
        "### 2) 캘리포니아 주택 가격 데이터셋을 이용한 선형회귀"
      ],
      "metadata": {
        "id": "dQv54caz9PND"
      }
    },
    {
      "cell_type": "markdown",
      "source": [
        "### 사이킷런에서 제공해주는 캘리포니아 주택 가격 데이터셋 컬럼 리스트\n",
        "\n",
        "#### 1. X값 (feature)\n",
        "\n",
        "- MedInc (Median Income): 중간 소득 (단위: 10,000 달러)\n",
        "\n",
        "- HouseAge (Housing Median Age): 주택 중간 연령\n",
        "\n",
        "- AveRooms (Average Rooms per Household): 가구당 평균 방 개수.\n",
        "\n",
        "- AveBedrms (Average Bedrooms per Household): 가구당 평균 침실 개수.\n",
        "\n",
        "- Population: 해당 지역의 인구 수\n",
        "\n",
        "- AveOccup (Average Occupancy per Household): 가구당 평균 거주자 수.\n",
        "\n",
        "- Latitude: 해당 지역의 위도\n",
        "\n",
        "- Longitude: 해당 지역의 경도\n",
        "\n",
        "#### 2. y값 (target)\n",
        "\n",
        "- MedHouseVal (Median House Value): 주택 중간 가격 (단위: 10,000 달러)"
      ],
      "metadata": {
        "id": "XxYwQMBgJtdc"
      }
    },
    {
      "cell_type": "code",
      "source": [
        "import numpy as np\n",
        "from sklearn.datasets import fetch_california_housing  # 캘리포니아 주택 데이터셋\n",
        "from sklearn.model_selection import train_test_split\n",
        "from sklearn.preprocessing import StandardScaler\n",
        "from sklearn.metrics import r2_score, mean_squared_error, mean_absolute_error\n",
        "\n",
        "# 캘리포니아 주택 가격 데이터\n",
        "california = fetch_california_housing()\n",
        "california"
      ],
      "metadata": {
        "id": "-7Uokh4VLzUN",
        "colab": {
          "base_uri": "https://localhost:8080/"
        },
        "collapsed": true,
        "outputId": "deb258f3-f304-4c37-8dd9-c5339421eb4c"
      },
      "execution_count": null,
      "outputs": [
        {
          "output_type": "execute_result",
          "data": {
            "text/plain": [
              "{'data': array([[   8.3252    ,   41.        ,    6.98412698, ...,    2.55555556,\n",
              "           37.88      , -122.23      ],\n",
              "        [   8.3014    ,   21.        ,    6.23813708, ...,    2.10984183,\n",
              "           37.86      , -122.22      ],\n",
              "        [   7.2574    ,   52.        ,    8.28813559, ...,    2.80225989,\n",
              "           37.85      , -122.24      ],\n",
              "        ...,\n",
              "        [   1.7       ,   17.        ,    5.20554273, ...,    2.3256351 ,\n",
              "           39.43      , -121.22      ],\n",
              "        [   1.8672    ,   18.        ,    5.32951289, ...,    2.12320917,\n",
              "           39.43      , -121.32      ],\n",
              "        [   2.3886    ,   16.        ,    5.25471698, ...,    2.61698113,\n",
              "           39.37      , -121.24      ]]),\n",
              " 'target': array([4.526, 3.585, 3.521, ..., 0.923, 0.847, 0.894]),\n",
              " 'frame': None,\n",
              " 'target_names': ['MedHouseVal'],\n",
              " 'feature_names': ['MedInc',\n",
              "  'HouseAge',\n",
              "  'AveRooms',\n",
              "  'AveBedrms',\n",
              "  'Population',\n",
              "  'AveOccup',\n",
              "  'Latitude',\n",
              "  'Longitude'],\n",
              " 'DESCR': '.. _california_housing_dataset:\\n\\nCalifornia Housing dataset\\n--------------------------\\n\\n**Data Set Characteristics:**\\n\\n    :Number of Instances: 20640\\n\\n    :Number of Attributes: 8 numeric, predictive attributes and the target\\n\\n    :Attribute Information:\\n        - MedInc        median income in block group\\n        - HouseAge      median house age in block group\\n        - AveRooms      average number of rooms per household\\n        - AveBedrms     average number of bedrooms per household\\n        - Population    block group population\\n        - AveOccup      average number of household members\\n        - Latitude      block group latitude\\n        - Longitude     block group longitude\\n\\n    :Missing Attribute Values: None\\n\\nThis dataset was obtained from the StatLib repository.\\nhttps://www.dcc.fc.up.pt/~ltorgo/Regression/cal_housing.html\\n\\nThe target variable is the median house value for California districts,\\nexpressed in hundreds of thousands of dollars ($100,000).\\n\\nThis dataset was derived from the 1990 U.S. census, using one row per census\\nblock group. A block group is the smallest geographical unit for which the U.S.\\nCensus Bureau publishes sample data (a block group typically has a population\\nof 600 to 3,000 people).\\n\\nA household is a group of people residing within a home. Since the average\\nnumber of rooms and bedrooms in this dataset are provided per household, these\\ncolumns may take surprisingly large values for block groups with few households\\nand many empty houses, such as vacation resorts.\\n\\nIt can be downloaded/loaded using the\\n:func:`sklearn.datasets.fetch_california_housing` function.\\n\\n.. topic:: References\\n\\n    - Pace, R. Kelley and Ronald Barry, Sparse Spatial Autoregressions,\\n      Statistics and Probability Letters, 33 (1997) 291-297\\n'}"
            ]
          },
          "metadata": {},
          "execution_count": 4
        }
      ]
    },
    {
      "cell_type": "code",
      "source": [
        "X = california.data[:, 0]  # 중간소득만 X값으로 사용\n",
        "y = california.target  # 주택 가격 y값\n",
        "\n",
        "# 데이터를 훈련 세트와 테스트 세트로 나누기\n",
        "X_train, X_valid, y_train, y_valid = train_test_split(X, y, test_size=0.2, random_state=42)\n",
        "\n",
        "# 데이터 정규화\n",
        "scaler = StandardScaler()\n",
        "                    # scaler에 2차원으로 줘서 변환 후 1차원으로 원상 복귀\n",
        "X_train = scaler.fit_transform(X_train.reshape(-1, 1)).flatten()\n",
        "                    # scaler에 2차원으로 줘서 변환 후 1차원으로 원상 복귀\n",
        "X_valid = scaler.transform(X_valid.reshape(-1, 1)).flatten()\n",
        "\n",
        "# 파라미터 초기화\n",
        "w = 0\n",
        "b = 0\n",
        "\n",
        "# 학습률, 반복 횟수\n",
        "learning_rate = 0.01\n",
        "epochs = 100\n",
        "\n",
        "# 평균을 위한 갯수 측정\n",
        "m = len(X_train)\n",
        "\n",
        "# 경사 하강법을 통한 학습\n",
        "for epoch in range(epochs):\n",
        "    # 선형 모델\n",
        "            # 예측값 = 0 * 중간소득 + 0\n",
        "    y_pred = w * X_train + b\n",
        "\n",
        "    # Mean Squared Error\n",
        "                # (주택가격정답 - 예측값)^2를 모든 데이터에 대해서 구한 다음에 합하고 m빵\n",
        "    cost = (1/m) * sum((y_train - y_pred)**2)\n",
        "\n",
        "    # 기울기 계산\n",
        "    dw = -(2/m) * sum(X_train * (y_train - y_pred))  # w에 대한 편미분\n",
        "    db = -(2/m) * sum(y_train - y_pred)             # b에 대한 편미분\n",
        "\n",
        "    # 파라미터 업데이트\n",
        "    w = w - learning_rate * dw\n",
        "    b = b - learning_rate * db\n",
        "\n",
        "    # 매 10회마다 비용 출력\n",
        "    if epoch % 10 == 0:\n",
        "        print(f'Epoch {epoch+1}: Cost = {cost:.4f}, w = {w:.4f}, b = {b:.4f}')\n",
        "\n",
        "# 학습된 모델을 테스트 데이터에 적용하여 예측\n",
        "y_pred_valid = w * X_valid + b\n",
        "\n",
        "# 테스트 결과 출력\n",
        "print(\"\\n평가 데이터 셋 예측:\")\n",
        "print(y_pred_valid)\n",
        "\n",
        "# 실제값과 비교\n",
        "print(\"\\n정답 값:\")\n",
        "print(y_valid)\n",
        "\n",
        "# MSE 계산\n",
        "mse_valid = (1/len(y_valid)) * sum((y_valid - y_pred_valid)**2)\n",
        "print(f\"\\n평가 데이터 셋 Mean Squared Error: {mse_valid:.4f}\")\n",
        "\n",
        "# R2 Score 계산\n",
        "r2 = r2_score(y_valid, y_pred_valid)\n",
        "print(f\"평가 데이터 셋 R2 Score: {r2:.4f}\")\n",
        "\n",
        "# RMSE 계산\n",
        "rmse_valid = np.sqrt(mse_valid)\n",
        "print(f\"평가 데이터 셋 Root Mean Squared Error: {rmse_valid:.4f}\")\n",
        "\n",
        "# MAE 계산\n",
        "mae_valid = mean_absolute_error(y_valid, y_pred_valid)\n",
        "print(f\"평가 데이터 셋 Mean Absolute Error: {mae_valid:.4f}\")"
      ],
      "metadata": {
        "colab": {
          "base_uri": "https://localhost:8080/"
        },
        "id": "CDtPomFg9QvX",
        "outputId": "611c1043-064f-4ad0-9952-1fe868f78c8e"
      },
      "execution_count": null,
      "outputs": [
        {
          "output_type": "stream",
          "name": "stdout",
          "text": [
            "Epoch 1: Cost = 5.6297, w = 0.0160, b = 0.0414\n",
            "Epoch 11: Cost = 3.9909, w = 0.1591, b = 0.4129\n",
            "Epoch 21: Cost = 2.8967, w = 0.2761, b = 0.7164\n",
            "Epoch 31: Cost = 2.1663, w = 0.3717, b = 0.9643\n",
            "Epoch 41: Cost = 1.6786, w = 0.4497, b = 1.1669\n",
            "Epoch 51: Cost = 1.3530, w = 0.5135, b = 1.3325\n",
            "Epoch 61: Cost = 1.1357, w = 0.5657, b = 1.4678\n",
            "Epoch 71: Cost = 0.9906, w = 0.6083, b = 1.5783\n",
            "Epoch 81: Cost = 0.8937, w = 0.6431, b = 1.6686\n",
            "Epoch 91: Cost = 0.8290, w = 0.6715, b = 1.7424\n",
            "\n",
            "평가 데이터 셋 예측:\n",
            "[0.99713116 1.30633464 1.65143788 ... 3.74275332 1.39861193 1.67762615]\n",
            "\n",
            "정답 값:\n",
            "[0.477   0.458   5.00001 ... 5.00001 0.723   1.515  ]\n",
            "\n",
            "평가 데이터 셋 Mean Squared Error: 0.7935\n",
            "평가 데이터 셋 R2 Score: 0.3944\n",
            "평가 데이터 셋 Root Mean Squared Error: 0.8908\n",
            "평가 데이터 셋 Mean Absolute Error: 0.6244\n"
          ]
        }
      ]
    },
    {
      "cell_type": "markdown",
      "source": [
        "### 문제: 와인 CSV파일이 주어졌을때 아래 칸을 채워넣어 학습 코드를 완성하시오."
      ],
      "metadata": {
        "id": "q-HzPfP395O9"
      }
    },
    {
      "cell_type": "markdown",
      "source": [
        "#### 와인 데이터셋 feature 설명\n",
        "\n",
        "- fixed acidity: 고정 산도\n",
        "- volatile acidity: 휘발성 산도\n",
        "- citric acid: 구연산\n",
        "- residual sugar: 잔류 당분\n",
        "- chlorides: 염화물\n",
        "- free sulfur dioxide: 유리 이산화황\n",
        "- total sulfur dioxide: 총 이산화황\n",
        "- density: 밀도\n",
        "- pH: 수소 이온 농도 (산성도)\n",
        "- sulphates: 황산염\n",
        "- alcohol: 알코올 도수\n",
        "- quality: 품질 (와인의 품질 등급)\n",
        "- class: 클래스 (와인의 종류 또는 품종)"
      ],
      "metadata": {
        "id": "gzo06HEPK_K-"
      }
    },
    {
      "cell_type": "code",
      "source": [
        "import numpy as np\n",
        "import pandas as pd\n",
        "from sklearn.model_selection import train_test_split\n",
        "from sklearn.preprocessing import StandardScaler\n",
        "\n",
        "# 와인 데이터 로드\n",
        "data = pd.read_csv('wine.csv')\n",
        "\n",
        "X = data['residual sugar'].values  # 잔류 당분을 X로\n",
        "y = data['alcohol'].values  # 와인의 알콜을 종속 변수로 선택\n",
        "\n",
        "# 데이터를 훈련 세트와 valid 세트로 나누기\n",
        "X_train, X_valid, y_train, y_valid = train_test_split(X, y, test_size = 0.2, random_state=7777)\n",
        "\n",
        "\n",
        "# 데이터 정규화\n",
        "scaler = StandardScaler()\n",
        "X_train = scaler.fit_transform(X_train.reshape(-1, 1)).flatten()\n",
        "X_valid = scaler.transform(X_valid.reshape(-1, 1)).flatten()\n",
        "\n",
        "# 파라미터 초기화\n",
        "w = 0\n",
        "b = 0\n",
        "\n",
        "# 학습률, 반복 횟수\n",
        "learning_rate = 0.01\n",
        "epochs = 100\n",
        "\n",
        "# 평균을 위한 갯수 측정\n",
        "m = len(X_train)\n",
        "\n",
        "# 경사 하강법을 통한 학습\n",
        "for epoch in range(epochs):\n",
        "    # 선형 모델\n",
        "    y_pred = w * X_train + b\n",
        "\n",
        "    # Mean Squared Error\n",
        "    cost = (1/m) * sum((y_train - y_pred)**2)\n",
        "\n",
        "    # 기울기 계산\n",
        "    dw = -(2/m) * sum(X_train * (y_train - y_pred))  # w에 대한 편미분\n",
        "    dw = -(2/m) * sum(y_train - y_pred)  # b에 대한 편미분\n",
        "\n",
        "    # 파라미터 업데이트\n",
        "    w = w - learning_rate * dw\n",
        "    b = b - learning_rate * db\n",
        "\n",
        "    # 매 10회마다 비용 출력\n",
        "    if epoch % 10 == 0 :\n",
        "        print(f'Epoch {epoch+1}: Cost = {cost:.4f}, w = {w:.4f}, b = {b:.4f}')\n",
        "\n",
        "\n",
        "# 학습된 모델을 테스트 데이터에 적용하여 예측\n",
        "y_pred_valid = w * X_valid + b\n",
        "\n",
        "# 테스트 결과 출력\n",
        "print('\\n평가 데이터 셋 예측:')\n",
        "print(y_pred_valid)\n",
        "\n",
        "# 실제값과 비교\n",
        "print(\"\\n정답 값:\")\n",
        "print(y_valid)\n",
        "\n",
        "# MSE 계산\n",
        "mse_valid = (1/len(y_valid)) * sum((y_valid - y_pred_valid)**2)\n",
        "print(f\"\\n평가 데이터 셋 Mean Squared Error: {mse_valid:.4f}\")\n"
      ],
      "metadata": {
        "id": "mQdq_q_09i0V",
        "colab": {
          "base_uri": "https://localhost:8080/"
        },
        "outputId": "6743600d-68c9-4ed0-95f3-8285f6530ba0"
      },
      "execution_count": null,
      "outputs": [
        {
          "output_type": "stream",
          "name": "stdout",
          "text": [
            "Epoch 1: Cost = 111.7768, w = 0.2101, b = 0.0056\n",
            "Epoch 11: Cost = 116.7733, w = 2.3048, b = 0.0617\n",
            "Epoch 21: Cost = 130.4575, w = 4.3882, b = 0.1178\n",
            "Epoch 31: Cost = 152.6891, w = 6.4605, b = 0.1738\n",
            "Epoch 41: Cost = 183.3285, w = 8.5215, b = 0.2299\n",
            "Epoch 51: Cost = 222.2371, w = 10.5714, b = 0.2860\n",
            "Epoch 61: Cost = 269.2768, w = 12.6100, b = 0.3421\n",
            "Epoch 71: Cost = 324.3103, w = 14.6374, b = 0.3982\n",
            "Epoch 81: Cost = 387.2011, w = 16.6535, b = 0.4542\n",
            "Epoch 91: Cost = 457.8136, w = 18.6585, b = 0.5103\n",
            "\n",
            "평가 데이터 셋 예측:\n",
            "[-17.58653279 -17.58653279  -7.71868058 ...  12.4460609   24.03006132\n",
            " -14.58327342]\n",
            "\n",
            "정답 값:\n",
            "[10.5 11.4 11.7 ... 10.8  9.6 11.8]\n",
            "\n",
            "평가 데이터 셋 Mean Squared Error: 521.0475\n"
          ]
        }
      ]
    },
    {
      "cell_type": "markdown",
      "source": [
        "### 1. 파이토치 모듈 이해"
      ],
      "metadata": {
        "id": "9oZ59ze2m4ce"
      }
    },
    {
      "cell_type": "code",
      "execution_count": null,
      "metadata": {
        "id": "_BNXMsdImqPc"
      },
      "outputs": [],
      "source": [
        "import torch  # 딥러닝 프레임워크 파이토치 불러오기\n",
        "import torch.autograd # 자동 미분(back prop)을 위함 함수들 포함\n",
        "import torch.nn # 간단한 선형 방정식 정의, 다양한 레이어, 활성화 함수,\n",
        "import torch.optim # 최적화 알고리즘들이 담겨있는 모듈"
      ]
    },
    {
      "cell_type": "markdown",
      "source": [
        "# ※ 텐서조작을 왜 공부해야 할 까?\n",
        "\n",
        "→ 텐서의 구조가 익숙해야 이미지와 시계열에 대해서 잘 조작할 수 있다.\n",
        "\n",
        "이미지는 (묶음사이즈, 크기, 세로)\n",
        "\n",
        "시계열은 (묶음사이즈, 시간길이, 크기, 세로)\n",
        "\n"
      ],
      "metadata": {
        "id": "DNOA_i49pBlG"
      }
    },
    {
      "cell_type": "markdown",
      "source": [
        "## 2. 텐서 조작 (참고:위키독스)\n",
        "\n",
        "![image.png](data:image/png;base64,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)"
      ],
      "metadata": {
        "id": "kwJbfzTntxcL"
      }
    },
    {
      "cell_type": "markdown",
      "source": [
        "파이토치에서는 텐서 타입만 가능 -> 텐서 shape 알아야 함\n",
        "* 3D: (z, x, y)"
      ],
      "metadata": {
        "id": "n-PoZWFin6M9"
      }
    },
    {
      "cell_type": "markdown",
      "source": [
        "### 2. 텐서 조작 - 1) 넘파이로 텐서 만들기"
      ],
      "metadata": {
        "id": "CssMSVEXuhVf"
      }
    },
    {
      "cell_type": "code",
      "source": [
        "import numpy as np\n",
        "\n",
        "# 1) 1D Numpy 행렬\n",
        "# list -> tensor\n",
        "t = np.array([0., 1., 2., 3., 4., 5., 6.])\n",
        "print('Shape of t: ', t.shape)"
      ],
      "metadata": {
        "colab": {
          "base_uri": "https://localhost:8080/"
        },
        "id": "_4DuGDEdtzM9",
        "outputId": "9e9008f9-0346-4875-94d3-b9b471540f54"
      },
      "execution_count": null,
      "outputs": [
        {
          "output_type": "stream",
          "name": "stdout",
          "text": [
            "Shape of t:  (7,)\n"
          ]
        }
      ]
    },
    {
      "cell_type": "code",
      "source": [
        "# 2) 2D Numpy 행렬\n",
        "\n",
        "t = np.array([[1., 2., 3.], [4., 5., 6.], [7., 8., 9.], [10., 11., 12.]])\n",
        "print('Shape of t: ', t.shape)"
      ],
      "metadata": {
        "colab": {
          "base_uri": "https://localhost:8080/"
        },
        "id": "e4LyRYkLugbS",
        "outputId": "09589d78-7fe6-495b-cf4e-28cda5171dbf"
      },
      "execution_count": null,
      "outputs": [
        {
          "output_type": "stream",
          "name": "stdout",
          "text": [
            "Shape of t:  (4, 3)\n"
          ]
        }
      ]
    },
    {
      "cell_type": "markdown",
      "source": [
        "### 2. 텐서 조작 - 2) 파이토치로 텐서 만들기"
      ],
      "metadata": {
        "id": "4GHtoPhiuxkG"
      }
    },
    {
      "cell_type": "code",
      "source": [
        "import torch\n",
        "\n",
        "# 1) 1D PyTorch 텐서\n",
        "t = torch.FloatTensor([0., 1., 2., 3., 4., 5., 6.])\n",
        "print(t)\n",
        "print(t.dim())  # rank. 즉, 차원\n",
        "print(t.shape)  # shape\n",
        "print(t.size()) # size"
      ],
      "metadata": {
        "colab": {
          "base_uri": "https://localhost:8080/"
        },
        "id": "lJR3D3Jeunlz",
        "outputId": "eba00de2-3185-4a18-f2e3-0669d5a2a18c"
      },
      "execution_count": null,
      "outputs": [
        {
          "output_type": "stream",
          "name": "stdout",
          "text": [
            "tensor([0., 1., 2., 3., 4., 5., 6.])\n",
            "1\n",
            "torch.Size([7])\n",
            "torch.Size([7])\n"
          ]
        }
      ]
    },
    {
      "cell_type": "code",
      "source": [
        "# 2) 2D PyTorch 텐서\n",
        "t = torch.FloatTensor([[1., 2., 3.],\n",
        "                       [4., 5., 6.],\n",
        "                       [7., 8., 9.],\n",
        "                       [10., 11., 12.]\n",
        "                      ])\n",
        "print(t)\n",
        "print(t.dim())  # rank. 즉, 차원\n",
        "print(t.shape) # shape\n",
        "print(t.size()) # size"
      ],
      "metadata": {
        "colab": {
          "base_uri": "https://localhost:8080/"
        },
        "id": "giQR_opiwYZ3",
        "outputId": "6c49c251-0adf-4782-dc1a-c08dd45e5b9e"
      },
      "execution_count": null,
      "outputs": [
        {
          "output_type": "stream",
          "name": "stdout",
          "text": [
            "tensor([[ 1.,  2.,  3.],\n",
            "        [ 4.,  5.,  6.],\n",
            "        [ 7.,  8.,  9.],\n",
            "        [10., 11., 12.]])\n",
            "2\n",
            "torch.Size([4, 3])\n",
            "torch.Size([4, 3])\n"
          ]
        }
      ]
    },
    {
      "cell_type": "markdown",
      "source": [
        "### 2. 텐서 조작 - 3) 브로드캐스팅(Broadcasting)"
      ],
      "metadata": {
        "id": "HrWSQbVvw9Tj"
      }
    },
    {
      "cell_type": "code",
      "source": [
        "# 텐서 + 텐서\n",
        "m1 = torch.FloatTensor([[3, 3]])\n",
        "m2 = torch.FloatTensor([[2, 2]])\n",
        "print(m1 + m2)"
      ],
      "metadata": {
        "colab": {
          "base_uri": "https://localhost:8080/"
        },
        "id": "0BdQyettw2-N",
        "outputId": "fd5a29f4-eaf2-4e3c-befa-f92661d1a448"
      },
      "execution_count": null,
      "outputs": [
        {
          "output_type": "stream",
          "name": "stdout",
          "text": [
            "tensor([[5., 5.]])\n"
          ]
        }
      ]
    },
    {
      "cell_type": "code",
      "source": [
        "# 벡터 텐서 + scalar 텐서\n",
        "m1 = torch.FloatTensor([[1, 2]])\n",
        "m2 = torch.FloatTensor([3]) # [3] -> [3, 3]\n",
        "print(m1 + m2)"
      ],
      "metadata": {
        "colab": {
          "base_uri": "https://localhost:8080/"
        },
        "id": "qQtq4dNBxLYV",
        "outputId": "0628d62f-464b-48cc-d39c-eeaa691de71a"
      },
      "execution_count": null,
      "outputs": [
        {
          "output_type": "stream",
          "name": "stdout",
          "text": [
            "tensor([[4., 5.]])\n"
          ]
        }
      ]
    },
    {
      "cell_type": "code",
      "source": [
        "m1 = torch.FloatTensor([[1, 2]]) # 2 x 1 벡터 텐서\n",
        "m2 = torch.FloatTensor([[3], [4]]) # 1 x 2 벡터 텐서\n",
        "print(m1 + m2) # 각각 더해져서 나온다."
      ],
      "metadata": {
        "colab": {
          "base_uri": "https://localhost:8080/"
        },
        "id": "n3GUFqz2xNc-",
        "outputId": "1685dd38-b959-4c66-dbd7-693b505b2684"
      },
      "execution_count": null,
      "outputs": [
        {
          "output_type": "stream",
          "name": "stdout",
          "text": [
            "tensor([[4., 5.],\n",
            "        [5., 6.]])\n"
          ]
        }
      ]
    },
    {
      "cell_type": "markdown",
      "source": [
        "■ 중간문제: 텐서 덧셈 훈련 (15분)\n"
      ],
      "metadata": {
        "id": "ArU-lp1KzUqV"
      }
    },
    {
      "cell_type": "code",
      "source": [
        "# 텐서 + 텐서\n",
        "m1 = torch.FloatTensor([[1,2],[4,5]])\n",
        "m2 = torch.FloatTensor([7])\n",
        "print(m1 + m2)"
      ],
      "metadata": {
        "colab": {
          "base_uri": "https://localhost:8080/"
        },
        "id": "tgzkyWcRjBdf",
        "outputId": "e49d3d84-2ae9-40e9-b514-9c4b205df6aa"
      },
      "execution_count": null,
      "outputs": [
        {
          "output_type": "stream",
          "name": "stdout",
          "text": [
            "tensor([[ 8.,  9.],\n",
            "        [11., 12.]])\n"
          ]
        }
      ]
    },
    {
      "cell_type": "code",
      "source": [
        "# 1. [[1,2]] + [3] = [[4,5]]\n",
        "\n",
        "# 2. [[1,2],[4,5]] + [7] = [[8,9], [11,12]]\n",
        "\n",
        "# 3. [[1,2],[4,5]] + [1,2] = [[2,4], [5,7]]\n",
        "\n",
        "# 4. [[1,2,3],[4,5,6]] + [7] = [[8,9,10], [11,12,13]]\n",
        "\n",
        "# 5. [[1,2],[3,4]] + [5] = [[6,7],[8,9]]\n",
        "\n",
        "# 6. [[6]] + [[2,4],[5,6]] = [[8,10],[11,12]]\n",
        "\n",
        "# 7. [[3,4]] + [[1,2],[3,4]] = [[4,6],[6,8]]\n",
        "\n",
        "# 8. [[2,4]] + [5] = [[7,9]]\n",
        "\n",
        "# 9. [[1,2],[3,4]] + [6] = [[7,8],[9,10]]\n",
        "\n",
        "# 10. [[5,7],[9,11]] + [2,3] = [[7,10],[11,14]]\n",
        "\n",
        "# 11. [[1,1,1],[2,2,2]] + [3] = [[4,4,4],[5,5,5]]\n",
        "\n",
        "# 12. [[3,5],[7,9]] + [[1,2],[3,4]] = [[4,7],[10,13]]\n",
        "\n",
        "# 13. [[4]] + [[1,3],[5,7]] = [[5,7],[9,11]]\n",
        "\n",
        "# 14. [[6,8]] + [4] = [[10,12]]\n",
        "\n",
        "# 15. [[3,3],[3,3]] + [7] = [[10,10],[10,10]]\n",
        "\n",
        "# 16. [[2,4,6]] + [[1,1,1],[2,2,2]] = [[3,5,7],[4,6,8]]\n",
        "\n",
        "# 17. [[9,8],[7,6]] + [1] = [[10,9],[8,7]]\n",
        "\n",
        "# 18. [[1]] + [[5,5],[5,5]] = [[6,6],[6,6]]\n",
        "\n",
        "# 19. [[4,4]] + [[2,2],[2,2]] = [[6,6],[6,6]]\n",
        "\n",
        "# 20. [[1,2,3],[4,5,6],[8,9,9]] + [3] = [[4,5,6],[7,8,9],[10,11,11]]"
      ],
      "metadata": {
        "id": "2Q60HWmwzVGr"
      },
      "execution_count": null,
      "outputs": []
    },
    {
      "cell_type": "markdown",
      "source": [
        "### 2. 텐서 조작 - 4) 곱셈"
      ],
      "metadata": {
        "id": "f0_ksQSMyMGu"
      }
    },
    {
      "cell_type": "markdown",
      "source": [
        "### 행렬곱 (Matrix Multiplication) - 행렬 곱셈으로 수행"
      ],
      "metadata": {
        "id": "05Ro2S7_yStG"
      }
    },
    {
      "cell_type": "code",
      "source": [
        "m1 = torch.FloatTensor([[1, 2], [3, 4]]) # 2 x 2 행렬 원소 곱셈 원리 (m x n) x (n x p)\n",
        "m2 = torch.FloatTensor([[1], [2]]) # 2 x 1 (열백터) 1 X 2 (행백터)\n",
        "print(m1.matmul(m2)) # 2 x 1 matrix multiplication"
      ],
      "metadata": {
        "colab": {
          "base_uri": "https://localhost:8080/"
        },
        "id": "jCbGBhHDx4eK",
        "outputId": "48b5b920-d3aa-464e-a724-03654271df80"
      },
      "execution_count": null,
      "outputs": [
        {
          "output_type": "stream",
          "name": "stdout",
          "text": [
            "tensor([[ 5.],\n",
            "        [11.]])\n"
          ]
        }
      ]
    },
    {
      "cell_type": "markdown",
      "source": [
        "### 곱셈 (Multiplication) - 원소끼리 곱해짐"
      ],
      "metadata": {
        "id": "zKjz6Nq1y-6h"
      }
    },
    {
      "cell_type": "code",
      "source": [
        "m1 = torch.FloatTensor([[1, 2], [3, 4]]) # 2 x 2\n",
        "m2 = torch.FloatTensor([[1], [2]]) # 2 x 1\n",
        "print(m1 * m2) # 2 x 2\n",
        "print(m1.mul(m2)) # 2 x 2 동일한 연산."
      ],
      "metadata": {
        "colab": {
          "base_uri": "https://localhost:8080/"
        },
        "id": "rG3RY2-Qyjq9",
        "outputId": "2e9fd460-cd90-4a77-fc24-4c6fed71050f"
      },
      "execution_count": null,
      "outputs": [
        {
          "output_type": "stream",
          "name": "stdout",
          "text": [
            "tensor([[1., 2.],\n",
            "        [6., 8.]])\n",
            "tensor([[1., 2.],\n",
            "        [6., 8.]])\n"
          ]
        }
      ]
    },
    {
      "cell_type": "markdown",
      "source": [
        "### 2. 텐서 조작 - 5) 평균"
      ],
      "metadata": {
        "id": "QMD1IeWU2n8v"
      }
    },
    {
      "cell_type": "code",
      "source": [
        "t = torch.FloatTensor([1, 2])\n",
        "print(t.mean())"
      ],
      "metadata": {
        "colab": {
          "base_uri": "https://localhost:8080/"
        },
        "id": "h0YK9f8o2ca7",
        "outputId": "937da52e-d629-43ac-ca9f-3a160eeb2a65"
      },
      "execution_count": null,
      "outputs": [
        {
          "output_type": "stream",
          "name": "stdout",
          "text": [
            "tensor(1.5000)\n"
          ]
        }
      ]
    },
    {
      "cell_type": "code",
      "source": [
        "t = torch.FloatTensor([[1, 2], [3, 4]])\n",
        "print(t.mean())"
      ],
      "metadata": {
        "colab": {
          "base_uri": "https://localhost:8080/"
        },
        "id": "fAGSZnd52rk7",
        "outputId": "4a09c1f7-70c5-464e-91ee-1bb77acbf3e3"
      },
      "execution_count": null,
      "outputs": [
        {
          "output_type": "stream",
          "name": "stdout",
          "text": [
            "tensor(2.5000)\n"
          ]
        }
      ]
    },
    {
      "cell_type": "code",
      "source": [
        "print(t.mean(dim=0)) # 세로방향\n",
        "print(t.mean(dim=1)) # 가로방향"
      ],
      "metadata": {
        "colab": {
          "base_uri": "https://localhost:8080/"
        },
        "id": "DuqtupHW2v4a",
        "outputId": "956f80eb-99e1-4c56-c3c8-a829b4d31c81"
      },
      "execution_count": null,
      "outputs": [
        {
          "output_type": "stream",
          "name": "stdout",
          "text": [
            "tensor([2., 3.])\n",
            "tensor([1.5000, 3.5000])\n"
          ]
        }
      ]
    },
    {
      "cell_type": "markdown",
      "source": [
        "### 2. 텐서 조작 - 6) 덧셈"
      ],
      "metadata": {
        "id": "1XWJnD_A26uV"
      }
    },
    {
      "cell_type": "code",
      "source": [
        "t = torch.FloatTensor([[1, 2], [3, 4]])\n",
        "print(t)\n",
        "print(t.sum()) # 단순히 원소 전체의 덧셈을 수행\n",
        "print(t.sum(dim=0)) # 세로방향\n",
        "\n",
        "print(t.sum(dim=1)) # 가로방향, 마지막 차원\n",
        "print(t.sum(dim=-1)) # 마지막 차원     (2,2) => 0,1 dim 방향"
      ],
      "metadata": {
        "colab": {
          "base_uri": "https://localhost:8080/"
        },
        "id": "OFZyG9OE24Ca",
        "outputId": "f1e13dae-8e02-4f07-8311-5164065f070b"
      },
      "execution_count": null,
      "outputs": [
        {
          "output_type": "stream",
          "name": "stdout",
          "text": [
            "tensor([[1., 2.],\n",
            "        [3., 4.]])\n",
            "tensor(10.)\n",
            "tensor([4., 6.])\n",
            "tensor([3., 7.])\n",
            "tensor([3., 7.])\n"
          ]
        }
      ]
    },
    {
      "cell_type": "markdown",
      "source": [
        "### 3차원은 좀 dim 인덱스 순서가 다르다!\n",
        "\n",
        "2D: 0 세로, 1 가로\n",
        "\n",
        "3D: 0 z 방향, 1 세로, 2 가로"
      ],
      "metadata": {
        "id": "827z68ED5X5H"
      }
    },
    {
      "cell_type": "markdown",
      "source": [
        "![image.png](data:image/png;base64,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)"
      ],
      "metadata": {
        "id": "LzcdAyWS4Glj"
      }
    },
    {
      "cell_type": "code",
      "source": [
        "tensor = torch.tensor([\n",
        "    [[6, 4, 0],\n",
        "     [8, 4, 9],\n",
        "     [8, 0, 5]],\n",
        "\n",
        "    [[6, 4, 0],\n",
        "     [8, 4, 9],\n",
        "     [8, 0, 5]],\n",
        "\n",
        "    [[2, 4, 4],\n",
        "     [6, 4, 4],\n",
        "     [4, 3, 9]]\n",
        "])\n",
        "\n",
        "print(\"========================================\")\n",
        "# z방향\n",
        "sum_dim0 = torch.sum(tensor, dim=0)\n",
        "mean_dim0 = torch.mean(tensor.float(), dim=0)\n",
        "\n",
        "print(\"Sum along dim=0:\\n\", sum_dim0)\n",
        "print(\"Mean along dim=0:\\n\", mean_dim0)\n",
        "\n",
        "print(\"========================================\")\n",
        "# 아래방향\n",
        "sum_dim1 = torch.sum(tensor, dim=1)\n",
        "mean_dim1 = torch.mean(tensor.float(), dim=1)\n",
        "\n",
        "print(\"Sum along dim=1:\\n\", sum_dim1)\n",
        "print(\"Mean along dim=1:\\n\", mean_dim1)\n",
        "\n",
        "print(\"========================================\")\n",
        "# 옆방향\n",
        "sum_dim2 = torch.sum(tensor, dim=2)\n",
        "mean_dim2 = torch.mean(tensor.float(), dim=2)\n",
        "\n",
        "print(\"Sum along dim=2:\\n\", sum_dim2)\n",
        "print(\"Mean along dim=2:\\n\", mean_dim2)"
      ],
      "metadata": {
        "colab": {
          "base_uri": "https://localhost:8080/"
        },
        "id": "V4e0BH433p3n",
        "outputId": "aa948b31-5769-4482-a72f-eb457b851ab6"
      },
      "execution_count": null,
      "outputs": [
        {
          "output_type": "stream",
          "name": "stdout",
          "text": [
            "========================================\n",
            "Sum along dim=0:\n",
            " tensor([[14, 12,  4],\n",
            "        [22, 12, 22],\n",
            "        [20,  3, 19]])\n",
            "Mean along dim=0:\n",
            " tensor([[4.6667, 4.0000, 1.3333],\n",
            "        [7.3333, 4.0000, 7.3333],\n",
            "        [6.6667, 1.0000, 6.3333]])\n",
            "========================================\n",
            "Sum along dim=1:\n",
            " tensor([[22,  8, 14],\n",
            "        [22,  8, 14],\n",
            "        [12, 11, 17]])\n",
            "Mean along dim=1:\n",
            " tensor([[7.3333, 2.6667, 4.6667],\n",
            "        [7.3333, 2.6667, 4.6667],\n",
            "        [4.0000, 3.6667, 5.6667]])\n",
            "========================================\n",
            "Sum along dim=2:\n",
            " tensor([[10, 21, 13],\n",
            "        [10, 21, 13],\n",
            "        [10, 14, 16]])\n",
            "Mean along dim=2:\n",
            " tensor([[3.3333, 7.0000, 4.3333],\n",
            "        [3.3333, 7.0000, 4.3333],\n",
            "        [3.3333, 4.6667, 5.3333]])\n"
          ]
        }
      ]
    },
    {
      "cell_type": "markdown",
      "source": [
        "■ 중간문제: 곱셈,평균, 덧셈 훈련"
      ],
      "metadata": {
        "id": "vG29W4TN0ugS"
      }
    },
    {
      "cell_type": "code",
      "source": [
        "t = torch.tensor([[3, 6], [9, 12]], dtype=torch.float32)\n",
        "t.mean(dim=1)"
      ],
      "metadata": {
        "colab": {
          "base_uri": "https://localhost:8080/"
        },
        "id": "1IA5C6sNsXzq",
        "outputId": "9421f705-6962-4dab-f07f-23d029c45acd"
      },
      "execution_count": null,
      "outputs": [
        {
          "output_type": "execute_result",
          "data": {
            "text/plain": [
              "tensor([ 4.5000, 10.5000])"
            ]
          },
          "metadata": {},
          "execution_count": 19
        }
      ]
    },
    {
      "cell_type": "code",
      "source": [
        "# 작성 예시:\n",
        "# 1. m1 = torch.tensor([[1, 2], [3, 4]])\n",
        "#    m2 = torch.tensor([[5, 6], [7, 8]])\n",
        "#    result = m1.matmul(m2)\n",
        "#    답: tensor([[19, 22], [43, 50]])\n",
        "\n",
        "# 2. m1 = torch.tensor([[2, 0], [1, 3]])\n",
        "#    m2 = torch.tensor([[3, 4], [2, 1]])\n",
        "#    result = m1.matmul(m2)\n",
        "#    답:tensor([[6, 8], [9, 7]])\n",
        "\n",
        "# 3. m1 = torch.tensor([[1, 2, 3], [4, 5, 6]])\n",
        "#    m2 = torch.tensor([[7, 8], [9, 10], [11, 12]])\n",
        "#    result = m1.matmul(m2)\n",
        "#    답:tensor([[ 58,  64], [139, 154]])\n",
        "\n",
        "# 4. t = torch.tensor([[1, 2], [3, 4]])\n",
        "#    result = t.mean()\n",
        "#    답:tensor(6.5000)\n",
        "\n",
        "# 5. t = torch.tensor([[3, 6], [9, 12]])\n",
        "#    result = t.mean(dim=1)\n",
        "#    답:tensor([ 4.5000, 10.5000])\n",
        "\n",
        "# 6. t = torch.tensor([[1, 1, 1], [2, 2, 2]])\n",
        "#    result = t.mean(dim=0)\n",
        "#    답:tensor([1.5, 1.5, 1.5])\n",
        "\n",
        "# 7. t = torch.tensor([[1, 2], [3, 4]])\n",
        "#    result = t.sum(dim=0)\n",
        "#    답:tensor([4, 6])\n",
        "\n",
        "# 8. t = torch.tensor([[2, 4], [6, 8]])\n",
        "#    result = t.sum(dim=1)\n",
        "#    답:tensor([ 6, 14])\n",
        "\n",
        "# 9. t = torch.tensor([[1, 3], [5, 7]])\n",
        "#    result = t.sum()\n",
        "#    답:tensor(16)\n",
        "\n",
        "# 10. m1 = torch.tensor([[2, 4, 6]])\n",
        "#     m2 = torch.tensor([[1], [3], [5]])\n",
        "#     result = m1.matmul(m2)\n",
        "#     답:tensor([[44]])\n",
        "\n",
        "# 11. m1 = torch.tensor([[5, 6], [7, 8]])\n",
        "#     m2 = torch.tensor([[9, 10], [11, 12]])\n",
        "#     result = m1.matmul(m2)\n",
        "#     답:tensor([[111, 122], [139, 154]])\n",
        "\n",
        "# 12. t = torch.tensor([[2, 4], [6, 8]])\n",
        "#     result = t.mean(dim=1)\n",
        "#     답:tensor([3.0, 7.0])\n",
        "\n",
        "# 13. t = torch.tensor([[3, 3], [6, 6]])\n",
        "#     result = t.mean(dim=0)\n",
        "#     답:tensor([4.5, 4.5])\n",
        "\n",
        "# 14. t = torch.tensor([[1, 1], [2, 2]])\n",
        "#     result = t.sum(dim=1)\n",
        "#     답:tensor([2, 4])\n",
        "\n",
        "# 15. t = torch.tensor([[2, 2], [3, 3]])\n",
        "#     result = t.sum()\n",
        "#     답:tensor(10)\n",
        "\n",
        "# 16. m1 = torch.tensor([[1, 0, 2], [-1, 3, 1]])\n",
        "#     m2 = torch.tensor([[2, 3], [4, 5], [6, 7]])\n",
        "#     result = m1.matmul(m2)\n",
        "#     답:tensor([[14, 17], [16, 20]])\n",
        "\n",
        "# 17. t = torch.tensor([[5, 10], [15, 20]])\n",
        "#     result = t.mean(dim=1)\n",
        "#     답:tensor([7.5, 17.5])\n",
        "\n",
        "# 18. t = torch.tensor([[2, 5, 8], [3, 6, 9]])\n",
        "#     result = t.mean(dim=0)\n",
        "#     답:tensor([2.5, 5.5, 8.5])\n",
        "\n",
        "# 19. t = torch.tensor([[1, 2], [3, 4]])\n",
        "#     result = t.sum(dim=1)\n",
        "#     답:tensor([3, 7])\n",
        "\n",
        "# 20. t = torch.tensor([[1, 3, 5], [7, 9, 11]])\n",
        "#     result = t.sum(dim=0)\n",
        "#     답:tensor([ 8, 12, 16])\n"
      ],
      "metadata": {
        "id": "Jxd0dmgX0tw0"
      },
      "execution_count": null,
      "outputs": []
    },
    {
      "cell_type": "markdown",
      "source": [
        "### 2. 텐서 조작 - 7) Max와 ArgMax => 중요!! classification에 사용"
      ],
      "metadata": {
        "id": "5WEcFWwO3Lvy"
      }
    },
    {
      "cell_type": "code",
      "source": [
        "t = torch.FloatTensor([[1, 2], [3, 4]])\n",
        "print(t)"
      ],
      "metadata": {
        "colab": {
          "base_uri": "https://localhost:8080/"
        },
        "id": "U0Y5A2ra2-sa",
        "outputId": "cd0657f3-5bf6-410e-da9d-06a86a4c794e"
      },
      "execution_count": null,
      "outputs": [
        {
          "output_type": "stream",
          "name": "stdout",
          "text": [
            "tensor([[1., 2.],\n",
            "        [3., 4.]])\n"
          ]
        }
      ]
    },
    {
      "cell_type": "code",
      "source": [
        "print(t.max(dim=0))"
      ],
      "metadata": {
        "colab": {
          "base_uri": "https://localhost:8080/"
        },
        "id": "H6OpUFTA1DLE",
        "outputId": "f11eb63d-18dc-4ab0-a09b-ec866d2d3a45"
      },
      "execution_count": null,
      "outputs": [
        {
          "output_type": "stream",
          "name": "stdout",
          "text": [
            "torch.return_types.max(\n",
            "values=tensor([3., 4.]),\n",
            "indices=tensor([1, 1]))\n"
          ]
        }
      ]
    },
    {
      "cell_type": "code",
      "source": [
        "print(t.max(dim=0)[0])"
      ],
      "metadata": {
        "colab": {
          "base_uri": "https://localhost:8080/"
        },
        "id": "ELeIpeYO1FFd",
        "outputId": "97ded2e3-42e9-4d57-e5cb-25d1a6864abf"
      },
      "execution_count": null,
      "outputs": [
        {
          "output_type": "stream",
          "name": "stdout",
          "text": [
            "tensor([3., 4.])\n"
          ]
        }
      ]
    },
    {
      "cell_type": "code",
      "source": [
        "print(t.max(dim=0)[1]) #argmax와 같음"
      ],
      "metadata": {
        "colab": {
          "base_uri": "https://localhost:8080/"
        },
        "id": "DMGT80i53TA4",
        "outputId": "e8891a5a-27f4-4306-a49d-e53938ce4fdf"
      },
      "execution_count": null,
      "outputs": [
        {
          "output_type": "stream",
          "name": "stdout",
          "text": [
            "tensor([1, 1])\n"
          ]
        }
      ]
    },
    {
      "cell_type": "code",
      "source": [
        "print(\"argmax:\", t.argmax(0) ) # 0 방향으로 최대값의 위치"
      ],
      "metadata": {
        "colab": {
          "base_uri": "https://localhost:8080/"
        },
        "id": "wglt8vEy1JCk",
        "outputId": "884f0ef6-8a67-4f8f-da20-f1b9e1dccf4a"
      },
      "execution_count": null,
      "outputs": [
        {
          "output_type": "stream",
          "name": "stdout",
          "text": [
            "argmax: tensor([1, 1])\n"
          ]
        }
      ]
    },
    {
      "cell_type": "markdown",
      "source": [
        "■ 중간문제: max, argmax 훈련"
      ],
      "metadata": {
        "id": "qGgB99me5MC5"
      }
    },
    {
      "cell_type": "code",
      "source": [
        "t = torch.tensor([[8, 3, 7], [2, 9, 4]])\n",
        "torch.argmax(t, dim=1)"
      ],
      "metadata": {
        "colab": {
          "base_uri": "https://localhost:8080/"
        },
        "id": "QyFtjmmcDMzF",
        "outputId": "91d25010-9a46-41b1-a765-bd5458516255"
      },
      "execution_count": null,
      "outputs": [
        {
          "output_type": "execute_result",
          "data": {
            "text/plain": [
              "tensor([0, 1])"
            ]
          },
          "metadata": {},
          "execution_count": 6
        }
      ]
    },
    {
      "cell_type": "code",
      "source": [
        "# 1. t = torch.tensor([[1, 3, 5], [7, 9, 11]])\n",
        "#    result = torch.max(t)\n",
        "#    답: tensor(11)\n",
        "\n",
        "# 2. t = torch.tensor([[4, 7, 2], [5, 8, 1]])\n",
        "#    result = torch.max(t, dim=0)\n",
        "#    답:values=tensor([5, 8, 2]), indices=tensor([1, 1, 0])\n",
        "\n",
        "# 3. t = torch.tensor([[1, 3, 5], [7, 9, 11]])\n",
        "#    result = torch.argmax(t, dim=1)\n",
        "#    답:values=tensor([ 5, 11]), indices=tensor([2, 2])\n",
        "\n",
        "# 4. t = torch.tensor([[10, 20, 30], [40, 50, 60], [15, 25, 35]])\n",
        "#    result = torch.max(t, dim=1)\n",
        "#    답:values=tensor([ 40, 50, 60]), indices=tensor([2, 2, 2])\n",
        "\n",
        "# 5. t = torch.tensor([[1, 2, 3], [4, 5, 6], [7, 8, 9]])\n",
        "#    result = torch.argmax(t)\n",
        "#    답:tensor(8)\n",
        "\n",
        "# 6. t = torch.tensor([[0, 1, 2], [2, 1, 0], [3, 4, 5]])\n",
        "#    result = torch.argmax(t, dim=0)\n",
        "#    답:tensor([2, 2, 2])\n",
        "\n",
        "\n",
        "# 7. t = torch.tensor([[8, 3, 7], [2, 9, 4]])\n",
        "#    result = torch.argmax(t, dim=1)\n",
        "#    답:tensor([0, 1])\n",
        "\n",
        "# 8. t = torch.tensor([[9, 6, 3], [2, 5, 8]])\n",
        "#     result = torch.max(t, dim=0)\n",
        "#     답:values=tensor([9, 6, 8]), indices=tensor([0, 0, 1])\n",
        "\n",
        "# 9. t = torch.tensor([[[1, 4, 7], [2, 5, 8]], [[3, 6, 9], [4, 7, 10]]])\n",
        "#     result = torch.argmax(t, dim=2)\n",
        "#     답:tensor([[2, 2], [2, 2]])\n",
        "\n",
        "\n",
        "# 10. t = torch.tensor([[1, 2], [3, 4], [5, 6]])\n",
        "#     result = torch.argmax(t, dim=1)\n",
        "#     답:\n",
        "\n",
        "# 11. t = torch.tensor([[2, 7, 1], [4, 3, 6], [5, 9, 0]])\n",
        "#     result = torch.max(t, dim=1)\n",
        "#     답:tensor([1, 1, 1])\n",
        "\n",
        "\n",
        "# 12. t = torch.tensor([[4, 1, 6], [7, 2, 8], [3, 5, 9]])\n",
        "#     result = torch.argmax(t, dim=0)\n",
        "#     답:tensor([1, 2, 2])\n",
        "\n",
        "# 13. t = torch.tensor([[10, 20, 30], [15, 25, 35], [5, 15, 25]])\n",
        "#     result = torch.max(t, dim=1)\n",
        "#     답:values=tensor([30, 35, 25]), indices=tensor([2, 2, 2])\n"
      ],
      "metadata": {
        "id": "mBw8wAFa4w2X"
      },
      "execution_count": null,
      "outputs": []
    },
    {
      "cell_type": "markdown",
      "source": [
        "### 2. 텐서 조작 - 8) 뷰(view)"
      ],
      "metadata": {
        "id": "KFEs5AJY4Din"
      }
    },
    {
      "cell_type": "code",
      "source": [
        "import numpy as np\n",
        "import torch\n",
        "\n",
        "t = np.array([[[0, 1, 2],\n",
        "               [3, 4, 5]],\n",
        "              [[6, 7, 8],\n",
        "               [9, 10, 11]]])\n",
        "ft = torch.FloatTensor(t)"
      ],
      "metadata": {
        "id": "t1g57Us836w-"
      },
      "execution_count": null,
      "outputs": []
    },
    {
      "cell_type": "code",
      "source": [
        "# 차원부터 확인하자\n",
        "print(ft.shape)"
      ],
      "metadata": {
        "colab": {
          "base_uri": "https://localhost:8080/"
        },
        "id": "29xeWG8G4JCr",
        "outputId": "8f5dac4a-d36f-4fc8-f1c4-98d591db5e8b"
      },
      "execution_count": null,
      "outputs": [
        {
          "output_type": "stream",
          "name": "stdout",
          "text": [
            "torch.Size([2, 2, 3])\n"
          ]
        }
      ]
    },
    {
      "cell_type": "code",
      "source": [
        "# 3차원 텐서에서 2차원 텐서로 변경\n",
        "print(ft.view([-1, 3])) # ft라는 텐서를 (?, 3)의 크기로 변경\n",
        "print(ft.view([-1, 3]).shape)"
      ],
      "metadata": {
        "colab": {
          "base_uri": "https://localhost:8080/"
        },
        "id": "mf947y2F4MDQ",
        "outputId": "2534b222-c30b-41b2-d231-77128a7a28ab"
      },
      "execution_count": null,
      "outputs": [
        {
          "output_type": "stream",
          "name": "stdout",
          "text": [
            "tensor([[ 0.,  1.,  2.],\n",
            "        [ 3.,  4.,  5.],\n",
            "        [ 6.,  7.,  8.],\n",
            "        [ 9., 10., 11.]])\n",
            "torch.Size([4, 3])\n"
          ]
        }
      ]
    },
    {
      "cell_type": "code",
      "source": [
        "# 3차원 텐서의 크기 변경\n",
        "print(ft.view([-1, 1, 3]))     # ? x 1 x 3 에 맞춰라, ?는 맞게 크기를 알아서 지정해라.\n",
        "print(ft.view([-1, 1, 3]).shape)"
      ],
      "metadata": {
        "colab": {
          "base_uri": "https://localhost:8080/"
        },
        "id": "F25TSAcO4TYE",
        "outputId": "1f9b67b2-438c-42fd-8aa0-e49f32c36cb2"
      },
      "execution_count": null,
      "outputs": [
        {
          "output_type": "stream",
          "name": "stdout",
          "text": [
            "tensor([[[ 0.,  1.,  2.]],\n",
            "\n",
            "        [[ 3.,  4.,  5.]],\n",
            "\n",
            "        [[ 6.,  7.,  8.]],\n",
            "\n",
            "        [[ 9., 10., 11.]]])\n",
            "torch.Size([4, 1, 3])\n"
          ]
        }
      ]
    },
    {
      "cell_type": "markdown",
      "source": [
        "### 2. 텐서 조작 - 9) 스퀴지(Squeeze) - 1인 차원을 제거한다."
      ],
      "metadata": {
        "id": "O_WwPF0w4s06"
      }
    },
    {
      "cell_type": "code",
      "source": [
        "ft = torch.FloatTensor([[0], [1], [2]])\n",
        "print(ft)\n",
        "print(ft.shape)"
      ],
      "metadata": {
        "colab": {
          "base_uri": "https://localhost:8080/"
        },
        "id": "KJqpIE3E4o1X",
        "outputId": "984942dc-279e-4eb4-c6f0-39f888aa3c54"
      },
      "execution_count": null,
      "outputs": [
        {
          "output_type": "stream",
          "name": "stdout",
          "text": [
            "tensor([[0.],\n",
            "        [1.],\n",
            "        [2.]])\n",
            "torch.Size([3, 1])\n"
          ]
        }
      ]
    },
    {
      "cell_type": "code",
      "source": [
        "print(ft.squeeze())      # 2차원에서 1차원으로 줄여라\n",
        "print(ft.squeeze().shape)"
      ],
      "metadata": {
        "colab": {
          "base_uri": "https://localhost:8080/"
        },
        "id": "s9Ir1gzL40Zn",
        "outputId": "8e5be0c6-5dd9-41f6-d39d-08bcd1c5a6cb"
      },
      "execution_count": null,
      "outputs": [
        {
          "output_type": "stream",
          "name": "stdout",
          "text": [
            "tensor([0., 1., 2.])\n",
            "torch.Size([3])\n"
          ]
        }
      ]
    },
    {
      "cell_type": "markdown",
      "source": [
        "### 헷갈릴 수 있으니, 아래도 해보자! - 차원을 줄이는건 앞이던 뒤던 줄인다."
      ],
      "metadata": {
        "id": "t5yNQ9415C4p"
      }
    },
    {
      "cell_type": "code",
      "source": [
        "ft = torch.FloatTensor([[0, 1, 2]])\n",
        "print(ft)\n",
        "print(ft.shape)"
      ],
      "metadata": {
        "colab": {
          "base_uri": "https://localhost:8080/"
        },
        "id": "XIWTYbQW40uR",
        "outputId": "2d5f954a-23cf-4c1f-9467-8f6d4cede2e5"
      },
      "execution_count": null,
      "outputs": [
        {
          "output_type": "stream",
          "name": "stdout",
          "text": [
            "tensor([[0., 1., 2.]])\n",
            "torch.Size([1, 3])\n"
          ]
        }
      ]
    },
    {
      "cell_type": "code",
      "source": [
        "print(ft.squeeze())      # 2차원에서 1차원으로 줄여라\n",
        "print(ft.squeeze().shape)"
      ],
      "metadata": {
        "colab": {
          "base_uri": "https://localhost:8080/"
        },
        "id": "bCR_W07j4_Yb",
        "outputId": "d490a02e-142e-435d-fa8d-d62dd263a00a"
      },
      "execution_count": null,
      "outputs": [
        {
          "output_type": "stream",
          "name": "stdout",
          "text": [
            "tensor([0., 1., 2.])\n",
            "torch.Size([3])\n"
          ]
        }
      ]
    },
    {
      "cell_type": "markdown",
      "source": [
        "### 2. 텐서 조작 - 10) 언스퀴지(Unsqueeze) - ★특정 위치★에 1인 차원을 추가한다."
      ],
      "metadata": {
        "id": "N9JtEAog5OpW"
      }
    },
    {
      "cell_type": "code",
      "source": [
        "ft = torch.Tensor([0, 1, 2]) # 이게 중심으로 진행되니 shape을 꼭 기억하자.\n",
        "print(ft.shape)"
      ],
      "metadata": {
        "colab": {
          "base_uri": "https://localhost:8080/"
        },
        "id": "u-3y1gNF5BxW",
        "outputId": "2dcfa15e-1b65-4752-f0b3-9c7d2f7ad16b"
      },
      "execution_count": null,
      "outputs": [
        {
          "output_type": "stream",
          "name": "stdout",
          "text": [
            "torch.Size([3])\n"
          ]
        }
      ]
    },
    {
      "cell_type": "markdown",
      "source": [
        "### 차원추가① - Unsqueeze로 차원 추가해보기!"
      ],
      "metadata": {
        "id": "Ab7-F1Dj6JUb"
      }
    },
    {
      "cell_type": "code",
      "source": [
        "print(ft.unsqueeze(0)) # 인덱스가 0부터 시작하므로 0은 첫번째 차원을 의미한다.\n",
        "print(ft.unsqueeze(0).shape)"
      ],
      "metadata": {
        "colab": {
          "base_uri": "https://localhost:8080/"
        },
        "id": "-xkGwnpX5Yef",
        "outputId": "89a8bf08-7e67-4615-87cd-f740183158a8"
      },
      "execution_count": null,
      "outputs": [
        {
          "output_type": "stream",
          "name": "stdout",
          "text": [
            "tensor([[0., 1., 2.]])\n",
            "torch.Size([1, 3])\n"
          ]
        }
      ]
    },
    {
      "cell_type": "markdown",
      "source": [
        "### 차원추가② - view로도 Unsqueeze가 가능하다!"
      ],
      "metadata": {
        "id": "GJYGgA2h5nBl"
      }
    },
    {
      "cell_type": "code",
      "source": [
        "print(ft.view(1, -1))      # 1 x ? 차원으로 만든다. ?의 의미가 뭐였죠~?\n",
        "print(ft.view(1, -1).shape)"
      ],
      "metadata": {
        "colab": {
          "base_uri": "https://localhost:8080/"
        },
        "id": "08PlcKe05cRt",
        "outputId": "d878e911-d4cb-4131-bfa3-b72e9e3a065f"
      },
      "execution_count": null,
      "outputs": [
        {
          "output_type": "stream",
          "name": "stdout",
          "text": [
            "tensor([[0., 1., 2.]])\n",
            "torch.Size([1, 3])\n"
          ]
        }
      ]
    },
    {
      "cell_type": "markdown",
      "source": [
        "### 차원추가③ - 차원을 특정 위치에 추가해보자!"
      ],
      "metadata": {
        "id": "UIpnljGo6CN1"
      }
    },
    {
      "cell_type": "code",
      "source": [
        "print(ft.unsqueeze(1))\n",
        "print(ft.unsqueeze(1).shape)"
      ],
      "metadata": {
        "colab": {
          "base_uri": "https://localhost:8080/"
        },
        "id": "-MF0z9lW5huX",
        "outputId": "ecd6b86c-ebe8-445f-b72d-edd94fc0de25"
      },
      "execution_count": null,
      "outputs": [
        {
          "output_type": "stream",
          "name": "stdout",
          "text": [
            "tensor([[0.],\n",
            "        [1.],\n",
            "        [2.]])\n",
            "torch.Size([3, 1])\n"
          ]
        }
      ]
    },
    {
      "cell_type": "markdown",
      "source": [
        "### 2. 텐서 조작 - 11) 텐서타입은 뭐가 있나요?"
      ],
      "metadata": {
        "id": "AmfNbz6f6fVx"
      }
    },
    {
      "cell_type": "markdown",
      "source": [
        "![image.png](data:image/png;base64,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)"
      ],
      "metadata": {
        "id": "FnMBAf076jGa"
      }
    },
    {
      "cell_type": "markdown",
      "source": [
        "### 리스트를 텐서로 바꿀 때 타입 지정"
      ],
      "metadata": {
        "id": "0C3fWiKu61w_"
      }
    },
    {
      "cell_type": "code",
      "source": [
        "lt = torch.LongTensor([1, 2, 3, 4])\n",
        "print(lt)"
      ],
      "metadata": {
        "colab": {
          "base_uri": "https://localhost:8080/"
        },
        "id": "yNEPn8MU6ivR",
        "outputId": "9d31bfe1-c1e0-4cb1-ffdf-eb9fd2a51124"
      },
      "execution_count": null,
      "outputs": [
        {
          "output_type": "stream",
          "name": "stdout",
          "text": [
            "tensor([1, 2, 3, 4])\n"
          ]
        }
      ]
    },
    {
      "cell_type": "code",
      "source": [
        "bt = torch.ByteTensor([True, False, False, True])\n",
        "print(bt)"
      ],
      "metadata": {
        "colab": {
          "base_uri": "https://localhost:8080/"
        },
        "id": "n3hCxA-k6kkq",
        "outputId": "5344b590-46d8-4e38-c46f-58557977d1a6"
      },
      "execution_count": null,
      "outputs": [
        {
          "output_type": "stream",
          "name": "stdout",
          "text": [
            "tensor([1, 0, 0, 1], dtype=torch.uint8)\n"
          ]
        }
      ]
    },
    {
      "cell_type": "markdown",
      "source": [
        "### 텐서에서 타입지정"
      ],
      "metadata": {
        "id": "1qDE-f8K643t"
      }
    },
    {
      "cell_type": "code",
      "source": [
        "print(bt.long()) # 뒤에 붙이기만해도 타입이 바뀐다!\n",
        "print(bt.float()) # 뒤에 붙이기만해도 타입이 바뀐다!"
      ],
      "metadata": {
        "colab": {
          "base_uri": "https://localhost:8080/"
        },
        "id": "v86IMPPk6mfC",
        "outputId": "9e5f9d47-4db1-4592-e0bb-cb914d268351"
      },
      "execution_count": null,
      "outputs": [
        {
          "output_type": "stream",
          "name": "stdout",
          "text": [
            "tensor([1, 0, 0, 1])\n",
            "tensor([1., 0., 0., 1.])\n"
          ]
        }
      ]
    },
    {
      "cell_type": "markdown",
      "source": [
        "### 2. 텐서 조작 - 12) 연결하기 : cat => 차원을 먼저 늘린 후에, 쌓아야 함"
      ],
      "metadata": {
        "id": "AvAriBFf7VHl"
      }
    },
    {
      "cell_type": "code",
      "source": [
        "x = torch.FloatTensor([[1, 2], [3, 4]])\n",
        "y = torch.FloatTensor([[5, 6], [7, 8]])"
      ],
      "metadata": {
        "id": "69AarE6N6zIb"
      },
      "execution_count": null,
      "outputs": []
    },
    {
      "cell_type": "code",
      "source": [
        "print(torch.cat([x, y], dim=0))"
      ],
      "metadata": {
        "colab": {
          "base_uri": "https://localhost:8080/"
        },
        "id": "_TmitGCk7YXL",
        "outputId": "c909e63d-36f3-4c9f-f983-8c36d499a3fa"
      },
      "execution_count": null,
      "outputs": [
        {
          "output_type": "stream",
          "name": "stdout",
          "text": [
            "tensor([[1., 2.],\n",
            "        [3., 4.],\n",
            "        [5., 6.],\n",
            "        [7., 8.]])\n"
          ]
        }
      ]
    },
    {
      "cell_type": "code",
      "source": [
        "print(torch.cat([x, y], dim=1))"
      ],
      "metadata": {
        "colab": {
          "base_uri": "https://localhost:8080/"
        },
        "id": "ydU5wmh57aw-",
        "outputId": "85ed86f0-d7f5-46a9-c358-3a736e406afa"
      },
      "execution_count": null,
      "outputs": [
        {
          "output_type": "stream",
          "name": "stdout",
          "text": [
            "tensor([[1., 2., 5., 6.],\n",
            "        [3., 4., 7., 8.]])\n"
          ]
        }
      ]
    },
    {
      "cell_type": "markdown",
      "source": [
        "### 2. 텐서 조작 - 13) 쌓기 또는 스택킹(Stacking) => 알아서 차원이 늘어남"
      ],
      "metadata": {
        "id": "yT8_yHxd7dEV"
      }
    },
    {
      "cell_type": "code",
      "source": [
        "x = torch.FloatTensor([1, 4])\n",
        "y = torch.FloatTensor([2, 5])\n",
        "z = torch.FloatTensor([3, 6])"
      ],
      "metadata": {
        "id": "C9oIyk1B7bJ3"
      },
      "execution_count": null,
      "outputs": []
    },
    {
      "cell_type": "code",
      "source": [
        "# 세로방향으로 쌓기\n",
        "print(torch.stack([x, y, z]))"
      ],
      "metadata": {
        "colab": {
          "base_uri": "https://localhost:8080/"
        },
        "id": "Pve3sv7N7Lfk",
        "outputId": "9d4bbef8-f8b8-46eb-ce7d-6cab6d2760c5"
      },
      "execution_count": null,
      "outputs": [
        {
          "output_type": "stream",
          "name": "stdout",
          "text": [
            "tensor([[1., 4.],\n",
            "        [2., 5.],\n",
            "        [3., 6.]])\n"
          ]
        }
      ]
    },
    {
      "cell_type": "code",
      "source": [
        "# 가로방향으로 쌓기\n",
        "print(torch.stack([x, y, z], dim=1))"
      ],
      "metadata": {
        "colab": {
          "base_uri": "https://localhost:8080/"
        },
        "id": "jhdFGy-17nDC",
        "outputId": "7cd3f17a-7ec4-4050-def0-a6dc1fc85533"
      },
      "execution_count": null,
      "outputs": [
        {
          "output_type": "stream",
          "name": "stdout",
          "text": [
            "tensor([[1., 2., 3.],\n",
            "        [4., 5., 6.]])\n"
          ]
        }
      ]
    },
    {
      "cell_type": "code",
      "source": [
        "# cat은 좀 다르죠?\n",
        "print(torch.cat([x, y, z], dim=0))"
      ],
      "metadata": {
        "colab": {
          "base_uri": "https://localhost:8080/"
        },
        "id": "exWeMJxb7HBD",
        "outputId": "7eeece04-3eb1-4b47-8f26-eaee3f55955b"
      },
      "execution_count": null,
      "outputs": [
        {
          "output_type": "stream",
          "name": "stdout",
          "text": [
            "tensor([1., 4., 2., 5., 3., 6.])\n"
          ]
        }
      ]
    },
    {
      "cell_type": "code",
      "source": [
        "# 그래서 차원을 합칠때의 차원으로 먼저 만들어줘야 한다!\n",
        "print(torch.cat([x.unsqueeze(0), y.unsqueeze(0), z.unsqueeze(0)], dim=0))"
      ],
      "metadata": {
        "colab": {
          "base_uri": "https://localhost:8080/"
        },
        "id": "hvDlGRG27nzv",
        "outputId": "27303fd9-4c23-407c-ac9f-2079a20fd447"
      },
      "execution_count": null,
      "outputs": [
        {
          "output_type": "stream",
          "name": "stdout",
          "text": [
            "tensor([[1., 4.],\n",
            "        [2., 5.],\n",
            "        [3., 6.]])\n"
          ]
        }
      ]
    },
    {
      "cell_type": "markdown",
      "source": [
        "### 2. 텐서 조작 - 14) ones_like와 zeros_like - 0으로 채워진 텐서와 1로 채워진 텐서\n"
      ],
      "metadata": {
        "id": "PyUGf8gA8REd"
      }
    },
    {
      "cell_type": "code",
      "source": [
        "x = torch.FloatTensor([[0, 1, 2], [2, 1, 0]])\n",
        "print(x)"
      ],
      "metadata": {
        "colab": {
          "base_uri": "https://localhost:8080/"
        },
        "id": "kcH9c4LT8Oy2",
        "outputId": "345c6343-d8dc-47d8-9df8-1001f3a5cde9"
      },
      "execution_count": null,
      "outputs": [
        {
          "output_type": "stream",
          "name": "stdout",
          "text": [
            "tensor([[0., 1., 2.],\n",
            "        [2., 1., 0.]])\n"
          ]
        }
      ]
    },
    {
      "cell_type": "code",
      "source": [
        "print(torch.ones_like(x)) # x와 동일한 차원의 one 텐서를 만든다."
      ],
      "metadata": {
        "colab": {
          "base_uri": "https://localhost:8080/"
        },
        "id": "oxHSX7r28jbs",
        "outputId": "c3039fcf-572c-4b4d-d4f6-b6d678515237"
      },
      "execution_count": null,
      "outputs": [
        {
          "output_type": "stream",
          "name": "stdout",
          "text": [
            "tensor([[1., 1., 1.],\n",
            "        [1., 1., 1.]])\n"
          ]
        }
      ]
    },
    {
      "cell_type": "code",
      "source": [
        "print(torch.zeros_like(x)) # x와 동일한 차원의 zero 텐서를 만든다."
      ],
      "metadata": {
        "colab": {
          "base_uri": "https://localhost:8080/"
        },
        "id": "6Io0fg148lrj",
        "outputId": "580accf5-d46e-40c6-a22a-b5813692066d"
      },
      "execution_count": null,
      "outputs": [
        {
          "output_type": "stream",
          "name": "stdout",
          "text": [
            "tensor([[0., 0., 0.],\n",
            "        [0., 0., 0.]])\n"
          ]
        }
      ]
    },
    {
      "cell_type": "markdown",
      "source": [
        "### 2. 텐서 조작 - 15) 덮어쓰기 연산 : 중요!!!\n"
      ],
      "metadata": {
        "id": "saReF60-80hR"
      }
    },
    {
      "cell_type": "code",
      "source": [
        "x = torch.FloatTensor([[1, 2], [3, 4]])\n",
        "print(x.mul(2.)) # 곱하기 2를 수행한 결과를 출력"
      ],
      "metadata": {
        "colab": {
          "base_uri": "https://localhost:8080/"
        },
        "id": "0s5dtwZ78ms-",
        "outputId": "2e0b36d3-c08c-4591-acff-03f0885ec461"
      },
      "execution_count": null,
      "outputs": [
        {
          "output_type": "stream",
          "name": "stdout",
          "text": [
            "tensor([[2., 4.],\n",
            "        [6., 8.]])\n"
          ]
        }
      ]
    },
    {
      "cell_type": "code",
      "source": [
        "print(x) # 기존의 값 출력"
      ],
      "metadata": {
        "colab": {
          "base_uri": "https://localhost:8080/"
        },
        "id": "4h60h4Ev7gFl",
        "outputId": "6042f6a1-f4e3-46ab-c27a-f6399e98092e"
      },
      "execution_count": null,
      "outputs": [
        {
          "output_type": "stream",
          "name": "stdout",
          "text": [
            "tensor([[1., 2.],\n",
            "        [3., 4.]])\n"
          ]
        }
      ]
    },
    {
      "cell_type": "markdown",
      "source": [
        "### _를 붙이면 계산과 동시에 기존의 값을 덮어쓰기 합니다."
      ],
      "metadata": {
        "id": "YNckDSSG890W"
      }
    },
    {
      "cell_type": "code",
      "source": [
        "print(x.mul_(2.))  # 곱하기 2를 수행한 결과를 변수 x에 값을 저장하면서 결과를 출력"
      ],
      "metadata": {
        "colab": {
          "base_uri": "https://localhost:8080/"
        },
        "id": "y2wtcx3P85WL",
        "outputId": "223427de-1455-497e-e0fe-865a519be6e8"
      },
      "execution_count": null,
      "outputs": [
        {
          "output_type": "stream",
          "name": "stdout",
          "text": [
            "tensor([[2., 4.],\n",
            "        [6., 8.]])\n"
          ]
        }
      ]
    },
    {
      "cell_type": "code",
      "source": [
        "print(x) # 기존의 값 출력 (덮어쓰기 됨)"
      ],
      "metadata": {
        "colab": {
          "base_uri": "https://localhost:8080/"
        },
        "id": "GAGgGGRY7j-G",
        "outputId": "4112d6a7-fe2c-4520-c66c-a874050489c1"
      },
      "execution_count": null,
      "outputs": [
        {
          "output_type": "stream",
          "name": "stdout",
          "text": [
            "tensor([[2., 4.],\n",
            "        [6., 8.]])\n"
          ]
        }
      ]
    },
    {
      "cell_type": "markdown",
      "source": [
        "# 텐서 끝============================================================================"
      ],
      "metadata": {
        "id": "3UPnIfW55hTC"
      }
    },
    {
      "cell_type": "markdown",
      "source": [
        "## 3. Pytorch 딥러닝"
      ],
      "metadata": {
        "id": "8wy-PVxd9YmG"
      }
    },
    {
      "cell_type": "markdown",
      "source": [
        "### 1) torch를 사용하여 선형회귀로 대략적인 구조를 알아보자"
      ],
      "metadata": {
        "id": "l-W5-qlU9bqm"
      }
    },
    {
      "cell_type": "code",
      "source": [
        "import torch\n",
        "import torch.nn as nn\n",
        "import torch.nn.functional as F\n",
        "import torch.optim as optim"
      ],
      "metadata": {
        "id": "aXHmLbWS7rC0"
      },
      "execution_count": null,
      "outputs": []
    },
    {
      "cell_type": "code",
      "source": [
        "# 컴퓨터에 있는 random seed table은 컴퓨터마다 다르므로,\n",
        "# 현재 실습하고 있는 파이썬 코드를 재실행해도 다음에도 같은 결과가 나오도록 랜덤 시드(random seed)를 줍니다.\n",
        "torch.manual_seed(1)"
      ],
      "metadata": {
        "colab": {
          "base_uri": "https://localhost:8080/"
        },
        "id": "cEYDxeON7tdx",
        "outputId": "c1e2df10-25da-4b20-f8cc-fc39b5788019"
      },
      "execution_count": null,
      "outputs": [
        {
          "output_type": "execute_result",
          "data": {
            "text/plain": [
              "<torch._C.Generator at 0x7a0e9578cb50>"
            ]
          },
          "metadata": {},
          "execution_count": 2
        }
      ]
    },
    {
      "cell_type": "code",
      "source": [
        "# 데이터가 1, 2, 3 즉 3개가 있고, 정답 값도 2, 4, 6으로 3개가 있는걸 확인할 수 있다.\n",
        "x_train = torch.FloatTensor([[1], [2], [3]])\n",
        "y_train = torch.FloatTensor([[2], [4], [6]])\n",
        "# torch.FloatTensor : 토치에서는 텐서만 가능 (numpy는 안 됨)"
      ],
      "metadata": {
        "id": "3QiFXIh-87jr"
      },
      "execution_count": null,
      "outputs": []
    },
    {
      "cell_type": "code",
      "source": [
        "print(x_train)\n",
        "print(x_train.shape)"
      ],
      "metadata": {
        "colab": {
          "base_uri": "https://localhost:8080/"
        },
        "id": "HYX3pxHk9keP",
        "outputId": "b4823807-f07e-4b9b-bd55-387101e6871a"
      },
      "execution_count": null,
      "outputs": [
        {
          "output_type": "stream",
          "name": "stdout",
          "text": [
            "tensor([[1.],\n",
            "        [2.],\n",
            "        [3.]])\n",
            "torch.Size([3, 1])\n"
          ]
        }
      ]
    },
    {
      "cell_type": "code",
      "source": [
        "print(y_train)\n",
        "print(y_train.shape)"
      ],
      "metadata": {
        "colab": {
          "base_uri": "https://localhost:8080/"
        },
        "id": "olm9crPr9mC-",
        "outputId": "c5a24baa-418d-4465-8330-8a131e05f29c"
      },
      "execution_count": null,
      "outputs": [
        {
          "output_type": "stream",
          "name": "stdout",
          "text": [
            "tensor([[2.],\n",
            "        [4.],\n",
            "        [6.]])\n",
            "torch.Size([3, 1])\n"
          ]
        }
      ]
    },
    {
      "cell_type": "code",
      "source": [
        "# 가중치 W를 0으로 초기화하고, 학습(back prop)을 통해 값이 변경되는 변수임(requires_grad=True)을 명시함.\n",
        "W = torch.zeros(1, requires_grad=True) # requires_grad=True : 기울기를 구할 수 있는 옵션\n",
        "\n",
        "# 가중치 W를 출력\n",
        "print(W)"
      ],
      "metadata": {
        "colab": {
          "base_uri": "https://localhost:8080/"
        },
        "id": "3GhQQYEh9mgy",
        "outputId": "939d6be6-bec3-4687-d0ba-fbe289cb7d90"
      },
      "execution_count": null,
      "outputs": [
        {
          "output_type": "stream",
          "name": "stdout",
          "text": [
            "tensor([0.], requires_grad=True)\n"
          ]
        }
      ]
    },
    {
      "cell_type": "code",
      "source": [
        "# 가중치 b를 0으로 초기화하고, 학습을 통해 값이 변경되는 변수임을 명시함.\n",
        "b = torch.zeros(1, requires_grad=True)\n",
        "\n",
        "# 가중치 b를 출력\n",
        "print(b)"
      ],
      "metadata": {
        "colab": {
          "base_uri": "https://localhost:8080/"
        },
        "id": "vSK5eU249o3P",
        "outputId": "311aa40f-7128-4034-f477-35602f0be7e5"
      },
      "execution_count": null,
      "outputs": [
        {
          "output_type": "stream",
          "name": "stdout",
          "text": [
            "tensor([0.], requires_grad=True)\n"
          ]
        }
      ]
    },
    {
      "cell_type": "code",
      "source": [
        "# 확률적 경사하강법(SGD), 첫번째 인자는 최적화 시킬 learnable parameter를 주고([W, b]), 두번째 인자는 학습률(lr)을 명시해준다.\n",
        "optimizer = optim.SGD([W, b], lr=0.01)"
      ],
      "metadata": {
        "id": "rq3laB3e9rxV"
      },
      "execution_count": null,
      "outputs": []
    },
    {
      "cell_type": "code",
      "source": [
        "nb_epochs = 100  # 원하는만큼 경사 하강법을 반복\n",
        "for epoch in range(nb_epochs + 1):\n",
        "\n",
        "    # 선형회귀 모델\n",
        "    predict = x_train * W + b\n",
        "    '''\n",
        "    [[1],  * [0] => [[0], + [0] =\n",
        "     [2],             [0],\n",
        "     [3]]              [0]]\n",
        "    '''\n",
        "\n",
        "    # cost 계산 (Mean Square Error)\n",
        "    cost = torch.mean((predict - y_train) ** 2)  # ** : 제곱\n",
        "    '''\n",
        "    [[0],     - [[2],   =  ([[-2],\n",
        "     [0],        [4],       [-4],\n",
        "     [0]]        [6]]       [-6]]) ** 2\n",
        "    '''\n",
        "\n",
        "    # cost로 모델 개선\n",
        "    optimizer.zero_grad()  # (n번 학습할 때마다) 기울기 초기화\n",
        "    cost.backward()  # cost를 기반으로 미분(접선의 기울기) 계산\n",
        "    optimizer.step()  # 오차역전파법(back prop) 실행\n",
        "\n",
        "    # 100번마다 로그 출력\n",
        "    if epoch % 10 == 0:\n",
        "        print('Epoch {:4d}/{} W: {:.3f}, b: {:.3f} Cost: {:.6f}'.format(\n",
        "            epoch, nb_epochs, W.item(), b.item(), cost.item()\n",
        "        ))\n"
      ],
      "metadata": {
        "colab": {
          "base_uri": "https://localhost:8080/"
        },
        "id": "-msAQVJE9t2s",
        "outputId": "238b43b7-b68c-4c1d-98a8-4afb1b07421f"
      },
      "execution_count": null,
      "outputs": [
        {
          "output_type": "stream",
          "name": "stdout",
          "text": [
            "Epoch    0/100 W: 0.187, b: 0.080 Cost: 18.666666\n",
            "Epoch   10/100 W: 1.224, b: 0.516 Cost: 1.844294\n",
            "Epoch   20/100 W: 1.550, b: 0.638 Cost: 0.239337\n",
            "Epoch   30/100 W: 1.655, b: 0.665 Cost: 0.083519\n",
            "Epoch   40/100 W: 1.693, b: 0.662 Cost: 0.065829\n",
            "Epoch   50/100 W: 1.709, b: 0.650 Cost: 0.061424\n",
            "Epoch   60/100 W: 1.719, b: 0.636 Cost: 0.058413\n",
            "Epoch   70/100 W: 1.726, b: 0.621 Cost: 0.055656\n",
            "Epoch   80/100 W: 1.733, b: 0.607 Cost: 0.053039\n",
            "Epoch   90/100 W: 1.739, b: 0.592 Cost: 0.050546\n",
            "Epoch  100/100 W: 1.746, b: 0.578 Cost: 0.048171\n"
          ]
        }
      ]
    },
    {
      "cell_type": "markdown",
      "source": [
        "### ※ optimizer.zero_grad()가 필요한 이유\n",
        "\n",
        "### 파이토치는 미분을 통해 얻은 기울기를 이전에 계산된 기울기 값에 누적시키는 특징(단점)이 있다"
      ],
      "metadata": {
        "id": "gcwTPQXf92Ek"
      }
    },
    {
      "cell_type": "code",
      "source": [
        "import torch\n",
        "w = torch.tensor(2.0, requires_grad=True)\n",
        "optimizer = optim.SGD([w], lr=0.01)\n",
        "nb_epochs = 20\n",
        "for epoch in range(nb_epochs + 1):\n",
        "\n",
        "  # optimizer.zero_grad() : 얘를 돌리면 미분한 값이 누적이 되어버림\n",
        "  z = 2*w\n",
        "\n",
        "  z.backward()\n",
        "  print('수식을 w로 미분한 값 : {}'.format(w.grad))"
      ],
      "metadata": {
        "id": "BENAcr149wcf",
        "colab": {
          "base_uri": "https://localhost:8080/"
        },
        "outputId": "59c5b927-621d-4f42-d29e-fffe59ab0e91"
      },
      "execution_count": null,
      "outputs": [
        {
          "output_type": "stream",
          "name": "stdout",
          "text": [
            "수식을 w로 미분한 값 : 2.0\n",
            "수식을 w로 미분한 값 : 4.0\n",
            "수식을 w로 미분한 값 : 6.0\n",
            "수식을 w로 미분한 값 : 8.0\n",
            "수식을 w로 미분한 값 : 10.0\n",
            "수식을 w로 미분한 값 : 12.0\n",
            "수식을 w로 미분한 값 : 14.0\n",
            "수식을 w로 미분한 값 : 16.0\n",
            "수식을 w로 미분한 값 : 18.0\n",
            "수식을 w로 미분한 값 : 20.0\n",
            "수식을 w로 미분한 값 : 22.0\n",
            "수식을 w로 미분한 값 : 24.0\n",
            "수식을 w로 미분한 값 : 26.0\n",
            "수식을 w로 미분한 값 : 28.0\n",
            "수식을 w로 미분한 값 : 30.0\n",
            "수식을 w로 미분한 값 : 32.0\n",
            "수식을 w로 미분한 값 : 34.0\n",
            "수식을 w로 미분한 값 : 36.0\n",
            "수식을 w로 미분한 값 : 38.0\n",
            "수식을 w로 미분한 값 : 40.0\n",
            "수식을 w로 미분한 값 : 42.0\n"
          ]
        }
      ]
    },
    {
      "cell_type": "markdown",
      "source": [
        "### 2) 다중 선형 회귀를 matmul로 구현해보자\n",
        "* 다중(multinomial) 회귀: y = WX + WX + WX + b\n",
        "* 비교: 다항(polynomial) 회귀: y = WX^2 + WX + b"
      ],
      "metadata": {
        "id": "orVSPUmIAEqR"
      }
    },
    {
      "cell_type": "code",
      "source": [
        "# 해석하자면, 5개의 데이터가 있고, 각 데이터(X)는 3개씩 특성(피처)이 있습니다. => X = 5 x 3\n",
        "x_train  =  torch.FloatTensor([[73,  80,  75],\n",
        "                               [93,  88,  93],\n",
        "                               [89,  91,  80],\n",
        "                               [96,  98,  100],\n",
        "                               [73,  66,  70]])\n",
        "\n",
        "# 데이터(X)가 5개니까 정답(Y)이 5개 => Y = X*W =  (5x3) * (3x1) = 5 x 1\n",
        "y_train  =  torch.FloatTensor([[152],  [185],  [180],  [196],  [142]])"
      ],
      "metadata": {
        "id": "ERdFFfrt90QN"
      },
      "execution_count": null,
      "outputs": []
    },
    {
      "cell_type": "code",
      "source": [
        "print(x_train.shape)\n",
        "print(y_train.shape)"
      ],
      "metadata": {
        "colab": {
          "base_uri": "https://localhost:8080/"
        },
        "id": "3T2DFO5KALnC",
        "outputId": "bd28f5f1-743a-499c-aa12-a5f688759d9a"
      },
      "execution_count": null,
      "outputs": [
        {
          "output_type": "stream",
          "name": "stdout",
          "text": [
            "torch.Size([5, 3])\n",
            "torch.Size([5, 1])\n"
          ]
        }
      ]
    },
    {
      "cell_type": "code",
      "source": [
        "# 가중치와 편향 선언\n",
        "W = torch.zeros((3, 1), requires_grad=True)     # 피처가 3개니까, y = wx + wx + wx + b => W = 3 x 1\n",
        "b = torch.zeros(1, requires_grad=True)          # b는 브로드캐스팅 연산을 하므로, 1"
      ],
      "metadata": {
        "id": "qCawkc8OAL3q"
      },
      "execution_count": null,
      "outputs": []
    },
    {
      "cell_type": "code",
      "source": [
        "# optimizer 설정\n",
        "optimizer = optim.SGD([W, b], lr=1e-5)\n",
        "nb_epochs = 20\n",
        "for epoch in range(nb_epochs + 1):\n",
        "\n",
        "    # 모델\n",
        "    # 편향 b는 브로드 캐스팅되어 각 샘플에 더해집니다.\n",
        "    predict = x_train.matmul(W) + b\n",
        "    '''\n",
        "        [[첫번째데이터예측값],\n",
        "        [두번째데이터예측값],\n",
        "        [세번째데이터예측값],\n",
        "        [네번째데이터예측값],\n",
        "        [다섯번째데이터예측값]]\n",
        "    '''\n",
        "    # cost 계산 Mean Square Error\n",
        "    cost = torch.mean((predict - y_train) ** 2)\n",
        "\n",
        "    # cost로 H(x) 개선\n",
        "    optimizer.zero_grad()\n",
        "    cost.backward()\n",
        "    optimizer.step()\n",
        "\n",
        "    print('Epoch {:4d}/{} predict: {} Cost: {:.6f}'.format(\n",
        "        epoch, nb_epochs, predict.squeeze().detach(), cost.item() # detach는 기울기가 전파되지 않는 텐서를 만드는 것\n",
        "    ))"
      ],
      "metadata": {
        "colab": {
          "base_uri": "https://localhost:8080/"
        },
        "id": "LiqBDPz1BN6D",
        "outputId": "63888942-5450-4254-ce82-ab27ed7cbcb2"
      },
      "execution_count": null,
      "outputs": [
        {
          "output_type": "stream",
          "name": "stdout",
          "text": [
            "Epoch    0/20 predict: tensor([0., 0., 0., 0., 0.]) Cost: 29661.800781\n",
            "Epoch    1/20 predict: tensor([66.7178, 80.1701, 76.1025, 86.0194, 61.1565]) Cost: 9537.694336\n",
            "Epoch    2/20 predict: tensor([104.5421, 125.6208, 119.2478, 134.7862,  95.8280]) Cost: 3069.590088\n",
            "Epoch    3/20 predict: tensor([125.9858, 151.3882, 143.7087, 162.4333, 115.4844]) Cost: 990.670288\n",
            "Epoch    4/20 predict: tensor([138.1429, 165.9963, 157.5768, 178.1071, 126.6283]) Cost: 322.481873\n",
            "Epoch    5/20 predict: tensor([145.0350, 174.2780, 165.4395, 186.9928, 132.9461]) Cost: 107.717064\n",
            "Epoch    6/20 predict: tensor([148.9423, 178.9730, 169.8976, 192.0301, 136.5279]) Cost: 38.687496\n",
            "Epoch    7/20 predict: tensor([151.1574, 181.6346, 172.4254, 194.8856, 138.5585]) Cost: 16.499043\n",
            "Epoch    8/20 predict: tensor([152.4131, 183.1435, 173.8590, 196.5043, 139.7097]) Cost: 9.365656\n",
            "Epoch    9/20 predict: tensor([153.1250, 183.9988, 174.6723, 197.4217, 140.3625]) Cost: 7.071114\n",
            "Epoch   10/20 predict: tensor([153.5285, 184.4835, 175.1338, 197.9415, 140.7325]) Cost: 6.331847\n",
            "Epoch   11/20 predict: tensor([153.7572, 184.7582, 175.3958, 198.2360, 140.9424]) Cost: 6.092532\n",
            "Epoch   12/20 predict: tensor([153.8868, 184.9138, 175.5449, 198.4026, 141.0613]) Cost: 6.013817\n",
            "Epoch   13/20 predict: tensor([153.9602, 185.0019, 175.6299, 198.4969, 141.1288]) Cost: 5.986785\n",
            "Epoch   14/20 predict: tensor([154.0017, 185.0517, 175.6785, 198.5500, 141.1671]) Cost: 5.976325\n",
            "Epoch   15/20 predict: tensor([154.0252, 185.0798, 175.7065, 198.5800, 141.1888]) Cost: 5.971208\n",
            "Epoch   16/20 predict: tensor([154.0385, 185.0956, 175.7229, 198.5966, 141.2012]) Cost: 5.967835\n",
            "Epoch   17/20 predict: tensor([154.0459, 185.1045, 175.7326, 198.6059, 141.2082]) Cost: 5.964969\n",
            "Epoch   18/20 predict: tensor([154.0501, 185.1094, 175.7386, 198.6108, 141.2122]) Cost: 5.962291\n",
            "Epoch   19/20 predict: tensor([154.0524, 185.1120, 175.7424, 198.6134, 141.2145]) Cost: 5.959664\n",
            "Epoch   20/20 predict: tensor([154.0536, 185.1134, 175.7451, 198.6145, 141.2158]) Cost: 5.957089\n"
          ]
        }
      ]
    },
    {
      "cell_type": "code",
      "source": [
        "predict.detach().squeeze() #  grad_fn=<SqueezeBackward0> 이것을 없애려면 detach()를 해야한다."
      ],
      "metadata": {
        "colab": {
          "base_uri": "https://localhost:8080/"
        },
        "id": "WverbpIcCFWa",
        "outputId": "778f5417-5196-4d5e-9f69-fb566f89c371"
      },
      "execution_count": null,
      "outputs": [
        {
          "output_type": "execute_result",
          "data": {
            "text/plain": [
              "tensor([154.0536, 185.1134, 175.7451, 198.6145, 141.2158])"
            ]
          },
          "metadata": {},
          "execution_count": 22
        }
      ]
    },
    {
      "cell_type": "markdown",
      "source": [
        "### 3) 다중 선형 회귀를 nn과 F를 이용해서 학습해보자"
      ],
      "metadata": {
        "id": "5IjfxUFeCmEi"
      }
    },
    {
      "cell_type": "code",
      "source": [
        "import torch\n",
        "import torch.nn as nn   # nn : 방정식 만드는 모듈\n",
        "import torch.nn.functional as F\n",
        "\n",
        "torch.manual_seed(1)"
      ],
      "metadata": {
        "colab": {
          "base_uri": "https://localhost:8080/"
        },
        "id": "7moz8MKrCL_l",
        "outputId": "2a148f9e-2a2a-4a86-dff5-ba9e81f1b566"
      },
      "execution_count": null,
      "outputs": [
        {
          "output_type": "execute_result",
          "data": {
            "text/plain": [
              "<torch._C.Generator at 0x7a0e9578cb50>"
            ]
          },
          "metadata": {},
          "execution_count": 23
        }
      ]
    },
    {
      "cell_type": "code",
      "source": [
        "# 해석하자면, 5개의 데이터가 있고, 각 데이터는 3개씩 특성이 있습니다.\n",
        "x_train  =  torch.FloatTensor([[73,  80,  75],\n",
        "                               [93,  88,  93],\n",
        "                               [89,  91,  80],\n",
        "                               [96,  98,  100],\n",
        "                               [73,  66,  70]])\n",
        "\n",
        "# 데이터가 5개니까 정답이 5개\n",
        "y_train  =  torch.FloatTensor([[152],  [185],  [180],  [196],  [142]])"
      ],
      "metadata": {
        "id": "WbWWPeOXCyF-"
      },
      "execution_count": null,
      "outputs": []
    },
    {
      "cell_type": "code",
      "source": [
        "# 모델을 선언 및 초기화. 단순 선형 회귀이므로 input_dim=3, output_dim=1.\n",
        "model = nn.Linear(3,1)  # y = wx + wx + wx + b"
      ],
      "metadata": {
        "id": "uLvTX5eMCz4h"
      },
      "execution_count": null,
      "outputs": []
    },
    {
      "cell_type": "code",
      "source": [
        "print(list(model.parameters())) # model.parameters()에는 weights 3개와 b 1개가 들어있다는 것을 확인할 수 있어요!"
      ],
      "metadata": {
        "colab": {
          "base_uri": "https://localhost:8080/"
        },
        "id": "SJPSJuAcC4We",
        "outputId": "92728e48-5252-4270-b5ea-63c089b9ea5e"
      },
      "execution_count": null,
      "outputs": [
        {
          "output_type": "stream",
          "name": "stdout",
          "text": [
            "[Parameter containing:\n",
            "tensor([[-0.5435,  0.3462, -0.1188]], requires_grad=True), Parameter containing:\n",
            "tensor([0.2937], requires_grad=True)]\n"
          ]
        }
      ]
    },
    {
      "cell_type": "code",
      "source": [
        "# optimizer 설정. 경사 하강법 SGD를 사용하고 learning rate를 의미하는 lr은 1e-5\n",
        "optimizer = torch.optim.SGD(model.parameters(), lr=1e-5) # 첫번째 인자는 당연히 weight 3개와 b 1개가 들어있는 model.parameters() 겠죠?\n",
        "                        # AdamW\n",
        "                        # NAdam\n",
        "                        # Adam\n",
        "                        # SGD"
      ],
      "metadata": {
        "id": "kfixR81JC8CJ"
      },
      "execution_count": null,
      "outputs": []
    },
    {
      "cell_type": "code",
      "source": [
        "# 전체 훈련 데이터에 대해 경사 하강법을 20번 반복\n",
        "nb_epochs = 20\n",
        "for epoch in range(nb_epochs+1):\n",
        "    # 모델\n",
        "    # print(x_train.shape)\n",
        "    # break\n",
        "    prediction = model(x_train)\n",
        "\n",
        "    # cost 계산 F 모듈에 MSE를 지원해줍니다\n",
        "    cost = F.mse_loss(prediction, y_train)\n",
        "\n",
        "    optimizer.zero_grad() # gradient를 0으로 초기화\n",
        "    cost.backward()     # 비용 함수를 미분하여 gradient 계산\n",
        "    optimizer.step() # W와 b를 업데이트 (back prop)\n",
        "\n",
        "    print('Epoch {:4d}/{} Cost: {:.6f}'.format(\n",
        "          epoch, nb_epochs, cost.item()\n",
        "      ))\n"
      ],
      "metadata": {
        "colab": {
          "base_uri": "https://localhost:8080/"
        },
        "id": "JlmQhK7zDKiT",
        "outputId": "69a827d0-1edd-4eb7-c86d-6934e1f62e4e"
      },
      "execution_count": null,
      "outputs": [
        {
          "output_type": "stream",
          "name": "stdout",
          "text": [
            "Epoch    0/20 Cost: 39513.812500\n",
            "Epoch    1/20 Cost: 12709.536133\n",
            "Epoch    2/20 Cost: 4094.351562\n",
            "Epoch    3/20 Cost: 1325.335083\n",
            "Epoch    4/20 Cost: 435.340759\n",
            "Epoch    5/20 Cost: 149.283081\n",
            "Epoch    6/20 Cost: 57.337830\n",
            "Epoch    7/20 Cost: 27.781958\n",
            "Epoch    8/20 Cost: 18.278782\n",
            "Epoch    9/20 Cost: 15.220859\n",
            "Epoch   10/20 Cost: 14.234431\n",
            "Epoch   11/20 Cost: 13.913811\n",
            "Epoch   12/20 Cost: 13.807188\n",
            "Epoch   13/20 Cost: 13.769361\n",
            "Epoch   14/20 Cost: 13.753695\n",
            "Epoch   15/20 Cost: 13.745077\n",
            "Epoch   16/20 Cost: 13.738760\n",
            "Epoch   17/20 Cost: 13.733162\n",
            "Epoch   18/20 Cost: 13.727842\n",
            "Epoch   19/20 Cost: 13.722609\n",
            "Epoch   20/20 Cost: 13.717384\n"
          ]
        }
      ]
    },
    {
      "cell_type": "markdown",
      "source": [
        "### 임의의 데이터로 학습된 모델에 넣어 예측해보자!"
      ],
      "metadata": {
        "id": "5_eO7098EOjS"
      }
    },
    {
      "cell_type": "code",
      "source": [
        "# 임의의 데이터\n",
        "new_var =  torch.FloatTensor([[73, 80, 75]]) # 데이터 x 피쳐개수 # 1 X 3\n",
        "\n",
        "# 입력한 값 [73, 80, 75]에 대해서 예측값 y를 리턴받아서 pred_y에 저장\n",
        "pred_y = model(new_var)\n",
        "print(\"훈련 후 입력이 73, 80, 75일 때의 예측값 :\", pred_y) # 여기서 문제, 왜 predict 값이 2차원일까요? => 학습을 2차원으로 했기 때문에, 예측도 2차원으로"
      ],
      "metadata": {
        "colab": {
          "base_uri": "https://localhost:8080/"
        },
        "id": "ig1QtoiTDXtt",
        "outputId": "14d41998-ebcb-4bab-e7ab-ac65362f3a40"
      },
      "execution_count": null,
      "outputs": [
        {
          "output_type": "stream",
          "name": "stdout",
          "text": [
            "훈련 후 입력이 73, 80, 75일 때의 예측값 : tensor([[157.2317]], grad_fn=<AddmmBackward0>)\n"
          ]
        }
      ]
    },
    {
      "cell_type": "code",
      "source": [
        "# 훈련이 완료되었을 때 모델 파라미터들을 확인해보자.\n",
        "print(list(model.parameters()))"
      ],
      "metadata": {
        "colab": {
          "base_uri": "https://localhost:8080/"
        },
        "id": "kSuSNzgvESnl",
        "outputId": "71958161-e853-4552-cec0-502ccf468ecc"
      },
      "execution_count": null,
      "outputs": [
        {
          "output_type": "stream",
          "name": "stdout",
          "text": [
            "[Parameter containing:\n",
            "tensor([[0.2438, 1.1264, 0.6535]], requires_grad=True), Parameter containing:\n",
            "tensor([0.3031], requires_grad=True)]\n"
          ]
        }
      ]
    },
    {
      "cell_type": "markdown",
      "source": [
        "### 4) 다중 선형회귀 클래스형태로 구현하기"
      ],
      "metadata": {
        "id": "9Fv9rKllWDbA"
      }
    },
    {
      "cell_type": "code",
      "source": [
        "import torch\n",
        "import torch.nn as nn\n",
        "import torch.nn.functional as F"
      ],
      "metadata": {
        "id": "-csZk21jWJDw"
      },
      "execution_count": null,
      "outputs": []
    },
    {
      "cell_type": "code",
      "source": [
        "# 데이터까지는 동일\n",
        "x_train = torch.FloatTensor([[73, 80, 75],\n",
        "                             [93, 88, 93],\n",
        "                             [89, 91, 90],\n",
        "                             [96, 98, 100],\n",
        "                             [73, 66, 70]])\n",
        "y_train = torch.FloatTensor([[152], [185], [180], [196], [142]])"
      ],
      "metadata": {
        "id": "-9__7XHKWNVD"
      },
      "execution_count": null,
      "outputs": []
    },
    {
      "cell_type": "code",
      "source": [
        "class ML_Regression(nn.Module):\n",
        "    def __init__(self):\n",
        "        super().__init__() # nn.Module 상속, 이와 같은 코드 super(ML_Regression, self).__init__()\n",
        "        self.linear = nn.Linear(3, 1) # 모델 선언 : 다중 선형 회귀이므로 input_dim=3, output_dim=1.\n",
        "\n",
        "    def forward(self, x): # forward : 순전파 기능하는 특수 메소드\n",
        "        return self.linear(x)"
      ],
      "metadata": {
        "id": "2ZSgqIveWOjT"
      },
      "execution_count": null,
      "outputs": []
    },
    {
      "cell_type": "markdown",
      "source": [
        "↑ nn.Module 상속하는 이유 https://daebaq27.tistory.com/60"
      ],
      "metadata": {
        "id": "FG9ODNWAXVvH"
      }
    },
    {
      "cell_type": "code",
      "source": [
        "model = ML_Regression()\n",
        "optimizer = torch.optim.SGD(model.parameters(), lr=1e-5)"
      ],
      "metadata": {
        "id": "6VHcfILFWTsy"
      },
      "execution_count": null,
      "outputs": []
    },
    {
      "cell_type": "code",
      "source": [
        "nb_epochs = 100\n",
        "for epoch in range(nb_epochs+1):\n",
        "    # 모델\n",
        "    prediction = model(x_train) # model(x_train)은 model.forward(x_train)와 동일함.\n",
        "\n",
        "    # cost 계산\n",
        "    cost = F.mse_loss(prediction, y_train)\n",
        "    optimizer.zero_grad() # gradient를 0으로 초기화\n",
        "    cost.backward() # 비용 함수를 미분하여 gradient 계산\n",
        "    optimizer.step() # W와 b를 업데이트\n",
        "\n",
        "    if epoch % 10 == 0:\n",
        "    # 10번마다 로그 출력\n",
        "      print('Epoch {:4d}/{} Cost: {:.6f}'.format(\n",
        "          epoch, nb_epochs, cost.item()\n",
        "      ))"
      ],
      "metadata": {
        "colab": {
          "base_uri": "https://localhost:8080/"
        },
        "id": "24P5o_mtWkJf",
        "outputId": "cafa86e3-ec82-4a78-8b59-321b88d970ed"
      },
      "execution_count": null,
      "outputs": [
        {
          "output_type": "stream",
          "name": "stdout",
          "text": [
            "Epoch    0/100 Cost: 24222.882812\n",
            "Epoch   10/100 Cost: 3.030346\n",
            "Epoch   20/100 Cost: 2.797212\n",
            "Epoch   30/100 Cost: 2.785842\n",
            "Epoch   40/100 Cost: 2.774575\n",
            "Epoch   50/100 Cost: 2.763349\n",
            "Epoch   60/100 Cost: 2.752167\n",
            "Epoch   70/100 Cost: 2.741051\n",
            "Epoch   80/100 Cost: 2.730006\n",
            "Epoch   90/100 Cost: 2.719005\n",
            "Epoch  100/100 Cost: 2.708055\n"
          ]
        }
      ]
    },
    {
      "cell_type": "markdown",
      "source": [
        "### 5) 미니배치 학습을 구현해보자\n",
        "* 미니배치 학습 목적/이유: 1) 리소스 한계 2) loss를 한번에 반영할 양을 조절\n",
        "\n",
        "* 미니배치 사이즈는 2, 4, 8, 16... 등으로 하는게 맞지만 나의 자원에 맞게 max로 하는게 맞음\n",
        "일단 32로 먼저 하고 안되면 16, 또 안되면 8 이렇게 맞춰나가는 것이 맞음\n",
        "그러다가 1로 사용하게 될 수도 있는데 그건 좋은 모델이라고는 할 수 없음"
      ],
      "metadata": {
        "id": "Z87LImoQYAIN"
      }
    },
    {
      "cell_type": "code",
      "source": [
        "import torch\n",
        "import torch.nn as nn\n",
        "import torch.nn.functional as F"
      ],
      "metadata": {
        "id": "WW3A8TiWWpkp"
      },
      "execution_count": null,
      "outputs": []
    },
    {
      "cell_type": "code",
      "source": [
        "from torch.utils.data import TensorDataset # 텐서데이터셋 : 인풋데이터와 정답값 데이터 짝꿍\n",
        "from torch.utils.data import DataLoader # 데이터로더 : 미니배치 사이즈로 자르려고"
      ],
      "metadata": {
        "id": "zCEggjgeYgb-"
      },
      "execution_count": null,
      "outputs": []
    },
    {
      "cell_type": "code",
      "source": [
        "x_train  =  torch.FloatTensor([[73,  80,  75],\n",
        "                               [93,  88,  93],\n",
        "                               [89,  91,  90],\n",
        "                               [96,  98,  100],\n",
        "                               [73,  66,  70]])\n",
        "y_train  =  torch.FloatTensor([[152],  [185],  [180],  [196],  [142]])"
      ],
      "metadata": {
        "id": "_9GbuAqhYh98"
      },
      "execution_count": null,
      "outputs": []
    },
    {
      "cell_type": "code",
      "source": [
        "dataset = TensorDataset(x_train, y_train) # 미니배치로 짜르기 전에, 데이터와 정답을 합친 후에 짤라야 한다. => ex) ([73,  80,  75], [152])"
      ],
      "metadata": {
        "id": "2QOg1fA0Yi7m"
      },
      "execution_count": null,
      "outputs": []
    },
    {
      "cell_type": "code",
      "source": [
        "print(list(dataset))"
      ],
      "metadata": {
        "colab": {
          "base_uri": "https://localhost:8080/"
        },
        "id": "7ghc5yY0tWHX",
        "outputId": "8b532337-87e0-43cb-f5e2-c212b642e9d4"
      },
      "execution_count": null,
      "outputs": [
        {
          "output_type": "stream",
          "name": "stdout",
          "text": [
            "[(tensor([73., 80., 75.]), tensor([152.])), (tensor([93., 88., 93.]), tensor([185.])), (tensor([89., 91., 90.]), tensor([180.])), (tensor([ 96.,  98., 100.]), tensor([196.])), (tensor([73., 66., 70.]), tensor([142.]))]\n"
          ]
        }
      ]
    },
    {
      "cell_type": "code",
      "source": [
        "dataloader = DataLoader(dataset, batch_size=2, shuffle=True) # 자, 그러면 마지막은 어떻게 될까?"
      ],
      "metadata": {
        "id": "JxBkJTqCYkHV"
      },
      "execution_count": null,
      "outputs": []
    },
    {
      "cell_type": "code",
      "source": [
        "model = nn.Linear(3,1) # 다중선형회귀 클래스 모델과 다르지 않으니 당황하지 말 것\n",
        "optimizer = torch.optim.SGD(model.parameters(), lr=1e-5)"
      ],
      "metadata": {
        "id": "YqEJ9iRHYpTj"
      },
      "execution_count": null,
      "outputs": []
    },
    {
      "cell_type": "code",
      "source": [
        "nb_epochs = 20\n",
        "for epoch in range(nb_epochs + 1): # 전체 데이터셋으로 몇번 학습할거냐\n",
        "  for batch_idx, samples in enumerate(dataloader):  # enumerate : 값과 인덱스 return\n",
        "    #print('번호',batch_idx) # 미니배치 번호\n",
        "    #print('내용물',samples) # 미니배치 내용물 확인\n",
        "    #break\n",
        "\n",
        "    x_train, y_train = samples # 정답이랑 답이 묶여있으니까 쪼개줘야 하지 않는가?\n",
        "    prediction = model(x_train)\n",
        "    cost = F.mse_loss(prediction, y_train)\n",
        "    optimizer.zero_grad()\n",
        "    cost.backward()\n",
        "    optimizer.step()\n",
        "\n",
        "    print('Epoch {:4d}/{} Batch {}/{} Cost: {:.6f}'.format(\n",
        "        epoch, nb_epochs, batch_idx+1, len(dataloader),\n",
        "        cost.item()\n",
        "        ))\n",
        "\n",
        "    break\n"
      ],
      "metadata": {
        "id": "8YU-6Uh1YxQr",
        "colab": {
          "base_uri": "https://localhost:8080/"
        },
        "outputId": "f3c6e984-c751-4a5a-be32-2554aed727d4"
      },
      "execution_count": null,
      "outputs": [
        {
          "output_type": "stream",
          "name": "stdout",
          "text": [
            "Epoch    0/20 Batch 1/3 Cost: 25097.199219\n",
            "Epoch    1/20 Batch 1/3 Cost: 4812.739746\n",
            "Epoch    2/20 Batch 1/3 Cost: 953.925659\n",
            "Epoch    3/20 Batch 1/3 Cost: 396.356445\n",
            "Epoch    4/20 Batch 1/3 Cost: 154.698227\n",
            "Epoch    5/20 Batch 1/3 Cost: 35.603550\n",
            "Epoch    6/20 Batch 1/3 Cost: 15.968294\n",
            "Epoch    7/20 Batch 1/3 Cost: 6.232940\n",
            "Epoch    8/20 Batch 1/3 Cost: 3.664604\n",
            "Epoch    9/20 Batch 1/3 Cost: 1.126118\n",
            "Epoch   10/20 Batch 1/3 Cost: 2.311242\n",
            "Epoch   11/20 Batch 1/3 Cost: 3.047304\n",
            "Epoch   12/20 Batch 1/3 Cost: 1.247329\n",
            "Epoch   13/20 Batch 1/3 Cost: 2.493052\n",
            "Epoch   14/20 Batch 1/3 Cost: 1.139037\n",
            "Epoch   15/20 Batch 1/3 Cost: 1.764920\n",
            "Epoch   16/20 Batch 1/3 Cost: 2.334768\n",
            "Epoch   17/20 Batch 1/3 Cost: 2.332069\n",
            "Epoch   18/20 Batch 1/3 Cost: 1.362833\n",
            "Epoch   19/20 Batch 1/3 Cost: 2.413266\n",
            "Epoch   20/20 Batch 1/3 Cost: 2.625670\n"
          ]
        }
      ]
    },
    {
      "cell_type": "code",
      "source": [
        "# 임의의 데이터\n",
        "new_var =  torch.FloatTensor([[73, 80, 75]])\n",
        "\n",
        "# 입의의 데이터로 추론\n",
        "pred_y = model(new_var) # 다중선형회귀 클래스 모델과 다르지 않으니 당황하지 말 것\n",
        "print(\"훈련 후 입력이 73, 80, 75일 때의 예측값 :\", pred_y)"
      ],
      "metadata": {
        "id": "YQRBuJ8VZDuB",
        "colab": {
          "base_uri": "https://localhost:8080/"
        },
        "outputId": "e7749c2c-dde2-41b2-a712-ef6b3c98cb5e"
      },
      "execution_count": null,
      "outputs": [
        {
          "output_type": "stream",
          "name": "stdout",
          "text": [
            "훈련 후 입력이 73, 80, 75일 때의 예측값 : tensor([[154.0393]], grad_fn=<AddmmBackward0>)\n"
          ]
        }
      ]
    },
    {
      "cell_type": "markdown",
      "source": [
        "### 실습) 다음 조건을 만족하는 다중 선형회귀 학습을 짜시오\n",
        "\n",
        "1. 데이터는 아래 데이터 그대로 사용할 것\n",
        "2. 그에 맞는 다중 선형회귀를 클래스 형태로 짤 것.\n",
        "3. 미니배치사이즈 4\n",
        "4. 에폭 10\n",
        "5. 옵티마이저, loss 마음대로 선택. 단, 성능은 신경쓰지 말 것.\n",
        "6. import는 마음대로 넣을 것.\n",
        "7. x_test 변수를 이용해 예측해서 결과를 출력하고 기울기함수를 해제하시오: detach 사용"
      ],
      "metadata": {
        "id": "IjLREzkWZ3gp"
      }
    },
    {
      "cell_type": "code",
      "source": [
        "import torch\n",
        "import torch.nn as nn\n",
        "import torch.optim as optim"
      ],
      "metadata": {
        "id": "T3PkpXXbF0OK"
      },
      "execution_count": null,
      "outputs": []
    },
    {
      "cell_type": "code",
      "source": [
        "x_train  =  torch.FloatTensor([[73,  80,  75, 88],\n",
        "                               [93,  88,  93, 87],\n",
        "                               [89,  91,  90, 95],\n",
        "                               [96,  98,  93, 95],\n",
        "                               [73,  66,  70, 77],\n",
        "                               [77,  82,  75, 86],\n",
        "                               [88,  75,  91, 90]])\n",
        "y_train  =  torch.FloatTensor([[152],  [185],  [180],  [196],  [142], [151], [155]])"
      ],
      "metadata": {
        "id": "k7w7nufRZ-LC"
      },
      "execution_count": null,
      "outputs": []
    },
    {
      "cell_type": "code",
      "source": [
        "# DataLoader 및 모델 정의\n",
        "dataset = TensorDataset(x_train, y_train)\n",
        "dataloader = DataLoader(dataset, batch_size=4, shuffle=True)"
      ],
      "metadata": {
        "id": "Lvv1-2SkI4Q-"
      },
      "execution_count": null,
      "outputs": []
    },
    {
      "cell_type": "code",
      "source": [
        "class ML_Regression(nn.Module):\n",
        "    def __init__(self):\n",
        "        super().__init__()\n",
        "        self.linear = nn.Linear(4,1)\n",
        "\n",
        "    def forward(self, x): # forward : 순전파 기능하는 특수 메소드\n",
        "        return self.linear(x)"
      ],
      "metadata": {
        "id": "Im0thz5yODvB"
      },
      "execution_count": null,
      "outputs": []
    },
    {
      "cell_type": "code",
      "source": [
        "model = ML_Regression()\n",
        "optimizer = torch.optim.SGD(model.parameters(), lr=1e-5)"
      ],
      "metadata": {
        "id": "NOFfIsuaOHLw"
      },
      "execution_count": null,
      "outputs": []
    },
    {
      "cell_type": "code",
      "source": [
        "# 학습\n",
        "nb_epochs = 10\n",
        "for epoch in range(nb_epochs + 1 ):\n",
        "    for batch_idx, samples in enumerate(dataloader):\n",
        "\n",
        "        # 순전파 및 손실 계산\n",
        "        prediction = model(x_train)\n",
        "        cost = F.mse_loss(prediction, y_train)\n",
        "\n",
        "        # 역전파 및 가중치 갱신\n",
        "        optimizer.zero_grad()\n",
        "        cost.backward()\n",
        "        optimizer.step()\n",
        "\n",
        "        print('Epoch {:4d}/{} Predict: {} Cost: {:.6f}'.format(\n",
        "            epoch, nb_epochs, prediction.squeeze().detach(), cost.item() # detach는 기울기가 전파되지 않는 텐서를 만드는 것\n",
        "        ))"
      ],
      "metadata": {
        "id": "bCcF1u1jI3k4",
        "colab": {
          "base_uri": "https://localhost:8080/"
        },
        "outputId": "691a0fe9-34aa-40a9-99db-044b959cc41c"
      },
      "execution_count": null,
      "outputs": [
        {
          "output_type": "stream",
          "name": "stdout",
          "text": [
            "Epoch    0/10 Predict: tensor([154.7980, 177.4438, 179.0909, 187.2961, 139.0578, 156.3884, 168.4024]) Cost: 51.260540\n",
            "Epoch    0/10 Predict: tensor([154.7967, 177.4460, 179.0913, 187.2994, 139.0557, 156.3889, 168.3986]) Cost: 51.234619\n",
            "Epoch    1/10 Predict: tensor([154.7953, 177.4481, 179.0917, 187.3027, 139.0536, 156.3893, 168.3948]) Cost: 51.208580\n",
            "Epoch    1/10 Predict: tensor([154.7940, 177.4502, 179.0920, 187.3059, 139.0515, 156.3898, 168.3910]) Cost: 51.182705\n",
            "Epoch    2/10 Predict: tensor([154.7927, 177.4524, 179.0924, 187.3092, 139.0495, 156.3903, 168.3872]) Cost: 51.156731\n",
            "Epoch    2/10 Predict: tensor([154.7914, 177.4545, 179.0928, 187.3125, 139.0474, 156.3907, 168.3835]) Cost: 51.130863\n",
            "Epoch    3/10 Predict: tensor([154.7901, 177.4567, 179.0932, 187.3158, 139.0454, 156.3912, 168.3797]) Cost: 51.105000\n",
            "Epoch    3/10 Predict: tensor([154.7887, 177.4588, 179.0935, 187.3190, 139.0433, 156.3917, 168.3759]) Cost: 51.079048\n",
            "Epoch    4/10 Predict: tensor([154.7874, 177.4610, 179.0939, 187.3223, 139.0412, 156.3921, 168.3721]) Cost: 51.053288\n",
            "Epoch    4/10 Predict: tensor([154.7861, 177.4631, 179.0943, 187.3256, 139.0392, 156.3926, 168.3683]) Cost: 51.027378\n",
            "Epoch    5/10 Predict: tensor([154.7848, 177.4652, 179.0947, 187.3288, 139.0371, 156.3931, 168.3645]) Cost: 51.001587\n",
            "Epoch    5/10 Predict: tensor([154.7834, 177.4674, 179.0951, 187.3321, 139.0350, 156.3935, 168.3608]) Cost: 50.975803\n",
            "Epoch    6/10 Predict: tensor([154.7821, 177.4695, 179.0954, 187.3354, 139.0330, 156.3940, 168.3570]) Cost: 50.950127\n",
            "Epoch    6/10 Predict: tensor([154.7808, 177.4717, 179.0958, 187.3387, 139.0309, 156.3945, 168.3533]) Cost: 50.924404\n",
            "Epoch    7/10 Predict: tensor([154.7795, 177.4738, 179.0962, 187.3419, 139.0289, 156.3949, 168.3495]) Cost: 50.898640\n",
            "Epoch    7/10 Predict: tensor([154.7782, 177.4759, 179.0966, 187.3452, 139.0268, 156.3954, 168.3457]) Cost: 50.872932\n",
            "Epoch    8/10 Predict: tensor([154.7769, 177.4781, 179.0969, 187.3484, 139.0248, 156.3959, 168.3420]) Cost: 50.847294\n",
            "Epoch    8/10 Predict: tensor([154.7755, 177.4802, 179.0973, 187.3517, 139.0227, 156.3963, 168.3382]) Cost: 50.821594\n",
            "Epoch    9/10 Predict: tensor([154.7742, 177.4823, 179.0977, 187.3549, 139.0206, 156.3968, 168.3344]) Cost: 50.795998\n",
            "Epoch    9/10 Predict: tensor([154.7729, 177.4845, 179.0981, 187.3582, 139.0186, 156.3972, 168.3307]) Cost: 50.770390\n",
            "Epoch   10/10 Predict: tensor([154.7716, 177.4866, 179.0984, 187.3615, 139.0165, 156.3977, 168.3269]) Cost: 50.744740\n",
            "Epoch   10/10 Predict: tensor([154.7703, 177.4887, 179.0988, 187.3647, 139.0145, 156.3982, 168.3232]) Cost: 50.719204\n"
          ]
        }
      ]
    },
    {
      "cell_type": "code",
      "source": [
        "# 테스트\n",
        "x_test = torch.FloatTensor([[73,  80,  75, 88]])\n",
        "model.eval()\n",
        "predicted_value = model(x_test)\n",
        "print(predicted_value.detach())"
      ],
      "metadata": {
        "id": "XYVXAQ1-OWe4",
        "colab": {
          "base_uri": "https://localhost:8080/"
        },
        "outputId": "08baf724-d3bb-48b8-a8e7-e88e89267380"
      },
      "execution_count": null,
      "outputs": [
        {
          "output_type": "stream",
          "name": "stdout",
          "text": [
            "tensor([[154.7690]])\n"
          ]
        }
      ]
    },
    {
      "cell_type": "markdown",
      "source": [
        "### 6) 커스텀 데이터셋을 이용해서 다중 선형회귀 모델을 학습해보자"
      ],
      "metadata": {
        "id": "BxvzsFSPbepj"
      }
    },
    {
      "cell_type": "code",
      "source": [
        "import torch\n",
        "import torch.nn.functional as F\n",
        "from torch.utils.data import Dataset\n",
        "from torch.utils.data import DataLoader"
      ],
      "metadata": {
        "id": "NdQUOE-XbmL1"
      },
      "execution_count": null,
      "outputs": []
    },
    {
      "cell_type": "code",
      "source": [
        "# Dataset 상속\n",
        "class CustomDataset(Dataset):   # CustomDataset : 특수 메소드\n",
        "  def __init__(self): # 데이터 load 또는 선언, 그리고 전처리를 정의하는 곳\n",
        "    self.x_data = [[73, 80, 75], # 여기서는 보통 파일을 불러오거나, 파일 경로 리스트를 정의함\n",
        "                   [93, 88, 93],\n",
        "                   [89, 91, 90],\n",
        "                   [96, 98, 100],\n",
        "                   [73, 66, 70]]\n",
        "    self.y_data = [[152], [185], [180], [196], [142]]\n",
        "\n",
        "  def __len__(self): # 총 데이터의 개수를 구하는 이벤트가 발생할 때, 실행되는 함수\n",
        "    return len(self.x_data)\n",
        "\n",
        "  def __getitem__(self, idx):  # 인덱스를 입력받아 그에 맵핑되는 입출력 데이터를 파이토치의 Tensor 형태로 리턴\n",
        "                               # idx가 뭔지 생각해보자.\n",
        "    print(\"반응함\", idx)\n",
        "    # 여기서 transform 함수를 데이터에 적용하기도 한다\n",
        "    x = torch.FloatTensor(self.x_data[idx])\n",
        "    y = torch.FloatTensor(self.y_data[idx])\n",
        "    return x, y"
      ],
      "metadata": {
        "id": "9fCIXxoZbpMW"
      },
      "execution_count": null,
      "outputs": []
    },
    {
      "cell_type": "code",
      "source": [
        "dataset = CustomDataset()\n",
        "dataloader = DataLoader(dataset, batch_size=2, shuffle=True)"
      ],
      "metadata": {
        "id": "M5Sktv7PbqjB"
      },
      "execution_count": null,
      "outputs": []
    },
    {
      "cell_type": "code",
      "source": [
        "model = torch.nn.Linear(3,1) # 다중선형회귀 클래스 모델과 다르지 않으니 당황하지 말 것\n",
        "optimizer = torch.optim.SGD(model.parameters(), lr=1e-5)"
      ],
      "metadata": {
        "id": "NjHQuiAflN63"
      },
      "execution_count": null,
      "outputs": []
    },
    {
      "cell_type": "code",
      "source": [
        "nb_epochs = 20\n",
        "for epoch in range(nb_epochs + 1):\n",
        "  for batch_idx, samples in enumerate(dataloader):\n",
        "    x_train, y_train = samples\n",
        "\n",
        "    prediction = model(x_train)\n",
        "\n",
        "    cost = F.mse_loss(prediction, y_train)\n",
        "\n",
        "    optimizer.zero_grad()\n",
        "    cost.backward()\n",
        "    optimizer.step()\n",
        "\n",
        "    print('Epoch {:4d}/{} Batch {}/{} Cost: {:.6f}'.format(\n",
        "        epoch, nb_epochs, batch_idx+1, len(dataloader),\n",
        "        cost.item()\n",
        "        ))\n",
        "\n",
        "# for문에서 dataloader에서 데이터를 가지고 오려함.\n",
        "# dataloader에서 batch 사이즈 만큼 데이터를 가져오라고 dataset한테 명령함\n",
        "# 3. dataset이 넵! 하고서 미니배치 갯수만큼 1개씩 준비함, 그 다음에 미니배치 갯수만큼 쌓이면 리턴"
      ],
      "metadata": {
        "id": "2swDfxcIbsEU",
        "colab": {
          "base_uri": "https://localhost:8080/"
        },
        "collapsed": true,
        "outputId": "73db96b8-52ef-44d3-aa90-c24591a37e53"
      },
      "execution_count": null,
      "outputs": [
        {
          "output_type": "stream",
          "name": "stdout",
          "text": [
            "반응함 1\n",
            "반응함 2\n",
            "Epoch    0/20 Batch 1/3 Cost: 67905.593750\n",
            "반응함 4\n",
            "반응함 3\n",
            "Epoch    0/20 Batch 2/3 Cost: 15339.198242\n",
            "반응함 0\n",
            "Epoch    0/20 Batch 3/3 Cost: 3919.873535\n",
            "반응함 1\n",
            "반응함 2\n",
            "Epoch    1/20 Batch 1/3 Cost: 2388.013184\n",
            "반응함 0\n",
            "반응함 3\n",
            "Epoch    1/20 Batch 2/3 Cost: 560.614807\n",
            "반응함 4\n",
            "Epoch    1/20 Batch 3/3 Cost: 121.848434\n",
            "반응함 2\n",
            "반응함 3\n",
            "Epoch    2/20 Batch 1/3 Cost: 81.592918\n",
            "반응함 4\n",
            "반응함 0\n",
            "Epoch    2/20 Batch 2/3 Cost: 16.440325\n",
            "반응함 1\n",
            "Epoch    2/20 Batch 3/3 Cost: 14.814559\n",
            "반응함 4\n",
            "반응함 2\n",
            "Epoch    3/20 Batch 1/3 Cost: 1.289079\n",
            "반응함 3\n",
            "반응함 0\n",
            "Epoch    3/20 Batch 2/3 Cost: 0.238054\n",
            "반응함 1\n",
            "Epoch    3/20 Batch 3/3 Cost: 1.720614\n",
            "반응함 2\n",
            "반응함 4\n",
            "Epoch    4/20 Batch 1/3 Cost: 0.582719\n",
            "반응함 1\n",
            "반응함 0\n",
            "Epoch    4/20 Batch 2/3 Cost: 0.292598\n",
            "반응함 3\n",
            "Epoch    4/20 Batch 3/3 Cost: 0.388206\n",
            "반응함 0\n",
            "반응함 3\n",
            "Epoch    5/20 Batch 1/3 Cost: 0.036418\n",
            "반응함 4\n",
            "반응함 1\n",
            "Epoch    5/20 Batch 2/3 Cost: 0.840804\n",
            "반응함 2\n",
            "Epoch    5/20 Batch 3/3 Cost: 0.954598\n",
            "반응함 3\n",
            "반응함 0\n",
            "Epoch    6/20 Batch 1/3 Cost: 0.021382\n",
            "반응함 4\n",
            "반응함 1\n",
            "Epoch    6/20 Batch 2/3 Cost: 0.960967\n",
            "반응함 2\n",
            "Epoch    6/20 Batch 3/3 Cost: 0.872253\n",
            "반응함 2\n",
            "반응함 0\n",
            "Epoch    7/20 Batch 1/3 Cost: 0.132713\n",
            "반응함 1\n",
            "반응함 4\n",
            "Epoch    7/20 Batch 2/3 Cost: 1.150281\n",
            "반응함 3\n",
            "Epoch    7/20 Batch 3/3 Cost: 0.273189\n",
            "반응함 0\n",
            "반응함 1\n",
            "Epoch    8/20 Batch 1/3 Cost: 0.464258\n",
            "반응함 2\n",
            "반응함 3\n",
            "Epoch    8/20 Batch 2/3 Cost: 0.485837\n",
            "반응함 4\n",
            "Epoch    8/20 Batch 3/3 Cost: 0.803876\n",
            "반응함 4\n",
            "반응함 2\n",
            "Epoch    9/20 Batch 1/3 Cost: 0.561575\n",
            "반응함 0\n",
            "반응함 1\n",
            "Epoch    9/20 Batch 2/3 Cost: 0.312526\n",
            "반응함 3\n",
            "Epoch    9/20 Batch 3/3 Cost: 0.364729\n",
            "반응함 3\n",
            "반응함 1\n",
            "Epoch   10/20 Batch 1/3 Cost: 0.461546\n",
            "반응함 0\n",
            "반응함 2\n",
            "Epoch   10/20 Batch 2/3 Cost: 0.312195\n",
            "반응함 4\n",
            "Epoch   10/20 Batch 3/3 Cost: 0.707312\n",
            "반응함 4\n",
            "반응함 3\n",
            "Epoch   11/20 Batch 1/3 Cost: 0.329286\n",
            "반응함 0\n",
            "반응함 2\n",
            "Epoch   11/20 Batch 2/3 Cost: 0.382098\n",
            "반응함 1\n",
            "Epoch   11/20 Batch 3/3 Cost: 0.856421\n",
            "반응함 0\n",
            "반응함 2\n",
            "Epoch   12/20 Batch 1/3 Cost: 0.636805\n",
            "반응함 3\n",
            "반응함 4\n",
            "Epoch   12/20 Batch 2/3 Cost: 0.327110\n",
            "반응함 1\n",
            "Epoch   12/20 Batch 3/3 Cost: 0.587280\n",
            "반응함 2\n",
            "반응함 3\n",
            "Epoch   13/20 Batch 1/3 Cost: 1.023213\n",
            "반응함 4\n",
            "반응함 1\n",
            "Epoch   13/20 Batch 2/3 Cost: 0.703606\n",
            "반응함 0\n",
            "Epoch   13/20 Batch 3/3 Cost: 0.072195\n",
            "반응함 4\n",
            "반응함 2\n",
            "Epoch   14/20 Batch 1/3 Cost: 0.585931\n",
            "반응함 0\n",
            "반응함 3\n",
            "Epoch   14/20 Batch 2/3 Cost: 0.102594\n",
            "반응함 1\n",
            "Epoch   14/20 Batch 3/3 Cost: 0.779331\n",
            "반응함 0\n",
            "반응함 2\n",
            "Epoch   15/20 Batch 1/3 Cost: 0.662417\n",
            "반응함 4\n",
            "반응함 3\n",
            "Epoch   15/20 Batch 2/3 Cost: 0.324424\n",
            "반응함 1\n",
            "Epoch   15/20 Batch 3/3 Cost: 0.575043\n",
            "반응함 1\n",
            "반응함 3\n",
            "Epoch   16/20 Batch 1/3 Cost: 0.424067\n",
            "반응함 0\n",
            "반응함 2\n",
            "Epoch   16/20 Batch 2/3 Cost: 0.571742\n",
            "반응함 4\n",
            "Epoch   16/20 Batch 3/3 Cost: 0.525236\n",
            "반응함 1\n",
            "반응함 2\n",
            "Epoch   17/20 Batch 1/3 Cost: 0.646208\n",
            "반응함 0\n",
            "반응함 3\n",
            "Epoch   17/20 Batch 2/3 Cost: 0.159301\n",
            "반응함 4\n",
            "Epoch   17/20 Batch 3/3 Cost: 0.536710\n",
            "반응함 4\n",
            "반응함 1\n",
            "Epoch   18/20 Batch 1/3 Cost: 0.286951\n",
            "반응함 0\n",
            "반응함 2\n",
            "Epoch   18/20 Batch 2/3 Cost: 0.843360\n",
            "반응함 3\n",
            "Epoch   18/20 Batch 3/3 Cost: 0.235744\n",
            "반응함 1\n",
            "반응함 0\n",
            "Epoch   19/20 Batch 1/3 Cost: 0.474002\n",
            "반응함 3\n",
            "반응함 4\n",
            "Epoch   19/20 Batch 2/3 Cost: 0.320668\n",
            "반응함 2\n",
            "Epoch   19/20 Batch 3/3 Cost: 0.689334\n",
            "반응함 0\n",
            "반응함 3\n",
            "Epoch   20/20 Batch 1/3 Cost: 0.029098\n",
            "반응함 1\n",
            "반응함 2\n",
            "Epoch   20/20 Batch 2/3 Cost: 0.695204\n",
            "반응함 4\n",
            "Epoch   20/20 Batch 3/3 Cost: 0.647080\n"
          ]
        }
      ]
    },
    {
      "cell_type": "code",
      "source": [
        "# 학습\n",
        "nb_epochs = 20\n",
        "for epoch in range(nb_epochs):  # epoch 범위 수정\n",
        "    for batch_idx, samples in enumerate(dataloader):  # samples로 데이터 로딩 수정\n",
        "        x_train, y_train = samples  # samples를 언패킹하여 데이터와 라벨 분리\n",
        "        # 예측\n",
        "        prediction = model(x_train)\n",
        "        # 손실 계산\n",
        "        cost = F.mse_loss(prediction, y_train)  # 손실 함수 수정\n",
        "        # 역전파 및 최적화\n",
        "        optimizer.zero_grad()  # 가중치 기울기 초기화 수정\n",
        "        cost.backward()  # 역전파 수정\n",
        "        optimizer.step()  # 옵티마이저 스텝 수정\n",
        "        print('Epoch {:4d}/{} Batch {}/{} Cost: {:.6f}'.format(\n",
        "            epoch+1, nb_epochs, batch_idx+1, len(dataloader),\n",
        "            cost.item()\n",
        "        ))"
      ],
      "metadata": {
        "id": "FolieEgVUcv2"
      },
      "execution_count": null,
      "outputs": []
    },
    {
      "cell_type": "markdown",
      "source": [
        "###실습) 누군가 학습 코드를 망가뜨려 놓았다. 잘 돌아가도록 코드를 수정하시오."
      ],
      "metadata": {
        "id": "u2igc1Y5dhtm"
      }
    },
    {
      "cell_type": "code",
      "source": [
        "import torch  # 딥러닝 프레임워크 파이토치 불러오기\n",
        "import torch.autograd # 자동 미분(back prop)을 위함 함수들 포함\n",
        "import torch.nn as nn # 간단한 선형 방정식 정의, 다양한 레이어, 활성화 함수,\n",
        "import torch.optim # 최적화 알고리즘들이 담겨있는 모듈\n",
        "import torch.nn.functional as F\n",
        "from torch.utils.data import Dataset\n",
        "from torch.utils.data import DataLoader"
      ],
      "metadata": {
        "id": "sSNZXDpIojnI"
      },
      "execution_count": null,
      "outputs": []
    },
    {
      "cell_type": "code",
      "source": [
        "# Dataset 상속\n",
        "class CustomDataset(Dataset):\n",
        "  def __init__(self):\n",
        "    self.x_data = [[73, 80, 75],\n",
        "                   [93, 88, 93],\n",
        "                   [89, 91, 90],\n",
        "                   [96, 98, 100],\n",
        "                   [73, 66, 70]]\n",
        "    self.y_data = [[152], [185], [180], [196], [142]]\n",
        "\n",
        "  def __len__(self):\n",
        "    return len(self.x_data)\n",
        "\n",
        "  def __getitem__(self, idx):\n",
        "    x = torch.FloatTensor(self.x_data[idx])\n",
        "    y = torch.FloatTensor(self.y_data[idx])\n",
        "    return x, y"
      ],
      "metadata": {
        "id": "XgAdFuogd0U-"
      },
      "execution_count": null,
      "outputs": []
    },
    {
      "cell_type": "code",
      "source": [
        "class MultivariateLinearRegression(nn.Module):\n",
        "    def __init__(self):\n",
        "        super().__init__()\n",
        "        self.linear = nn.Linear(3,1) #수정\n",
        "\n",
        "    def forward(self, x):\n",
        "        return self.linear(x)"
      ],
      "metadata": {
        "id": "vbgaiPTOd5Kl"
      },
      "execution_count": null,
      "outputs": []
    },
    {
      "cell_type": "code",
      "source": [
        "dataset = CustomDataset()\n",
        "dataloader = DataLoader(dataset, batch_size=2, shuffle=True) #수정 O\n",
        "model = MultivariateLinearRegression()\n",
        "optimizer = torch.optim.SGD(model.parameters(), lr=1e-5) #수정 O"
      ],
      "metadata": {
        "id": "HthAsCAppYLF"
      },
      "execution_count": null,
      "outputs": []
    },
    {
      "cell_type": "code",
      "source": [
        "nb_epochs = 20\n",
        "for epoch in range(nb_epochs + 1): #수정 O\n",
        "  for batch_idx, samples in enumerate(dataloader): #수정O\n",
        "    x_train, y_train = samples\n",
        "\n",
        "    prediction = model(x_train)\n",
        "\n",
        "    cost = F.mse_loss(prediction, y_train) #수정 O\n",
        "\n",
        "    optimizer.zero_grad() #수정 O\n",
        "    cost.backward() #수정 O\n",
        "    optimizer.step() #수정 O\n",
        "\n",
        "    print('Epoch {:4d}/{} Batch {}/{} Cost: {:.6f}'.format(\n",
        "        epoch, nb_epochs, batch_idx+1, len(dataloader),\n",
        "        cost.item()\n",
        "        ))"
      ],
      "metadata": {
        "id": "Vmyiu-hQd9LO",
        "colab": {
          "base_uri": "https://localhost:8080/"
        },
        "outputId": "addc5b20-fae9-4fd5-a8db-b3bdac16b279"
      },
      "execution_count": null,
      "outputs": [
        {
          "output_type": "stream",
          "name": "stdout",
          "text": [
            "Epoch    0/20 Batch 1/3 Cost: 27877.195312\n",
            "Epoch    0/20 Batch 2/3 Cost: 8585.636719\n",
            "Epoch    0/20 Batch 3/3 Cost: 3554.775879\n",
            "Epoch    1/20 Batch 1/3 Cost: 749.577026\n",
            "Epoch    1/20 Batch 2/3 Cost: 250.899918\n",
            "Epoch    1/20 Batch 3/3 Cost: 75.520920\n",
            "Epoch    2/20 Batch 1/3 Cost: 22.237143\n",
            "Epoch    2/20 Batch 2/3 Cost: 7.719267\n",
            "Epoch    2/20 Batch 3/3 Cost: 3.609107\n",
            "Epoch    3/20 Batch 1/3 Cost: 1.171040\n",
            "Epoch    3/20 Batch 2/3 Cost: 0.206909\n",
            "Epoch    3/20 Batch 3/3 Cost: 0.000247\n",
            "Epoch    4/20 Batch 1/3 Cost: 0.101952\n",
            "Epoch    4/20 Batch 2/3 Cost: 0.525032\n",
            "Epoch    4/20 Batch 3/3 Cost: 0.039609\n",
            "Epoch    5/20 Batch 1/3 Cost: 0.185571\n",
            "Epoch    5/20 Batch 2/3 Cost: 0.124263\n",
            "Epoch    5/20 Batch 3/3 Cost: 0.469954\n",
            "Epoch    6/20 Batch 1/3 Cost: 0.100209\n",
            "Epoch    6/20 Batch 2/3 Cost: 0.170273\n",
            "Epoch    6/20 Batch 3/3 Cost: 0.602130\n",
            "Epoch    7/20 Batch 1/3 Cost: 0.434945\n",
            "Epoch    7/20 Batch 2/3 Cost: 0.084600\n",
            "Epoch    7/20 Batch 3/3 Cost: 0.001000\n",
            "Epoch    8/20 Batch 1/3 Cost: 0.170110\n",
            "Epoch    8/20 Batch 2/3 Cost: 0.096592\n",
            "Epoch    8/20 Batch 3/3 Cost: 0.513973\n",
            "Epoch    9/20 Batch 1/3 Cost: 0.091816\n",
            "Epoch    9/20 Batch 2/3 Cost: 0.265802\n",
            "Epoch    9/20 Batch 3/3 Cost: 0.477368\n",
            "Epoch   10/20 Batch 1/3 Cost: 0.143960\n",
            "Epoch   10/20 Batch 2/3 Cost: 0.064982\n",
            "Epoch   10/20 Batch 3/3 Cost: 0.656566\n",
            "Epoch   11/20 Batch 1/3 Cost: 0.452186\n",
            "Epoch   11/20 Batch 2/3 Cost: 0.271359\n",
            "Epoch   11/20 Batch 3/3 Cost: 0.013427\n",
            "Epoch   12/20 Batch 1/3 Cost: 0.310403\n",
            "Epoch   12/20 Batch 2/3 Cost: 0.323466\n",
            "Epoch   12/20 Batch 3/3 Cost: 0.009250\n",
            "Epoch   13/20 Batch 1/3 Cost: 0.359375\n",
            "Epoch   13/20 Batch 2/3 Cost: 0.048345\n",
            "Epoch   13/20 Batch 3/3 Cost: 0.431185\n",
            "Epoch   14/20 Batch 1/3 Cost: 0.058657\n",
            "Epoch   14/20 Batch 2/3 Cost: 0.257048\n",
            "Epoch   14/20 Batch 3/3 Cost: 0.554654\n",
            "Epoch   15/20 Batch 1/3 Cost: 0.119979\n",
            "Epoch   15/20 Batch 2/3 Cost: 0.149510\n",
            "Epoch   15/20 Batch 3/3 Cost: 0.579193\n",
            "Epoch   16/20 Batch 1/3 Cost: 0.101279\n",
            "Epoch   16/20 Batch 2/3 Cost: 0.527524\n",
            "Epoch   16/20 Batch 3/3 Cost: 0.038344\n",
            "Epoch   17/20 Batch 1/3 Cost: 0.009622\n",
            "Epoch   17/20 Batch 2/3 Cost: 0.210997\n",
            "Epoch   17/20 Batch 3/3 Cost: 0.562592\n",
            "Epoch   18/20 Batch 1/3 Cost: 0.076901\n",
            "Epoch   18/20 Batch 2/3 Cost: 0.416137\n",
            "Epoch   18/20 Batch 3/3 Cost: 0.055750\n",
            "Epoch   19/20 Batch 1/3 Cost: 0.178954\n",
            "Epoch   19/20 Batch 2/3 Cost: 0.032059\n",
            "Epoch   19/20 Batch 3/3 Cost: 0.594717\n",
            "Epoch   20/20 Batch 1/3 Cost: 0.143717\n",
            "Epoch   20/20 Batch 2/3 Cost: 0.172826\n",
            "Epoch   20/20 Batch 3/3 Cost: 0.690043\n"
          ]
        }
      ]
    },
    {
      "cell_type": "code",
      "source": [
        "from inspect import signature\n",
        "\n",
        "signature(torch.optim.SGD)"
      ],
      "metadata": {
        "colab": {
          "base_uri": "https://localhost:8080/"
        },
        "id": "e6kJpZuqWc5Q",
        "outputId": "3af14530-8140-4385-f783-d693e075d6ab"
      },
      "execution_count": null,
      "outputs": [
        {
          "output_type": "execute_result",
          "data": {
            "text/plain": [
              "<Signature (params, lr: float = 0.001, momentum: float = 0, dampening: float = 0, weight_decay: float = 0, nesterov=False, *, maximize: bool = False, foreach: Optional[bool] = None, differentiable: bool = False, fused: Optional[bool] = None)>"
            ]
          },
          "metadata": {},
          "execution_count": 31
        }
      ]
    },
    {
      "cell_type": "code",
      "source": [
        "import sklearn.preprocessing\n",
        "\n",
        "dir(sklearn.preprocessing)"
      ],
      "metadata": {
        "colab": {
          "base_uri": "https://localhost:8080/"
        },
        "id": "NRN8uaSoW631",
        "outputId": "eef82c15-91e1-4472-df86-0847ae28dff9"
      },
      "execution_count": null,
      "outputs": [
        {
          "output_type": "execute_result",
          "data": {
            "text/plain": [
              "['Binarizer',\n",
              " 'FunctionTransformer',\n",
              " 'KBinsDiscretizer',\n",
              " 'KernelCenterer',\n",
              " 'LabelBinarizer',\n",
              " 'LabelEncoder',\n",
              " 'MaxAbsScaler',\n",
              " 'MinMaxScaler',\n",
              " 'MultiLabelBinarizer',\n",
              " 'Normalizer',\n",
              " 'OneHotEncoder',\n",
              " 'OrdinalEncoder',\n",
              " 'PolynomialFeatures',\n",
              " 'PowerTransformer',\n",
              " 'QuantileTransformer',\n",
              " 'RobustScaler',\n",
              " 'SplineTransformer',\n",
              " 'StandardScaler',\n",
              " 'TargetEncoder',\n",
              " '__all__',\n",
              " '__builtins__',\n",
              " '__cached__',\n",
              " '__doc__',\n",
              " '__file__',\n",
              " '__loader__',\n",
              " '__name__',\n",
              " '__package__',\n",
              " '__path__',\n",
              " '__spec__',\n",
              " '_csr_polynomial_expansion',\n",
              " '_data',\n",
              " '_discretization',\n",
              " '_encoders',\n",
              " '_function_transformer',\n",
              " '_label',\n",
              " '_polynomial',\n",
              " '_target_encoder',\n",
              " '_target_encoder_fast',\n",
              " 'add_dummy_feature',\n",
              " 'binarize',\n",
              " 'label_binarize',\n",
              " 'maxabs_scale',\n",
              " 'minmax_scale',\n",
              " 'normalize',\n",
              " 'power_transform',\n",
              " 'quantile_transform',\n",
              " 'robust_scale',\n",
              " 'scale']"
            ]
          },
          "metadata": {},
          "execution_count": 32
        }
      ]
    },
    {
      "cell_type": "markdown",
      "source": [
        "# 파이토치 선형회귀 끝\n",
        "================================================================================"
      ],
      "metadata": {
        "id": "SlvzYnPJr9tv"
      }
    },
    {
      "cell_type": "markdown",
      "source": [
        "### 7) Multi Layer Perceptron == MLP == 다층퍼셉트론을 통한 회귀"
      ],
      "metadata": {
        "id": "fpjsiLL6dOqQ"
      }
    },
    {
      "cell_type": "code",
      "source": [
        "import torch\n",
        "import torch.nn as nn\n",
        "import torch.optim as optim\n",
        "from torch.utils.data import DataLoader, TensorDataset\n",
        "\n",
        "X = torch.randn(100, 10)  # 임의의 입력 데이터 (100개 데이터, 10차원)\n",
        "y = torch.randn(100, 1)   # 임의의 출력 랜덤 데이터 (100개 데이터, 1차원)\n",
        "\n",
        "dataset = TensorDataset(X, y) # 인풋데이터와 아웃풋을 짝꿍으로 묶어준다\n",
        "dataloader = DataLoader(dataset, batch_size=10, shuffle=True) # 배치사이즈 10개씩 묶는다.\n",
        "\n",
        "class MLPRegression(nn.Module):\n",
        "    def __init__(self):\n",
        "        super(MLPRegression, self).__init__()\n",
        "        self.layer1 = nn.Linear(10, 64) # 10개 입력\n",
        "        self.layer2 = nn.Linear(64, 32)\n",
        "        self.output_layer = nn.Linear(32, 1) # 1개 출력\n",
        "\n",
        "    def forward(self, x):\n",
        "        x = torch.relu(self.layer1(x))\n",
        "        x = torch.relu(self.layer2(x))\n",
        "        x = self.output_layer(x)\n",
        "        return x\n",
        "\n",
        "model = MLPRegression()\n",
        "criterion = nn.MSELoss()\n",
        "optimizer = optim.SGD(model.parameters(), lr=0.001)\n",
        "num_epochs = 10\n",
        "\n",
        "for epoch in range(num_epochs):\n",
        "    for batch_X, batch_y in dataloader:\n",
        "        predictions = model(batch_X)\n",
        "\n",
        "        loss = criterion(predictions, batch_y)\n",
        "        optimizer.zero_grad()\n",
        "\n",
        "        # 기울기 계산 후 가중치 갱신\n",
        "        loss.backward()\n",
        "        optimizer.step()\n",
        "\n",
        "    if (epoch+1) % 2 == 0:\n",
        "        print(f'Epoch [{epoch+1}/{num_epochs}], Loss: {loss.item():.4f}')\n"
      ],
      "metadata": {
        "colab": {
          "base_uri": "https://localhost:8080/"
        },
        "id": "cyLaVoRjoInA",
        "outputId": "029bd657-5b09-47df-eac3-f905fb9fb3f7"
      },
      "execution_count": null,
      "outputs": [
        {
          "output_type": "stream",
          "name": "stdout",
          "text": [
            "Epoch [2/10], Loss: 0.8264\n",
            "Epoch [4/10], Loss: 0.8355\n",
            "Epoch [6/10], Loss: 1.1637\n",
            "Epoch [8/10], Loss: 1.0437\n",
            "Epoch [10/10], Loss: 1.2407\n"
          ]
        }
      ]
    },
    {
      "cell_type": "code",
      "source": [
        "# 모델 평가 모드\n",
        "\n",
        "# model.train(): 학습모드\n",
        "\n",
        "\n",
        "model.eval() # 드롭아웃(dropout)과 배치 정규화(batch normalization)와 같은 레이어가 고정됨\n",
        "with torch.no_grad(): # 기울기를 안구하겠다고 정의, optimizer.step()을 안하면 되지 않냐라고 볼 수 있지만,\n",
        "                      # autograd 엔진이 그래디언트 계산을 위한 기록을 하지 않기 때문에 메모리를 더 적게 사용\n",
        "    predictions = model(X)\n",
        "    loss = criterion(predictions, y)\n",
        "    print(f'Final Loss: {loss.item():.4f}')\n"
      ],
      "metadata": {
        "colab": {
          "base_uri": "https://localhost:8080/"
        },
        "id": "Lks_aOvHpjQ-",
        "outputId": "95ddf93f-1bb7-4b30-8c48-cd382e94623c"
      },
      "execution_count": null,
      "outputs": [
        {
          "output_type": "stream",
          "name": "stdout",
          "text": [
            "Final Loss: 1.1481\n"
          ]
        }
      ]
    },
    {
      "cell_type": "markdown",
      "source": [
        "## 8) wine.csv 데이터를 이용하여 MLP 학습 및 평가 모델을 만들어보자"
      ],
      "metadata": {
        "id": "-hy-4QhrpwvV"
      }
    },
    {
      "cell_type": "code",
      "source": [
        "import torch\n",
        "import torch.nn as nn\n",
        "import torch.optim as optim\n",
        "from torch.utils.data import DataLoader, TensorDataset\n",
        "import pandas as pd\n",
        "from sklearn.model_selection import train_test_split\n",
        "from sklearn.preprocessing import StandardScaler"
      ],
      "metadata": {
        "id": "3UgHvE7spr88"
      },
      "execution_count": null,
      "outputs": []
    },
    {
      "cell_type": "code",
      "source": [
        "data = pd.read_csv('wine.csv')\n",
        "\n",
        "# 입력과 출력 분리\n",
        "X = data.drop(columns=['alcohol']).values  # 'alcohol' 열을 제외한 나머지 특성사용\n",
        "y = data['alcohol'].values  # 와인의 알콜을 종속 변수로 선택\n",
        "\n",
        "# 데이터를 훈련/테스트 세트로 분리\n",
        "X_train, X_valid, y_train, y_valid = train_test_split(X, y, test_size=0.2, random_state=42)\n",
        "\n",
        "# 데이터 정규화\n",
        "scaler = StandardScaler()\n",
        "X_train = scaler.fit_transform(X_train)\n",
        "X_valid = scaler.transform(X_valid)\n",
        "\n",
        "# 텐서 변환 (직관적인 방식)\n",
        "X_train = torch.FloatTensor(X_train)\n",
        "y_train = torch.FloatTensor(y_train).view(-1, 1) # 열백터\n",
        "X_valid = torch.FloatTensor(X_valid)\n",
        "y_valid = torch.FloatTensor(y_valid).view(-1, 1) # 열백터\n",
        "# 텐서 변환 (유연한 데이터 비트 정의 방식)\n",
        "# X_train = torch.tensor(X_train, dtype=torch.float32)\n",
        "# y_train = torch.tensor(y_train, dtype=torch.float32).view(-1, 1)\n",
        "# X_valid = torch.tensor(X_valid, dtype=torch.float32)\n",
        "# y_valid = torch.tensor(y_valid, dtype=torch.float32).view(-1, 1)\n",
        "\n",
        "# 데이터셋과 데이터로더\n",
        "train_dataset = TensorDataset(X_train, y_train)\n",
        "train_loader = DataLoader(train_dataset, batch_size=32, shuffle=True)"
      ],
      "metadata": {
        "id": "1EMcXmPsp3xM"
      },
      "execution_count": null,
      "outputs": []
    },
    {
      "cell_type": "code",
      "source": [
        "class MLPRegression(nn.Module):\n",
        "    def __init__(self):\n",
        "        super(MLPRegression, self).__init__()\n",
        "        self.layer1 = nn.Linear(X_train.shape[1], 64)\n",
        "        self.layer2 = nn.Linear(64, 32)\n",
        "        self.output_layer = nn.Linear(32, 1)\n",
        "\n",
        "    def forward(self, x):\n",
        "        x = torch.relu(self.layer1(x))\n",
        "        x = torch.relu(self.layer2(x))\n",
        "        x = self.output_layer(x)\n",
        "        return x\n",
        "\n",
        "model = MLPRegression()\n",
        "criterion = nn.MSELoss()\n",
        "optimizer = optim.SGD(model.parameters(), lr=0.001)"
      ],
      "metadata": {
        "id": "gacfqD3bvHbe"
      },
      "execution_count": null,
      "outputs": []
    },
    {
      "cell_type": "code",
      "source": [
        "num_epochs = 10\n",
        "\n",
        "for epoch in range(num_epochs):\n",
        "    model.train()\n",
        "    for batch_X, batch_y in train_loader:\n",
        "\n",
        "        predictions = model(batch_X)\n",
        "        loss = criterion(predictions, batch_y)\n",
        "\n",
        "        # 기울기 초기화\n",
        "        optimizer.zero_grad()\n",
        "\n",
        "        # 역전파\n",
        "        loss.backward()\n",
        "        optimizer.step()\n",
        "\n",
        "    if (epoch+1) % 2 == 0:\n",
        "        print(f'Epoch [{epoch+1}/{num_epochs}], Loss: {loss.item():.4f}')"
      ],
      "metadata": {
        "colab": {
          "base_uri": "https://localhost:8080/"
        },
        "id": "tMhvzeV6vIsm",
        "outputId": "0a5beccd-dbf0-42ec-b277-deb89b90c567"
      },
      "execution_count": null,
      "outputs": [
        {
          "output_type": "stream",
          "name": "stdout",
          "text": [
            "Epoch [2/10], Loss: 2.4013\n",
            "Epoch [4/10], Loss: 1.6482\n",
            "Epoch [6/10], Loss: 0.6198\n",
            "Epoch [8/10], Loss: 0.2193\n",
            "Epoch [10/10], Loss: 0.1157\n"
          ]
        }
      ]
    },
    {
      "cell_type": "code",
      "source": [
        "model.eval()\n",
        "with torch.no_grad():\n",
        "    predictions = model(X_valid)\n",
        "    loss = criterion(predictions, y_valid)\n",
        "    print(f'평가 loss: {loss.item():.4f}')\n"
      ],
      "metadata": {
        "colab": {
          "base_uri": "https://localhost:8080/"
        },
        "id": "tRJ00Xruv2XV",
        "outputId": "ebbf7540-1c86-49b9-db10-696123cea46d"
      },
      "execution_count": null,
      "outputs": [
        {
          "output_type": "stream",
          "name": "stdout",
          "text": [
            "평가 loss: 0.4375\n"
          ]
        }
      ]
    },
    {
      "cell_type": "code",
      "source": [
        "print(f\"예측 값: {predictions[:5].view(-1).tolist()}\")\n",
        "print(f\"실제 값: {y_valid[:5].view(-1).tolist()}\")\n"
      ],
      "metadata": {
        "colab": {
          "base_uri": "https://localhost:8080/"
        },
        "id": "fR7DcEl4v3ON",
        "outputId": "93728d7e-52ad-4aa2-a645-65d2eb2054b9"
      },
      "execution_count": null,
      "outputs": [
        {
          "output_type": "stream",
          "name": "stdout",
          "text": [
            "예측 값: [12.497261047363281, 9.410755157470703, 11.729948043823242, 9.70706844329834, 9.365419387817383]\n",
            "실제 값: [12.199999809265137, 9.899999618530273, 12.0, 9.5, 8.899999618530273]\n"
          ]
        }
      ]
    },
    {
      "cell_type": "markdown",
      "source": [
        "### 9) 파생변수 만들어서 학습"
      ],
      "metadata": {
        "id": "dpxMU_8hqNW0"
      }
    },
    {
      "cell_type": "code",
      "source": [
        "import torch\n",
        "import torch.nn as nn\n",
        "import torch.optim as optim\n",
        "from torch.utils.data import DataLoader, TensorDataset\n",
        "import pandas as pd\n",
        "from sklearn.model_selection import train_test_split\n",
        "from sklearn.preprocessing import StandardScaler\n",
        "from sklearn.cluster import KMeans"
      ],
      "metadata": {
        "id": "6as8d_KUvLUW"
      },
      "execution_count": null,
      "outputs": []
    },
    {
      "cell_type": "code",
      "source": [
        "data = pd.read_csv('wine.csv')\n",
        "\n",
        "X = data.drop(columns=['alcohol']).values  # 'alcohol' 열을 제외한 나머지 특성사용\n",
        "y = data['alcohol'].values  # 와인의 알콜을 종속 변수로 선택\n",
        "\n",
        "# KMeans 클러스터링을 통해 파생변수 생성\n",
        "kmeans = KMeans(n_clusters=3, random_state=42)\n",
        "cluster_labels = kmeans.fit_predict(X)\n",
        "cluster_labels"
      ],
      "metadata": {
        "colab": {
          "base_uri": "https://localhost:8080/"
        },
        "id": "TSzHjK0koM9d",
        "outputId": "5f90cf01-2339-4184-84e8-b19ba94a55ac"
      },
      "execution_count": null,
      "outputs": [
        {
          "output_type": "stream",
          "name": "stderr",
          "text": [
            "/usr/local/lib/python3.10/dist-packages/sklearn/cluster/_kmeans.py:1416: FutureWarning: The default value of `n_init` will change from 10 to 'auto' in 1.4. Set the value of `n_init` explicitly to suppress the warning\n",
            "  super()._check_params_vs_input(X, default_n_init=10)\n"
          ]
        },
        {
          "output_type": "execute_result",
          "data": {
            "text/plain": [
              "array([0, 0, 0, ..., 1, 1, 1], dtype=int32)"
            ]
          },
          "metadata": {},
          "execution_count": 43
        }
      ]
    },
    {
      "cell_type": "code",
      "source": [
        "# 원래 데이터에 클러스터 라벨 추가\n",
        "X_extended = pd.concat([pd.DataFrame(X), pd.DataFrame(cluster_labels, columns=['cluster'])], axis=1).values\n",
        "\n",
        "# 데이터를 훈련/테스트 세트로 분리\n",
        "X_train, X_valid, y_train, y_valid = train_test_split(X_extended, y, test_size=0.2, random_state=42)\n",
        "\n",
        "# 데이터 정규화\n",
        "scaler = StandardScaler()\n",
        "X_train[:, :-1] = scaler.fit_transform(X_train[:, :-1])  # 클러스터 레이블 제외하고 정규화 (클러스터 라벨의 의미를 왜곡할 수 있음!)\n",
        "X_valid[:, :-1] = scaler.transform(X_valid[:, :-1])\n",
        "\n",
        "# 데이터를 텐서로 변환\n",
        "X_train = torch.tensor(X_train, dtype=torch.float32)\n",
        "y_train = torch.tensor(y_train, dtype=torch.float32).view(-1, 1)\n",
        "X_valid = torch.tensor(X_valid, dtype=torch.float32)\n",
        "y_valid = torch.tensor(y_valid, dtype=torch.float32).view(-1, 1)\n",
        "\n",
        "# 데이터셋과 데이터로더 준비\n",
        "train_dataset = TensorDataset(X_train, y_train)\n",
        "train_loader = DataLoader(train_dataset, batch_size=32, shuffle=True)\n"
      ],
      "metadata": {
        "id": "pw9HFXyJviEu"
      },
      "execution_count": null,
      "outputs": []
    },
    {
      "cell_type": "code",
      "source": [
        "class MLPRegression(nn.Module):\n",
        "    def __init__(self):\n",
        "        super(MLPRegression, self).__init__()\n",
        "        self.layer1 = nn.Linear(X_train.shape[1], 64)  # X_train.shape[1]은 입력 차원\n",
        "        self.layer2 = nn.Linear(64, 32)\n",
        "        self.output_layer = nn.Linear(32, 1)\n",
        "\n",
        "    def forward(self, x):\n",
        "        x = torch.relu(self.layer1(x))\n",
        "        x = torch.relu(self.layer2(x))\n",
        "        x = self.output_layer(x)\n",
        "        return x\n",
        "\n",
        "model = MLPRegression()\n"
      ],
      "metadata": {
        "id": "jrt-mGbPvjhd"
      },
      "execution_count": null,
      "outputs": []
    },
    {
      "cell_type": "code",
      "source": [
        "criterion = nn.MSELoss()\n",
        "optimizer = optim.SGD(model.parameters(), lr=0.001)\n"
      ],
      "metadata": {
        "id": "FKSqbG5AvkWH"
      },
      "execution_count": null,
      "outputs": []
    },
    {
      "cell_type": "code",
      "source": [
        "num_epochs = 10\n",
        "\n",
        "for epoch in range(num_epochs):\n",
        "    model.train()\n",
        "    for batch_X, batch_y in train_loader:\n",
        "        # 예측값 계산\n",
        "        predictions = model(batch_X)\n",
        "\n",
        "        # 손실 계산\n",
        "        loss = criterion(predictions, batch_y)\n",
        "\n",
        "        # 옵티마이저 초기화\n",
        "        optimizer.zero_grad()\n",
        "\n",
        "        # 역전파 및 가중치 갱신\n",
        "        loss.backward()\n",
        "        optimizer.step()\n",
        "\n",
        "    if (epoch+1) % 2 == 0:\n",
        "        print(f'Epoch [{epoch+1}/{num_epochs}], Loss: {loss.item():.4f}')\n"
      ],
      "metadata": {
        "colab": {
          "base_uri": "https://localhost:8080/"
        },
        "id": "vNYNv3_PvlNW",
        "outputId": "943cde24-94cc-4d5b-bc04-d9768ae9e104"
      },
      "execution_count": null,
      "outputs": [
        {
          "output_type": "stream",
          "name": "stdout",
          "text": [
            "Epoch [2/10], Loss: 0.6186\n",
            "Epoch [4/10], Loss: 1.0240\n",
            "Epoch [6/10], Loss: 0.6035\n",
            "Epoch [8/10], Loss: 0.4137\n",
            "Epoch [10/10], Loss: 0.9857\n"
          ]
        }
      ]
    },
    {
      "cell_type": "code",
      "source": [
        "model.eval()\n",
        "with torch.no_grad():\n",
        "    predictions = model(X_valid)\n",
        "    loss = criterion(predictions, y_valid)\n",
        "    print(f'평가 loss: {loss.item():.4f}')\n"
      ],
      "metadata": {
        "colab": {
          "base_uri": "https://localhost:8080/"
        },
        "id": "Z4aEYhPFvmLf",
        "outputId": "e4b8eb5e-8bed-488f-9233-e16fa0a05159"
      },
      "execution_count": null,
      "outputs": [
        {
          "output_type": "stream",
          "name": "stdout",
          "text": [
            "평가 loss: 0.4749\n"
          ]
        }
      ]
    },
    {
      "cell_type": "code",
      "source": [
        "print(f\"예측 값: {predictions[:5].view(-1).tolist()}\")\n",
        "print(f\"실제 값: {y_valid[:5].view(-1).tolist()}\")\n"
      ],
      "metadata": {
        "colab": {
          "base_uri": "https://localhost:8080/"
        },
        "id": "atvGIzGgvm7v",
        "outputId": "eb67dda3-6794-4359-896f-2da787cdd691"
      },
      "execution_count": null,
      "outputs": [
        {
          "output_type": "stream",
          "name": "stdout",
          "text": [
            "예측 값: [11.62533950805664, 9.380593299865723, 11.484623908996582, 9.644246101379395, 8.880853652954102]\n",
            "실제 값: [12.199999809265137, 9.899999618530273, 12.0, 9.5, 8.899999618530273]\n"
          ]
        }
      ]
    },
    {
      "cell_type": "markdown",
      "source": [
        "### 실습) 파생변수 만들고 아래 3가지 중 1개 스케일러를 사용해서 학습해보자\n",
        "#### 1) Standard Scaler\n",
        "#### 2) MinMax Scaler\n",
        "#### 3) Robust Scaler\n",
        "\n",
        "#### 조건) 클러스터 갯수, 모델 히든사이즈 다르게 작성할 것"
      ],
      "metadata": {
        "id": "SV36SEmtqNUs"
      }
    },
    {
      "cell_type": "code",
      "source": [
        "from sklearn.preprocessing import RobustScaler, MinMaxScaler, StandardScaler # 힌트\n",
        "\n",
        "# 데이터 로드\n",
        "data = pd.read_csv('wine.csv')\n",
        "\n",
        "X = data.drop(columns=['alcohol']).values  # 'alcohol' 열을 제외한 나머지 특성사용\n",
        "y = data['alcohol'].values  # 와인의 알콜을 종속 변수로 선택\n",
        "\n",
        "\n",
        "# 아래 마저 완성\n",
        "# KMeans 클러스터링을 통해 파생변수 생성\n",
        "kmeans = KMeans(n_clusters=2, random_state=42)\n",
        "cluster_labels = kmeans.fit_predict(X)\n",
        "cluster_labels\n",
        "\n",
        "# 원래 데이터에 클러스터 라벨 추가\n",
        "X_extended = pd.concat([pd.DataFrame(X), pd.DataFrame(cluster_labels, columns=['cluster'])], axis=1).values\n",
        "\n",
        "# 데이터를 훈련/테스트 세트로 분리\n",
        "X_train, X_valid, y_train, y_valid = train_test_split(X_extended, y, test_size=0.2, random_state=42)\n",
        "\n",
        "# 데이터 정규화\n",
        "scaler = RobustScaler()\n",
        "X_train[:, :-1] = scaler.fit_transform(X_train[:, :-1])  # 클러스터 레이블 제외하고 정규화 (클러스터 라벨의 의미를 왜곡할 수 있음!)\n",
        "X_valid[:, :-1] = scaler.transform(X_valid[:, :-1])\n",
        "\n",
        "# 데이터를 텐서로 변환\n",
        "X_train = torch.tensor(X_train, dtype=torch.float32)\n",
        "y_train = torch.tensor(y_train, dtype=torch.float32).view(-1, 1)\n",
        "X_valid = torch.tensor(X_valid, dtype=torch.float32)\n",
        "y_valid = torch.tensor(y_valid, dtype=torch.float32).view(-1, 1)\n",
        "\n",
        "# 데이터셋과 데이터로더 준비\n",
        "train_dataset = TensorDataset(X_train, y_train)\n",
        "train_loader = DataLoader(train_dataset, batch_size=32, shuffle=True)\n",
        "\n",
        "class MLPRegression(nn.Module):\n",
        "    def __init__(self):\n",
        "        super(MLPRegression, self).__init__()\n",
        "        self.layer1 = nn.Linear(X_train.shape[1], 64)  # X_train.shape[1]은 입력 차원\n",
        "        self.layer2 = nn.Linear(64, 32)\n",
        "        self.output_layer = nn.Linear(32, 1)\n",
        "\n",
        "    def forward(self, x):\n",
        "        x = torch.relu(self.layer1(x))\n",
        "        x = torch.relu(self.layer2(x))\n",
        "        x = self.output_layer(x)\n",
        "        return x\n",
        "\n",
        "model = MLPRegression()\n",
        "\n",
        "criterion = nn.MSELoss()\n",
        "optimizer = optim.SGD(model.parameters(), lr=0.001)\n",
        "\n",
        "num_epochs = 10\n",
        "\n",
        "for epoch in range(num_epochs):\n",
        "    model.train()\n",
        "    for batch_X, batch_y in train_loader:\n",
        "        # 예측값 계산\n",
        "        predictions = model(batch_X)\n",
        "\n",
        "        # 손실 계산\n",
        "        loss = criterion(predictions, batch_y)\n",
        "\n",
        "        # 옵티마이저 초기화\n",
        "        optimizer.zero_grad()\n",
        "\n",
        "        # 역전파 및 가중치 갱신\n",
        "        loss.backward()\n",
        "        optimizer.step()\n",
        "\n",
        "    if (epoch+1) % 2 == 0:\n",
        "        print(f'Epoch [{epoch+1}/{num_epochs}], Loss: {loss.item():.4f}')"
      ],
      "metadata": {
        "id": "nhv4xEVzuvhm",
        "colab": {
          "base_uri": "https://localhost:8080/"
        },
        "outputId": "d1e7a5ee-072c-47b0-dedd-2c5786146508"
      },
      "execution_count": null,
      "outputs": [
        {
          "output_type": "stream",
          "name": "stderr",
          "text": [
            "/usr/local/lib/python3.10/dist-packages/sklearn/cluster/_kmeans.py:1416: FutureWarning: The default value of `n_init` will change from 10 to 'auto' in 1.4. Set the value of `n_init` explicitly to suppress the warning\n",
            "  super()._check_params_vs_input(X, default_n_init=10)\n"
          ]
        },
        {
          "output_type": "stream",
          "name": "stdout",
          "text": [
            "Epoch [2/10], Loss: 1.2810\n",
            "Epoch [4/10], Loss: 1.4785\n",
            "Epoch [6/10], Loss: 0.3672\n",
            "Epoch [8/10], Loss: 0.4447\n",
            "Epoch [10/10], Loss: 0.3576\n"
          ]
        }
      ]
    },
    {
      "cell_type": "markdown",
      "source": [
        "### 10) kfold를 사용해보자 (StratifiedKFold, TimeSeriesKFold는 현재 회귀 데이터에 적합하지 않다.)"
      ],
      "metadata": {
        "id": "8Pzx-tBRqcFT"
      }
    },
    {
      "cell_type": "code",
      "source": [
        "import torch\n",
        "import torch.nn as nn\n",
        "import torch.optim as optim\n",
        "from torch.utils.data import DataLoader, TensorDataset, ConcatDataset\n",
        "import pandas as pd\n",
        "from sklearn.model_selection import KFold\n",
        "from sklearn.preprocessing import StandardScaler\n",
        "from sklearn.cluster import KMeans\n",
        "import numpy as np\n",
        "\n",
        "# 데이터 로드\n",
        "data = pd.read_csv('wine.csv')\n",
        "\n",
        "X = data.drop(columns=['alcohol']).values  # 'alcohol' 열을 제외한 나머지 특성사용\n",
        "y = data['alcohol'].values  # 와인의 알콜을 종속 변수로 선택\n",
        "\n",
        "# KMeans 클러스터링을 통해 파생변수 생성\n",
        "kmeans = KMeans(n_clusters=3, random_state=42)\n",
        "cluster_labels = kmeans.fit_predict(X)\n",
        "\n",
        "# 원래 데이터에 클러스터 라벨 추가\n",
        "X_extended = pd.concat([pd.DataFrame(X), pd.DataFrame(cluster_labels, columns=['cluster'])], axis=1).values\n",
        "\n",
        "# 데이터 정규화\n",
        "scaler = StandardScaler()\n",
        "X_extended[:, :-1] = scaler.fit_transform(X_extended[:, :-1])  # 클러스터 레이블 제외하고 정규화\n",
        "\n",
        "# 데이터를 텐서로 변환\n",
        "X_extended = torch.tensor(X_extended, dtype=torch.float32)\n",
        "y = torch.tensor(y, dtype=torch.float32).view(-1, 1)\n",
        "\n",
        "# K-Fold 설정\n",
        "kf = KFold(n_splits=5, shuffle=True, random_state=42)\n",
        "\n",
        "class MLPRegression(nn.Module):\n",
        "    def __init__(self):\n",
        "        super(MLPRegression, self).__init__()\n",
        "        self.layer1 = nn.Linear(X_extended.shape[1], 64)  # 입력 차원\n",
        "        self.layer2 = nn.Linear(64, 32)\n",
        "        self.output_layer = nn.Linear(32, 1)\n",
        "\n",
        "    def forward(self, x):\n",
        "        x = torch.relu(self.layer1(x))\n",
        "        x = torch.relu(self.layer2(x))\n",
        "        x = self.output_layer(x)\n",
        "        return x\n",
        "\n",
        "# 교차 검증 루프\n",
        "fold = 1\n",
        "valid_losses = [] # 매 fold마다 loss를 저장할 것이다. 5 fold니까 총 5개의 loss를 담을 수 있다.\n",
        "for train_index, valid_index in kf.split(X_extended): # kf.split X_extended 데이터에서 5 fold에서 첫번째 train 데이터(인풋, 정답)\n",
        "                                                      # valid 데이터(인풋, 정답) 인덱스를 각각 가져온다.\n",
        "    #print(train_index, valid_index)\n",
        "    #break\n",
        "    # 학습 및 검증 데이터 분리, 이때 매번 kfold의 인덱스를 가져와서 인덱싱 해온다.\n",
        "    X_train, X_valid = X_extended[train_index], X_extended[valid_index]\n",
        "    y_train, y_valid = y[train_index], y[valid_index]\n",
        "\n",
        "    # 데이터셋과 데이터로더로 변환\n",
        "    train_dataset = TensorDataset(X_train, y_train)\n",
        "    train_loader = DataLoader(train_dataset, batch_size=32, shuffle=True)\n",
        "\n",
        "    model = MLPRegression()\n",
        "    criterion = nn.MSELoss()\n",
        "    optimizer = optim.SGD(model.parameters(), lr=0.001)\n",
        "    num_epochs = 10\n",
        "\n",
        "    for epoch in range(num_epochs):\n",
        "        model.train()\n",
        "        for batch_X, batch_y in train_loader:\n",
        "            # 예측값 계산\n",
        "            predictions = model(batch_X)\n",
        "\n",
        "            # 손실 계산\n",
        "            loss = criterion(predictions, batch_y)\n",
        "\n",
        "            # 옵티마이저 초기화\n",
        "            optimizer.zero_grad()\n",
        "\n",
        "            # 역전파 및 가중치 갱신\n",
        "            loss.backward()\n",
        "            optimizer.step()\n",
        "\n",
        "        if (epoch+1) % 2 == 0:\n",
        "            print(f'Fold [{fold}], Epoch [{epoch+1}/{num_epochs}], Loss: {loss.item():.4f}')\n",
        "\n",
        "    # 평가 모드로 바꾼다.\n",
        "    model.eval()\n",
        "    with torch.no_grad():\n",
        "        predictions = model(X_valid)\n",
        "        valid_loss = criterion(predictions, y_valid)\n",
        "        valid_losses.append(valid_loss.item())\n",
        "        print(f'Fold [{fold}] Valid Loss: {valid_loss.item():.4f}')\n",
        "\n",
        "    fold += 1\n",
        "\n",
        "# 최종적으로 평가 손실 출력\n",
        "print(f'\\n평균 평가 손실: {np.mean(valid_losses):.4f}')\n"
      ],
      "metadata": {
        "id": "GREI3JjLuvvf",
        "colab": {
          "base_uri": "https://localhost:8080/"
        },
        "outputId": "a28d40b0-6dc6-42b1-d1ec-110b364a3a56"
      },
      "execution_count": null,
      "outputs": [
        {
          "output_type": "stream",
          "name": "stderr",
          "text": [
            "/usr/local/lib/python3.10/dist-packages/sklearn/cluster/_kmeans.py:1416: FutureWarning: The default value of `n_init` will change from 10 to 'auto' in 1.4. Set the value of `n_init` explicitly to suppress the warning\n",
            "  super()._check_params_vs_input(X, default_n_init=10)\n"
          ]
        },
        {
          "output_type": "stream",
          "name": "stdout",
          "text": [
            "Fold [1], Epoch [2/10], Loss: 1.8425\n",
            "Fold [1], Epoch [4/10], Loss: 1.1290\n",
            "Fold [1], Epoch [6/10], Loss: 0.7137\n",
            "Fold [1], Epoch [8/10], Loss: 0.3646\n",
            "Fold [1], Epoch [10/10], Loss: 0.7433\n",
            "Fold [1] Valid Loss: 0.4387\n",
            "Fold [2], Epoch [2/10], Loss: 1.0174\n",
            "Fold [2], Epoch [4/10], Loss: 0.5863\n",
            "Fold [2], Epoch [6/10], Loss: 0.5420\n",
            "Fold [2], Epoch [8/10], Loss: 0.3246\n",
            "Fold [2], Epoch [10/10], Loss: 0.4373\n",
            "Fold [2] Valid Loss: 0.4222\n",
            "Fold [3], Epoch [2/10], Loss: 1.6359\n",
            "Fold [3], Epoch [4/10], Loss: 0.6891\n",
            "Fold [3], Epoch [6/10], Loss: 0.6930\n",
            "Fold [3], Epoch [8/10], Loss: 0.4175\n",
            "Fold [3], Epoch [10/10], Loss: 0.2462\n",
            "Fold [3] Valid Loss: 0.4394\n",
            "Fold [4], Epoch [2/10], Loss: 0.7834\n",
            "Fold [4], Epoch [4/10], Loss: 0.8782\n",
            "Fold [4], Epoch [6/10], Loss: 0.4187\n",
            "Fold [4], Epoch [8/10], Loss: 0.7325\n",
            "Fold [4], Epoch [10/10], Loss: 0.3789\n",
            "Fold [4] Valid Loss: 0.4269\n",
            "Fold [5], Epoch [2/10], Loss: 2.0945\n",
            "Fold [5], Epoch [4/10], Loss: 0.2599\n",
            "Fold [5], Epoch [6/10], Loss: 0.7949\n",
            "Fold [5], Epoch [8/10], Loss: 1.0218\n",
            "Fold [5], Epoch [10/10], Loss: 0.3477\n",
            "Fold [5] Valid Loss: 0.4380\n",
            "\n",
            "평균 평가 손실: 0.4331\n"
          ]
        }
      ]
    },
    {
      "cell_type": "markdown",
      "source": [
        "### 11) 레이어를 많이 쌓아보자"
      ],
      "metadata": {
        "id": "zVhsrcvBqhQD"
      }
    },
    {
      "cell_type": "code",
      "source": [
        "import torch\n",
        "import torch.nn as nn\n",
        "import torch.optim as optim\n",
        "from torch.utils.data import DataLoader, TensorDataset\n",
        "import pandas as pd\n",
        "from sklearn.model_selection import train_test_split\n",
        "from sklearn.preprocessing import StandardScaler\n",
        "from sklearn.cluster import KMeans\n",
        "from sklearn.metrics import r2_score, mean_squared_error, mean_absolute_error\n",
        "import numpy as np\n",
        "\n",
        "data = pd.read_csv('wine.csv')\n",
        "\n",
        "X = data.drop(columns=['alcohol']).values  # 'alcohol' 열을 제외한 나머지 특성사용\n",
        "y = data['alcohol'].values  # 와인의 알콜을 종속 변수로 선택\n",
        "\n",
        "# KMeans 클러스터링을 통해 파생변수 생성\n",
        "kmeans = KMeans(n_clusters=3, random_state=42)\n",
        "cluster_labels = kmeans.fit_predict(X)\n",
        "\n",
        "# 원래 데이터에 클러스터 라벨 추가\n",
        "X_extended = pd.concat([pd.DataFrame(X), pd.DataFrame(cluster_labels, columns=['cluster'])], axis=1).values\n",
        "\n",
        "# 데이터를 훈련/테스트 세트로 분리\n",
        "X_train, X_valid, y_train, y_valid = train_test_split(X_extended, y, test_size=0.2, random_state=42)\n",
        "\n",
        "# 데이터 정규화\n",
        "scaler = StandardScaler()\n",
        "X_train[:, :-1] = scaler.fit_transform(X_train[:, :-1])  # 클러스터 레이블 제외하고 정규화 (클러스터 라벨의 의미를 왜곡할 수 있음!)\n",
        "X_valid[:, :-1] = scaler.transform(X_valid[:, :-1])\n",
        "\n",
        "# 데이터를 텐서로 변환\n",
        "X_train = torch.tensor(X_train, dtype=torch.float32)\n",
        "y_train = torch.tensor(y_train, dtype=torch.float32).view(-1, 1)\n",
        "X_valid = torch.tensor(X_valid, dtype=torch.float32)\n",
        "y_valid = torch.tensor(y_valid, dtype=torch.float32).view(-1, 1)\n",
        "\n",
        "# 데이터셋과 데이터로더 준비\n",
        "train_dataset = TensorDataset(X_train, y_train)\n",
        "train_loader = DataLoader(train_dataset, batch_size=32, shuffle=True)\n",
        "\n",
        "class DNNRegression(nn.Module):\n",
        "    def __init__(self):\n",
        "        super(DNNRegression, self).__init__()\n",
        "        self.layer1 = nn.Linear(X_train.shape[1], 64)  # X_train.shape[1]은 입력 차원\n",
        "        self.layer2 = nn.Linear(64, 128)\n",
        "        self.layer3 = nn.Linear(128, 128)\n",
        "        self.layer4 = nn.Linear(128, 64)\n",
        "        self.layer5 = nn.Linear(64, 32)\n",
        "        self.output_layer = nn.Linear(32, 1)\n",
        "\n",
        "    def forward(self, x):\n",
        "        x = torch.relu(self.layer1(x))\n",
        "        x = torch.relu(self.layer2(x))\n",
        "        x = torch.relu(self.layer3(x))\n",
        "        x = torch.relu(self.layer4(x))\n",
        "        x = torch.relu(self.layer5(x))\n",
        "        x = self.output_layer(x)\n",
        "        return x\n",
        "\n",
        "model = DNNRegression()\n",
        "criterion = nn.MSELoss()\n",
        "optimizer = optim.SGD(model.parameters(), lr=0.001)\n",
        "num_epochs = 10\n",
        "\n",
        "for epoch in range(num_epochs):\n",
        "    model.train()\n",
        "    for batch_X, batch_y in train_loader:\n",
        "        # 예측값 계산\n",
        "        predictions = model(batch_X)\n",
        "\n",
        "        # 손실 계산\n",
        "        loss = criterion(predictions, batch_y)\n",
        "\n",
        "        # 옵티마이저 초기화\n",
        "        optimizer.zero_grad()\n",
        "\n",
        "        # 역전파 및 가중치 갱신\n",
        "        loss.backward()\n",
        "        optimizer.step()\n",
        "\n",
        "    if (epoch+1) % 2 == 0:\n",
        "        print(f'Epoch [{epoch+1}/{num_epochs}], Loss: {loss.item():.4f}')\n",
        "model.eval()\n",
        "with torch.no_grad():\n",
        "    predictions = model(X_valid)\n",
        "    loss = criterion(predictions, y_valid)\n",
        "    print(f'평가 손실 Loss: {loss.item():.4f}')\n",
        "\n",
        "    # tensor -> Numpy로 변환하여 계산\n",
        "    y_valid_np = y_valid.numpy()\n",
        "    predictions_np = predictions.numpy()\n",
        "\n",
        "    r2 = r2_score(y_valid_np, predictions_np)\n",
        "    rmse = np.sqrt(mean_squared_error(y_valid_np, predictions_np))\n",
        "    mae = mean_absolute_error(y_valid_np, predictions_np)\n",
        "    print(f\"R2 Score: {r2:.4f}\")\n",
        "    print(f\"RMSE: {rmse:.4f}\")\n",
        "    print(f\"MAE: {mae:.4f}\")\n",
        "\n",
        "print(f\"예측 값: {predictions[:5].view(-1).tolist()}\")\n",
        "print(f\"실제 값: {y_valid[:5].view(-1).tolist()}\")"
      ],
      "metadata": {
        "id": "45uR4DliuwB_",
        "colab": {
          "base_uri": "https://localhost:8080/"
        },
        "outputId": "1e950a08-8e80-4b42-dbd0-38a006c49e38"
      },
      "execution_count": null,
      "outputs": [
        {
          "output_type": "stream",
          "name": "stderr",
          "text": [
            "/usr/local/lib/python3.10/dist-packages/sklearn/cluster/_kmeans.py:1416: FutureWarning: The default value of `n_init` will change from 10 to 'auto' in 1.4. Set the value of `n_init` explicitly to suppress the warning\n",
            "  super()._check_params_vs_input(X, default_n_init=10)\n"
          ]
        },
        {
          "output_type": "stream",
          "name": "stdout",
          "text": [
            "Epoch [2/10], Loss: 0.6434\n",
            "Epoch [4/10], Loss: 0.2464\n",
            "Epoch [6/10], Loss: 0.7584\n",
            "Epoch [8/10], Loss: 0.2288\n",
            "Epoch [10/10], Loss: 0.1893\n",
            "평가 손실 Loss: 0.2866\n",
            "R2 Score: 0.8001\n",
            "RMSE: 0.5354\n",
            "MAE: 0.4124\n",
            "예측 값: [11.362231254577637, 9.984506607055664, 12.118374824523926, 9.856837272644043, 9.110892295837402]\n",
            "실제 값: [12.199999809265137, 9.899999618530273, 12.0, 9.5, 8.899999618530273]\n"
          ]
        }
      ]
    },
    {
      "cell_type": "markdown",
      "source": [
        "### 실습) 모델을 한번 쌓고, 노드(퍼셉트론)를 늘려보고, 나만의 모델을 만들어보자"
      ],
      "metadata": {
        "id": "KU0Gu1uKjQ3K"
      }
    },
    {
      "cell_type": "code",
      "source": [
        "import torch\n",
        "import torch.nn as nn\n",
        "import torch.optim as optim\n",
        "from torch.utils.data import DataLoader, TensorDataset\n",
        "import pandas as pd\n",
        "from sklearn.model_selection import train_test_split\n",
        "from sklearn.preprocessing import StandardScaler\n",
        "from sklearn.cluster import KMeans\n",
        "\n",
        "\n",
        "data = pd.read_csv('wine.csv')\n",
        "\n",
        "X = data.drop(columns=['alcohol']).values  # 'alcohol' 열을 제외한 나머지 특성사용\n",
        "y = data['alcohol'].values  # 와인의 알콜을 종속 변수로 선택\n",
        "\n",
        "# KMeans 클러스터링을 통해 파생변수 생성\n",
        "kmeans = KMeans(n_clusters=3, random_state=42)\n",
        "cluster_labels = kmeans.fit_predict(X)\n",
        "\n",
        "# 원래 데이터에 클러스터 라벨 추가\n",
        "X_extended = pd.concat([pd.DataFrame(X), pd.DataFrame(cluster_labels, columns=['cluster'])], axis=1).values\n",
        "\n",
        "# 데이터를 훈련/테스트 세트로 분리\n",
        "X_train, X_valid, y_train, y_valid = train_test_split(X_extended, y, test_size=0.2, random_state=42)\n",
        "\n",
        "# 데이터 정규화\n",
        "scaler = StandardScaler()\n",
        "X_train[:, :-1] = scaler.fit_transform(X_train[:, :-1])  # 클러스터 레이블 제외하고 정규화 (클러스터 라벨의 의미를 왜곡할 수 있음!)\n",
        "X_valid[:, :-1] = scaler.transform(X_valid[:, :-1])\n",
        "\n",
        "# 데이터를 텐서로 변환\n",
        "X_train = torch.tensor(X_train, dtype=torch.float32)\n",
        "y_train = torch.tensor(y_train, dtype=torch.float32).view(-1, 1)\n",
        "X_valid = torch.tensor(X_valid, dtype=torch.float32)\n",
        "y_valid = torch.tensor(y_valid, dtype=torch.float32).view(-1, 1)\n",
        "\n",
        "# 데이터셋과 데이터로더 준비\n",
        "train_dataset = TensorDataset(X_train, y_train)\n",
        "train_loader = DataLoader(train_dataset, batch_size=32, shuffle=True)\n",
        "\n",
        "class DNNRegression(nn.Module):\n",
        "    def __init__(self):\n",
        "        super(DNNRegression, self).__init__()\n",
        "        self.layer1 = nn.Linear(X_train.shape[1],64)  # X_train.shape[1]은 입력 차원\n",
        "        self.layer2 = nn.Linear(64, 32)\n",
        "        self.layer3 = nn.Linear(32, 128)\n",
        "        self.layer4 = nn.Linear(128, 64)\n",
        "        self.layer5 = nn.Linear(64, 32)\n",
        "        self.layer6 = nn.Linear(32, 32)\n",
        "        self.output_layer = nn.Linear(32, 1)\n",
        "\n",
        "    def forward(self, x):\n",
        "        x = torch.relu(self.layer1(x))\n",
        "        x = torch.relu(self.layer2(x))\n",
        "        x = torch.relu(self.layer3(x))\n",
        "        x = torch.relu(self.layer4(x))\n",
        "        x = torch.relu(self.layer5(x))\n",
        "        x = torch.relu(self.layer6(x))\n",
        "        x = self.output_layer(x)\n",
        "        return x\n",
        "\n",
        "model = DNNRegression()\n",
        "criterion = nn.MSELoss()\n",
        "optimizer = optim.SGD(model.parameters(), lr=0.001)\n",
        "num_epochs = 10\n",
        "\n",
        "for epoch in range(num_epochs):\n",
        "    model.train()\n",
        "    for batch_X, batch_y in train_loader:\n",
        "        # 예측값 계산\n",
        "        predictions = model(batch_X)\n",
        "\n",
        "        # 손실 계산\n",
        "        loss = criterion(predictions, batch_y)\n",
        "\n",
        "        # 옵티마이저 초기화\n",
        "        optimizer.zero_grad()\n",
        "\n",
        "        # 역전파 및 가중치 갱신\n",
        "        loss.backward()\n",
        "        optimizer.step()\n",
        "\n",
        "    if (epoch+1) % 2 == 0:\n",
        "        print(f'Epoch [{epoch+1}/{num_epochs}], Loss: {loss.item():.4f}')\n",
        "model.eval()\n",
        "with torch.no_grad():\n",
        "    predictions = model(X_valid)\n",
        "    loss = criterion(predictions, y_valid)\n",
        "    print(f'평가 손실 Loss: {loss.item():.4f}')\n",
        "print(f\"예측 값: {predictions[:5].view(-1).tolist()}\")\n",
        "print(f\"실제 값: {y_valid[:5].view(-1).tolist()}\")"
      ],
      "metadata": {
        "id": "e2AkabCajRMI",
        "colab": {
          "base_uri": "https://localhost:8080/"
        },
        "outputId": "e2917001-3ef4-4c10-9ed2-e087d267c73e"
      },
      "execution_count": null,
      "outputs": [
        {
          "output_type": "stream",
          "name": "stderr",
          "text": [
            "/usr/local/lib/python3.10/dist-packages/sklearn/cluster/_kmeans.py:1416: FutureWarning: The default value of `n_init` will change from 10 to 'auto' in 1.4. Set the value of `n_init` explicitly to suppress the warning\n",
            "  super()._check_params_vs_input(X, default_n_init=10)\n"
          ]
        },
        {
          "output_type": "stream",
          "name": "stdout",
          "text": [
            "Epoch [2/10], Loss: 0.1526\n",
            "Epoch [4/10], Loss: 0.3524\n",
            "Epoch [6/10], Loss: 0.2157\n",
            "Epoch [8/10], Loss: 0.7333\n",
            "Epoch [10/10], Loss: 0.2553\n",
            "평가 손실 Loss: 0.3366\n",
            "예측 값: [11.336273193359375, 9.896539688110352, 12.06331729888916, 9.514368057250977, 9.146089553833008]\n",
            "실제 값: [12.199999809265137, 9.899999618530273, 12.0, 9.5, 8.899999618530273]\n"
          ]
        }
      ]
    },
    {
      "cell_type": "markdown",
      "source": [
        "### 12) 어떤 옵티마이저들이 있을까 (학습률 decay, 규제(weight decay) 적용)"
      ],
      "metadata": {
        "id": "Fl_Hdys6qm-7"
      }
    },
    {
      "cell_type": "code",
      "source": [
        "import torch\n",
        "import torch.nn as nn\n",
        "import torch.optim as optim\n",
        "from torch.utils.data import DataLoader, TensorDataset\n",
        "import pandas as pd\n",
        "from sklearn.model_selection import train_test_split\n",
        "from sklearn.preprocessing import StandardScaler\n",
        "from sklearn.cluster import KMeans\n",
        "\n",
        "\n",
        "data = pd.read_csv('wine.csv')\n",
        "\n",
        "X = data.drop(columns=['alcohol']).values  # 'alcohol' 열을 제외한 나머지 특성사용\n",
        "y = data['alcohol'].values  # 와인의 알콜을 종속 변수로 선택\n",
        "\n",
        "# KMeans 클러스터링을 통해 파생변수 생성\n",
        "kmeans = KMeans(n_clusters=3, random_state=42)\n",
        "cluster_labels = kmeans.fit_predict(X)\n",
        "\n",
        "# 원래 데이터에 클러스터 라벨 추가\n",
        "X_extended = pd.concat([pd.DataFrame(X), pd.DataFrame(cluster_labels, columns=['cluster'])], axis=1).values\n",
        "\n",
        "# 데이터를 훈련/테스트 세트로 분리\n",
        "X_train, X_valid, y_train, y_valid = train_test_split(X_extended, y, test_size=0.2, random_state=42)\n",
        "\n",
        "# 데이터 정규화\n",
        "scaler = StandardScaler()\n",
        "X_train[:, :-1] = scaler.fit_transform(X_train[:, :-1])  # 클러스터 레이블 제외하고 정규화 (클러스터 라벨의 의미를 왜곡할 수 있음!)\n",
        "X_valid[:, :-1] = scaler.transform(X_valid[:, :-1])\n",
        "\n",
        "# 데이터를 텐서로 변환\n",
        "X_train = torch.tensor(X_train, dtype=torch.float32)\n",
        "y_train = torch.tensor(y_train, dtype=torch.float32).view(-1, 1)\n",
        "X_valid = torch.tensor(X_valid, dtype=torch.float32)\n",
        "y_valid = torch.tensor(y_valid, dtype=torch.float32).view(-1, 1)\n",
        "\n",
        "# 데이터셋과 데이터로더 준비\n",
        "train_dataset = TensorDataset(X_train, y_train)\n",
        "train_loader = DataLoader(train_dataset, batch_size=32, shuffle=True)\n",
        "\n",
        "class DNNRegression(nn.Module):\n",
        "    def __init__(self):\n",
        "        super(DNNRegression, self).__init__()\n",
        "        self.layer1 = nn.Linear(X_train.shape[1], 64)  # X_train.shape[1]은 입력 차원\n",
        "        self.layer2 = nn.Linear(64, 128)\n",
        "        self.layer3 = nn.Linear(128, 128)\n",
        "        self.layer4 = nn.Linear(128, 64)\n",
        "        self.layer5 = nn.Linear(64, 32)\n",
        "        self.output_layer = nn.Linear(32, 1)\n",
        "\n",
        "    def forward(self, x):\n",
        "        x = torch.relu(self.layer1(x))\n",
        "        x = torch.relu(self.layer2(x))\n",
        "        x = torch.relu(self.layer3(x))\n",
        "        x = torch.relu(self.layer4(x))\n",
        "        x = torch.relu(self.layer5(x))\n",
        "        x = self.output_layer(x)\n",
        "        return x\n",
        "\n",
        "model = DNNRegression()\n",
        "criterion = nn.MSELoss()\n",
        "\n",
        "# weight decay 즉, 규제 패널티 강도는 weight 크기가 줄어들도록(오버피팅일 때), 학습률 dacy는 보폭을 줄도록 (loss 값이 날뛸 때 즉, Over shooting 일 때)\n",
        "\n",
        "                                                  # 규제 패널티 강도 0.1 (weight decay), 모델의 가중치가 커지지 않도록 제어, 오버피팅 일때 써봄직함\n",
        "optimizer = optim.SGD(model.parameters(), lr=0.001, weight_decay=0.1)\n",
        "#optimizer = optim.Adam(model.parameters(), lr=0.001, weight_decay=0.1)\n",
        "#optimizer = optim.AdamW(model.parameters(), lr=0.001, weight_decay=0.1)\n",
        "#optimizer = optim.NAdam(model.parameters(), lr=0.001, weight_decay=0.1)\n",
        "                                                      # 2번 학습(epoch)할때마다 학습률값에서 10% 감소한 수치로 조정 (learning rate decay)\n",
        "scheduler = torch.optim.lr_scheduler.StepLR(optimizer, step_size=2, gamma=0.1)\n",
        "\n",
        "num_epochs = 10\n",
        "\n",
        "for epoch in range(num_epochs):\n",
        "    model.train()\n",
        "    for batch_X, batch_y in train_loader:\n",
        "        # 예측값 계산\n",
        "        predictions = model(batch_X)\n",
        "\n",
        "        # 손실 계산\n",
        "        loss = criterion(predictions, batch_y)\n",
        "\n",
        "        # 옵티마이저 초기화\n",
        "        optimizer.zero_grad()\n",
        "\n",
        "        # 역전파 및 가중치 갱신\n",
        "        loss.backward()\n",
        "        optimizer.step()\n",
        "\n",
        "    # 학습률 decay\n",
        "    scheduler.step()\n",
        "\n",
        "    if (epoch+1) % 2 == 0:\n",
        "        print(f'Epoch [{epoch+1}/{num_epochs}], Loss: {loss.item():.4f}')\n",
        "\n",
        "model.eval()\n",
        "with torch.no_grad():\n",
        "    predictions = model(X_valid)\n",
        "    loss = criterion(predictions, y_valid)\n",
        "    print(f'평가 손실 Loss: {loss.item():.4f}')\n",
        "print(f\"예측 값: {predictions[:5].view(-1).tolist()}\")\n",
        "print(f\"실제 값: {y_valid[:5].view(-1).tolist()}\")"
      ],
      "metadata": {
        "id": "ru2DMc6zuwZ_",
        "colab": {
          "base_uri": "https://localhost:8080/"
        },
        "outputId": "b08fa2a6-c41e-4cdd-8d01-3355b3825abc"
      },
      "execution_count": null,
      "outputs": [
        {
          "output_type": "stream",
          "name": "stderr",
          "text": [
            "/usr/local/lib/python3.10/dist-packages/sklearn/cluster/_kmeans.py:1416: FutureWarning: The default value of `n_init` will change from 10 to 'auto' in 1.4. Set the value of `n_init` explicitly to suppress the warning\n",
            "  super()._check_params_vs_input(X, default_n_init=10)\n"
          ]
        },
        {
          "output_type": "stream",
          "name": "stdout",
          "text": [
            "Epoch [2/10], Loss: 0.6966\n",
            "Epoch [4/10], Loss: 0.2905\n",
            "Epoch [6/10], Loss: 0.5331\n",
            "Epoch [8/10], Loss: 0.6452\n",
            "Epoch [10/10], Loss: 1.8163\n",
            "평가 손실 Loss: 0.7062\n",
            "예측 값: [11.940629959106445, 9.111295700073242, 10.856183052062988, 9.811785697937012, 9.109477043151855]\n",
            "실제 값: [12.199999809265137, 9.899999618530273, 12.0, 9.5, 8.899999618530273]\n"
          ]
        }
      ]
    },
    {
      "cell_type": "markdown",
      "source": [
        "### 13) Early stop, tqdm, log를 남겨보자"
      ],
      "metadata": {
        "id": "gzZN6m9SqvXq"
      }
    },
    {
      "cell_type": "code",
      "source": [
        "from tqdm import tqdm\n",
        "\n",
        "count = 0\n",
        "for i in tqdm(range(10000000)):\n",
        "  count +=1\n",
        "\n",
        "count = 1"
      ],
      "metadata": {
        "colab": {
          "base_uri": "https://localhost:8080/"
        },
        "id": "wYKz7cB6tVMT",
        "outputId": "67d6a297-a318-4306-a620-4a1ea469ec4f"
      },
      "execution_count": null,
      "outputs": [
        {
          "output_type": "stream",
          "name": "stderr",
          "text": [
            "100%|██████████| 10000000/10000000 [00:03<00:00, 3061798.81it/s]\n"
          ]
        }
      ]
    },
    {
      "cell_type": "code",
      "source": [
        "import torch\n",
        "import torch.nn as nn\n",
        "import torch.optim as optim\n",
        "from torch.utils.data import DataLoader, TensorDataset\n",
        "import pandas as pd\n",
        "from sklearn.model_selection import train_test_split\n",
        "from sklearn.preprocessing import StandardScaler\n",
        "from sklearn.cluster import KMeans\n",
        "from tqdm import tqdm\n",
        "import os\n",
        "\n",
        "data = pd.read_csv('wine.csv')\n",
        "\n",
        "X = data.drop(columns=['alcohol']).values  # 'alcohol' 열을 제외한 나머지 특성사용\n",
        "y = data['alcohol'].values  # 와인의 알콜을 종속 변수로 선택\n",
        "\n",
        "# KMeans 클러스터링을 통해 파생변수 생성\n",
        "kmeans = KMeans(n_clusters=3, random_state=42)\n",
        "cluster_labels = kmeans.fit_predict(X)\n",
        "\n",
        "# 원래 데이터에 클러스터 라벨 추가\n",
        "X_extended = pd.concat([pd.DataFrame(X), pd.DataFrame(cluster_labels, columns=['cluster'])], axis=1).values\n",
        "\n",
        "# 데이터를 훈련/테스트 세트로 분리\n",
        "X_train, X_valid, y_train, y_valid = train_test_split(X_extended, y, test_size=0.2, random_state=42)\n",
        "\n",
        "# 데이터 정규화\n",
        "scaler = StandardScaler()\n",
        "X_train[:, :-1] = scaler.fit_transform(X_train[:, :-1])  # 클러스터 레이블 제외하고 정규화 (클러스터 라벨의 의미를 왜곡할 수 있음!)\n",
        "X_valid[:, :-1] = scaler.transform(X_valid[:, :-1])\n",
        "\n",
        "# 데이터를 텐서로 변환\n",
        "X_train = torch.tensor(X_train, dtype=torch.float32)\n",
        "y_train = torch.tensor(y_train, dtype=torch.float32).view(-1, 1)\n",
        "X_valid = torch.tensor(X_valid, dtype=torch.float32)\n",
        "y_valid = torch.tensor(y_valid, dtype=torch.float32).view(-1, 1)\n",
        "\n",
        "# 데이터셋과 데이터로더 준비\n",
        "train_dataset = TensorDataset(X_train, y_train)\n",
        "train_loader = DataLoader(train_dataset, batch_size=32, shuffle=True)\n",
        "\n",
        "class DNNRegression(nn.Module):\n",
        "    def __init__(self):\n",
        "        super(DNNRegression, self).__init__()\n",
        "        self.layer1 = nn.Linear(X_train.shape[1], 64)  # X_train.shape[1]은 입력 차원\n",
        "        self.layer2 = nn.Linear(64, 128)\n",
        "        self.layer3 = nn.Linear(128, 128)\n",
        "        self.layer4 = nn.Linear(128, 64)\n",
        "        self.layer5 = nn.Linear(64, 32)\n",
        "        self.output_layer = nn.Linear(32, 1)\n",
        "\n",
        "    def forward(self, x):\n",
        "        x = torch.relu(self.layer1(x))\n",
        "        x = torch.relu(self.layer2(x))\n",
        "        x = torch.relu(self.layer3(x))\n",
        "        x = torch.relu(self.layer4(x))\n",
        "        x = torch.relu(self.layer5(x))\n",
        "        x = self.output_layer(x)\n",
        "        return x\n",
        "\n",
        "model = DNNRegression()\n",
        "criterion = nn.MSELoss()\n",
        "\n",
        "optimizer = optim.AdamW(model.parameters(), lr=0.001, weight_decay=0.01)\n",
        "scheduler = torch.optim.lr_scheduler.StepLR(optimizer, step_size=2, gamma=0.1)\n",
        "\n",
        "# Early Stopping 설정\n",
        "early_stopping_patience = 5  # 평가 loss 개선이 없을 경우, 모델한테 줄 기회 횟수.\n",
        "early_stopping_counter = 0\n",
        "best_loss = float('inf') # 맨 처음 로스를 모르니까 무한으로 잡아놓고 bestloss를 갱신할거다.\n",
        "\n",
        "# 로그 파일(현재 작업 디렉토리에 저장이 된다.)\n",
        "log_file = \"training_log.txt\"\n",
        "if os.path.exists(log_file):\n",
        "    os.remove(log_file)\n",
        "\n",
        "num_epochs = 10\n",
        "\n",
        "pbar = tqdm(range(num_epochs), desc=\"Training\")\n",
        "\n",
        "# tqdm으로 에폭 루프 감싸기\n",
        "for epoch in pbar:\n",
        "    model.train()\n",
        "    epoch_loss = 0\n",
        "    for batch_X, batch_y in train_loader:\n",
        "\n",
        "        # 예측값 계산\n",
        "        predictions = model(batch_X)\n",
        "\n",
        "        # 손실 계산\n",
        "        loss = criterion(predictions, batch_y)\n",
        "\n",
        "        # 옵티마이저 초기화\n",
        "        optimizer.zero_grad()\n",
        "\n",
        "        # 역전파 및 가중치 갱신\n",
        "        loss.backward()\n",
        "        optimizer.step()\n",
        "\n",
        "        # 에폭 손실 계산\n",
        "        epoch_loss += loss.item()\n",
        "\n",
        "    # 학습률 업데이트\n",
        "    scheduler.step()\n",
        "\n",
        "    # 평가 손실 계산\n",
        "    model.eval()\n",
        "    with torch.no_grad():\n",
        "        val_predictions = model(X_valid)\n",
        "        val_loss = criterion(val_predictions, y_valid)\n",
        "\n",
        "    # log 파일에다가 정보 기록\n",
        "    with open(log_file, \"a\") as f:\n",
        "        f.write(f\"Epoch {epoch+1}/{num_epochs}, Loss: {epoch_loss/len(train_loader):.4f}, Valid Loss: {val_loss.item():.4f}\\n\")\n",
        "\n",
        "    # tqdm 진행 표시줄에 정보 반영\n",
        "    pbar.set_postfix({'Loss': f'{epoch_loss/len(train_loader):.4f}', 'Valid Loss': f'{val_loss.item():.4f}'})\n",
        "\n",
        "    # validation loss가 현재까지 갱신된 최저 loss보다 적다면 best loss를 갱신\n",
        "    if val_loss.item() < best_loss:\n",
        "        best_loss = val_loss.item()\n",
        "        early_stopping_counter = 0\n",
        "\n",
        "        # 성능이 뛰어날때 마다 모델을 저장\n",
        "        torch.save(model.state_dict(), \"best_model.pth\")\n",
        "    else:\n",
        "        early_stopping_counter += 1\n",
        "        if early_stopping_counter >= early_stopping_patience:\n",
        "            print(f\"조기종료 epoch: {epoch+1}\")\n",
        "            break\n",
        "\n",
        "# 모델 불러온 다음에 예측\n",
        "model.load_state_dict(torch.load(\"best_model.pth\"))\n",
        "model.eval()\n",
        "with torch.no_grad():\n",
        "    predictions = model(X_valid)\n",
        "    final_loss = criterion(predictions, y_valid)\n",
        "    print(f'\\nFinal 평가 손실 Loss: {final_loss.item():.4f}')\n",
        "print(f\"예측 값: {predictions[:5].view(-1).tolist()}\")\n",
        "print(f\"실제 값: {y_valid[:5].view(-1).tolist()}\")\n",
        "\n"
      ],
      "metadata": {
        "id": "4oYEDr0LuwmI",
        "colab": {
          "base_uri": "https://localhost:8080/"
        },
        "outputId": "f4bd382f-20bc-4332-cf2a-3c623a64dcf2"
      },
      "execution_count": null,
      "outputs": [
        {
          "output_type": "stream",
          "name": "stderr",
          "text": [
            "/usr/local/lib/python3.10/dist-packages/sklearn/cluster/_kmeans.py:1416: FutureWarning: The default value of `n_init` will change from 10 to 'auto' in 1.4. Set the value of `n_init` explicitly to suppress the warning\n",
            "  super()._check_params_vs_input(X, default_n_init=10)\n",
            "Training: 100%|██████████| 10/10 [00:05<00:00,  1.67it/s, Loss=0.5218, Valid Loss=0.6152]"
          ]
        },
        {
          "output_type": "stream",
          "name": "stdout",
          "text": [
            "\n",
            "Final 평가 손실 Loss: 0.6152\n",
            "예측 값: [12.219001770019531, 9.588970184326172, 11.621359825134277, 9.802639961242676, 9.2554292678833]\n",
            "실제 값: [12.199999809265137, 9.899999618530273, 12.0, 9.5, 8.899999618530273]\n"
          ]
        },
        {
          "output_type": "stream",
          "name": "stderr",
          "text": [
            "\n",
            "<ipython-input-5-2dd07d5f88b0>:133: FutureWarning: You are using `torch.load` with `weights_only=False` (the current default value), which uses the default pickle module implicitly. It is possible to construct malicious pickle data which will execute arbitrary code during unpickling (See https://github.com/pytorch/pytorch/blob/main/SECURITY.md#untrusted-models for more details). In a future release, the default value for `weights_only` will be flipped to `True`. This limits the functions that could be executed during unpickling. Arbitrary objects will no longer be allowed to be loaded via this mode unless they are explicitly allowlisted by the user via `torch.serialization.add_safe_globals`. We recommend you start setting `weights_only=True` for any use case where you don't have full control of the loaded file. Please open an issue on GitHub for any issues related to this experimental feature.\n",
            "  model.load_state_dict(torch.load(\"best_model.pth\"))\n"
          ]
        }
      ]
    },
    {
      "cell_type": "markdown",
      "source": [
        "### 14) 가중치 초기화, 배치노말, 드롭아웃을 적용해보자"
      ],
      "metadata": {
        "id": "qpzxuhAgq5QK"
      }
    },
    {
      "cell_type": "code",
      "source": [
        "import torch\n",
        "import torch.nn as nn\n",
        "import torch.optim as optim\n",
        "from torch.utils.data import DataLoader, TensorDataset\n",
        "import pandas as pd\n",
        "from sklearn.model_selection import train_test_split\n",
        "from sklearn.preprocessing import StandardScaler\n",
        "from sklearn.cluster import KMeans\n",
        "\n",
        "# 데이터 로드 및 전처리\n",
        "data = pd.read_csv('wine.csv')\n",
        "\n",
        "X = data.drop(columns=['alcohol']).values  # 'alcohol' 열을 제외한 나머지 특성 사용\n",
        "y = data['alcohol'].values  # 와인의 알콜을 종속 변수로 선택\n",
        "\n",
        "# KMeans 클러스터링을 통해 파생변수 생성\n",
        "kmeans = KMeans(n_clusters=3, random_state=42)\n",
        "cluster_labels = kmeans.fit_predict(X)\n",
        "\n",
        "# 원래 데이터에 클러스터 라벨 추가\n",
        "X_extended = pd.concat([pd.DataFrame(X), pd.DataFrame(cluster_labels, columns=['cluster'])], axis=1).values\n",
        "\n",
        "# 데이터를 훈련/테스트 세트로 분리\n",
        "X_train, X_valid, y_train, y_valid = train_test_split(X_extended, y, test_size=0.2, random_state=42)\n",
        "\n",
        "# 데이터 정규화\n",
        "scaler = StandardScaler()\n",
        "X_train[:, :-1] = scaler.fit_transform(X_train[:, :-1])  # 클러스터 레이블 제외하고 정규화\n",
        "X_valid[:, :-1] = scaler.transform(X_valid[:, :-1])\n",
        "\n",
        "# 데이터를 텐서로 변환\n",
        "X_train = torch.tensor(X_train, dtype=torch.float32)\n",
        "y_train = torch.tensor(y_train, dtype=torch.float32).view(-1, 1)\n",
        "X_valid = torch.tensor(X_valid, dtype=torch.float32)\n",
        "y_valid = torch.tensor(y_valid, dtype=torch.float32).view(-1, 1)\n",
        "\n",
        "# 데이터셋과 데이터로더 준비\n",
        "train_dataset = TensorDataset(X_train, y_train)\n",
        "train_loader = DataLoader(train_dataset, batch_size=32, shuffle=True)\n",
        "\n",
        "class DNNRegression(nn.Module):\n",
        "    def __init__(self):\n",
        "        super(DNNRegression, self).__init__()\n",
        "        self.layer1 = nn.Linear(X_train.shape[1], 64)\n",
        "        self.bn1 = nn.BatchNorm1d(64)\n",
        "        self.dropout1 = nn.Dropout(0.5)\n",
        "\n",
        "        self.layer2 = nn.Linear(64, 128)\n",
        "        self.bn2 = nn.BatchNorm1d(128)\n",
        "        self.dropout2 = nn.Dropout(0.5)\n",
        "\n",
        "        self.layer3 = nn.Linear(128, 128)\n",
        "        self.bn3 = nn.BatchNorm1d(128)\n",
        "        self.dropout3 = nn.Dropout(0.5)\n",
        "\n",
        "        self.layer4 = nn.Linear(128, 64)\n",
        "        self.bn4 = nn.BatchNorm1d(64)\n",
        "        self.dropout4 = nn.Dropout(0.5)\n",
        "\n",
        "        self.layer5 = nn.Linear(64, 32)\n",
        "        self.bn5 = nn.BatchNorm1d(32)\n",
        "        self.dropout5 = nn.Dropout(0.5)\n",
        "\n",
        "        self.output_layer = nn.Linear(32, 1)\n",
        "\n",
        "        # 가중치 초기화\n",
        "        self._initialize_weights()\n",
        "\n",
        "    def forward(self, x):\n",
        "        x = torch.relu(self.bn1(self.layer1(x)))\n",
        "        x = self.dropout1(x)\n",
        "        x = torch.relu(self.bn2(self.layer2(x)))\n",
        "        x = self.dropout2(x)\n",
        "        x = torch.relu(self.bn3(self.layer3(x)))\n",
        "        x = self.dropout3(x)\n",
        "        x = torch.relu(self.bn4(self.layer4(x)))\n",
        "        x = self.dropout4(x)\n",
        "        x = torch.relu(self.bn5(self.layer5(x)))\n",
        "        x = self.dropout5(x)\n",
        "        x = self.output_layer(x)\n",
        "        return x\n",
        "\n",
        "    def _initialize_weights(self):\n",
        "        for m in self.modules(): # 딥러닝 머델의 모든 층을 훑음\n",
        "            if isinstance(m, nn.Linear): # 만약 그 부분이 layer라면,\n",
        "                nn.init.xavier_uniform_(m.weight) # 그 부분의 웨이트를 자비에 유니폼으로 초기화 한다.\n",
        "                if m.bias is not None: # 만약 그 layer가 none이 아니라면 0으로 초기화 한다.\n",
        "                    nn.init.zeros_(m.bias)\n",
        "\n",
        "# 모델, 손실 함수, 옵티마이저 설정\n",
        "model = DNNRegression()\n",
        "criterion = nn.MSELoss()\n",
        "optimizer = optim.SGD(model.parameters(), lr=0.001)\n",
        "num_epochs = 10\n",
        "\n",
        "for epoch in range(num_epochs):\n",
        "    model.train()\n",
        "    for batch_X, batch_y in train_loader:\n",
        "        # 예측값 계산\n",
        "        predictions = model(batch_X)\n",
        "\n",
        "        # 손실 계산\n",
        "        loss = criterion(predictions, batch_y)\n",
        "\n",
        "        # 옵티마이저 초기화\n",
        "        optimizer.zero_grad()\n",
        "\n",
        "        # 역전파 및 가중치 갱신\n",
        "        loss.backward()\n",
        "        optimizer.step()\n",
        "\n",
        "    if (epoch+1) % 2 == 0:\n",
        "        print(f'Epoch [{epoch+1}/{num_epochs}], Loss: {loss.item():.4f}')\n",
        "\n",
        "model.eval()\n",
        "with torch.no_grad():\n",
        "    predictions = model(X_valid)\n",
        "    loss = criterion(predictions, y_valid)\n",
        "    print(f'평가 손실 Loss: {loss.item():.4f}')\n",
        "print(f\"예측 값: {predictions[:5].view(-1).tolist()}\")\n",
        "print(f\"실제 값: {y_valid[:5].view(-1).tolist()}\")\n"
      ],
      "metadata": {
        "id": "XKXZ3NXnqetQ",
        "colab": {
          "base_uri": "https://localhost:8080/"
        },
        "outputId": "434c519f-6a9e-461d-8165-9c9e01f25e39"
      },
      "execution_count": null,
      "outputs": [
        {
          "output_type": "stream",
          "name": "stderr",
          "text": [
            "/usr/local/lib/python3.10/dist-packages/sklearn/cluster/_kmeans.py:1416: FutureWarning: The default value of `n_init` will change from 10 to 'auto' in 1.4. Set the value of `n_init` explicitly to suppress the warning\n",
            "  super()._check_params_vs_input(X, default_n_init=10)\n"
          ]
        },
        {
          "output_type": "stream",
          "name": "stdout",
          "text": [
            "Epoch [2/10], Loss: 9.5438\n",
            "Epoch [4/10], Loss: 8.9491\n",
            "Epoch [6/10], Loss: 7.5224\n",
            "Epoch [8/10], Loss: 6.4373\n",
            "Epoch [10/10], Loss: 5.9476\n",
            "평가 손실 Loss: 1.7795\n",
            "예측 값: [9.952756881713867, 9.890437126159668, 10.10421371459961, 9.494795799255371, 9.55027961730957]\n",
            "실제 값: [12.199999809265137, 9.899999618530273, 12.0, 9.5, 8.899999618530273]\n"
          ]
        }
      ]
    },
    {
      "cell_type": "markdown",
      "source": [
        "### 15) GPU 학습 (데이터가 크거나, 모델이 클 때 학습 속도가 개선되는걸 체감)"
      ],
      "metadata": {
        "id": "-ZatlyKSQRoR"
      }
    },
    {
      "cell_type": "code",
      "source": [
        "# 파이토치 라이브러리에서 GPU를 접근할 수 있는지 확인\n",
        "import torch\n",
        "\n",
        "torch.cuda.is_available()"
      ],
      "metadata": {
        "colab": {
          "base_uri": "https://localhost:8080/"
        },
        "id": "GsmuQdmZ4k5N",
        "outputId": "1ac4ad21-f3a1-4025-e8f7-28fb61e3ae66"
      },
      "execution_count": null,
      "outputs": [
        {
          "output_type": "execute_result",
          "data": {
            "text/plain": [
              "False"
            ]
          },
          "metadata": {},
          "execution_count": 7
        }
      ]
    },
    {
      "cell_type": "code",
      "source": [
        "# GPU 종류, GPU RAM인, VRAM의 용량확인, GPU에 올라가 있는 프로세스 확인\n",
        "!nvidia-smi"
      ],
      "metadata": {
        "colab": {
          "base_uri": "https://localhost:8080/"
        },
        "id": "0PjMqUvt4x3J",
        "outputId": "394133a5-b8fb-41ff-c3c9-e09177a0bb45"
      },
      "execution_count": null,
      "outputs": [
        {
          "output_type": "stream",
          "name": "stdout",
          "text": [
            "/bin/bash: line 1: nvidia-smi: command not found\n"
          ]
        }
      ]
    },
    {
      "cell_type": "code",
      "source": [
        "import torch\n",
        "import torch.nn as nn\n",
        "import torch.optim as optim\n",
        "from torch.utils.data import DataLoader, TensorDataset\n",
        "import pandas as pd\n",
        "from sklearn.model_selection import train_test_split\n",
        "from sklearn.preprocessing import StandardScaler\n",
        "from sklearn.cluster import KMeans\n",
        "import time  # 시간 측정을 위한 모듈\n",
        "\n",
        "# 데이터 로드 및 전처리\n",
        "data = pd.read_csv('wine.csv')\n",
        "\n",
        "X = data.drop(columns=['alcohol']).values  # 'alcohol' 열을 제외한 나머지 특성 사용\n",
        "y = data['alcohol'].values  # 와인의 알콜을 종속 변수로 선택\n",
        "\n",
        "# KMeans 클러스터링을 통해 파생변수 생성\n",
        "kmeans = KMeans(n_clusters=3, random_state=42)\n",
        "cluster_labels = kmeans.fit_predict(X)\n",
        "\n",
        "# 원래 데이터에 클러스터 라벨 추가\n",
        "X_extended = pd.concat([pd.DataFrame(X), pd.DataFrame(cluster_labels, columns=['cluster'])], axis=1).values\n",
        "\n",
        "# 데이터를 훈련/테스트 세트로 분리\n",
        "X_train, X_valid, y_train, y_valid = train_test_split(X_extended, y, test_size=0.2, random_state=42)\n",
        "\n",
        "# 데이터 정규화\n",
        "scaler = StandardScaler()\n",
        "X_train[:, :-1] = scaler.fit_transform(X_train[:, :-1])  # 클러스터 레이블 제외하고 정규화\n",
        "X_valid[:, :-1] = scaler.transform(X_valid[:, :-1])\n",
        "\n",
        "# 데이터를 텐서로 변환\n",
        "X_train = torch.tensor(X_train, dtype=torch.float32)\n",
        "y_train = torch.tensor(y_train, dtype=torch.float32).view(-1, 1)\n",
        "X_valid = torch.tensor(X_valid, dtype=torch.float32)\n",
        "y_valid = torch.tensor(y_valid, dtype=torch.float32).view(-1, 1)\n",
        "\n",
        "# 데이터셋과 데이터로더 준비\n",
        "train_dataset = TensorDataset(X_train, y_train)\n",
        "train_loader = DataLoader(train_dataset, batch_size=64, shuffle=True)\n",
        "\n",
        "class DNNRegression(nn.Module):\n",
        "    def __init__(self):\n",
        "        super(DNNRegression, self).__init__()\n",
        "        self.layer1 = nn.Linear(X_train.shape[1], 64)\n",
        "        self.bn1 = nn.BatchNorm1d(64)\n",
        "        self.dropout1 = nn.Dropout(0.5)\n",
        "\n",
        "        self.layer2 = nn.Linear(64, 128)\n",
        "        self.bn2 = nn.BatchNorm1d(128)\n",
        "        self.dropout2 = nn.Dropout(0.5)\n",
        "\n",
        "        self.layer3 = nn.Linear(128, 128)\n",
        "        self.bn3 = nn.BatchNorm1d(128)\n",
        "        self.dropout3 = nn.Dropout(0.5)\n",
        "\n",
        "        self.layer4 = nn.Linear(128, 64)\n",
        "        self.bn4 = nn.BatchNorm1d(64)\n",
        "        self.dropout4 = nn.Dropout(0.5)\n",
        "\n",
        "        self.layer5 = nn.Linear(64, 32)\n",
        "        self.bn5 = nn.BatchNorm1d(32)\n",
        "        self.dropout5 = nn.Dropout(0.5)\n",
        "\n",
        "        self.output_layer = nn.Linear(32, 1)\n",
        "\n",
        "        # 가중치 초기화\n",
        "        self._initialize_weights()\n",
        "\n",
        "    def forward(self, x):\n",
        "        x = torch.relu(self.bn1(self.layer1(x)))\n",
        "        x = self.dropout1(x)\n",
        "        x = torch.relu(self.bn2(self.layer2(x)))\n",
        "        x = self.dropout2(x)\n",
        "        x = torch.relu(self.bn3(self.layer3(x)))\n",
        "        x = self.dropout3(x)\n",
        "        x = torch.relu(self.bn4(self.layer4(x)))\n",
        "        x = self.dropout4(x)\n",
        "        x = torch.relu(self.bn5(self.layer5(x)))\n",
        "        x = self.dropout5(x)\n",
        "        x = self.output_layer(x)\n",
        "        return x\n",
        "\n",
        "    def _initialize_weights(self):\n",
        "        for m in self.modules():\n",
        "            if isinstance(m, nn.Linear):\n",
        "                nn.init.xavier_uniform_(m.weight)\n",
        "                if m.bias is not None:\n",
        "                    nn.init.zeros_(m.bias)\n",
        "\n",
        "# 모델, 손실 함수, 옵티마이저 설정\n",
        "device = torch.device(\"cuda\" if torch.cuda.is_available() else \"cpu\")  # GPU가 사용 가능한지 확인\n",
        "model = DNNRegression().to(device)  # 모델을 GPU로 이동\n",
        "criterion = nn.MSELoss()\n",
        "optimizer = optim.SGD(model.parameters(), lr=0.001)\n",
        "num_epochs = 10\n",
        "\n",
        "# 학습 시간 측정 시작\n",
        "start_time = time.time()\n",
        "\n",
        "for epoch in range(num_epochs):\n",
        "    model.train()\n",
        "    for batch_X, batch_y in train_loader:\n",
        "        batch_X, batch_y = batch_X.to(device), batch_y.to(device)  # 데이터를 GPU로 이동\n",
        "\n",
        "        # 예측값 계산\n",
        "        predictions = model(batch_X)\n",
        "\n",
        "        # 손실 계산\n",
        "        loss = criterion(predictions, batch_y)\n",
        "\n",
        "        # 옵티마이저 초기화\n",
        "        optimizer.zero_grad()\n",
        "\n",
        "        # 역전파 및 가중치 갱신\n",
        "        loss.backward()\n",
        "        optimizer.step()\n",
        "\n",
        "    if (epoch+1) % 2 == 0:\n",
        "        print(f'Epoch [{epoch+1}/{num_epochs}], Loss: {loss.item():.4f}')\n",
        "\n",
        "# 학습 시간 측정 종료\n",
        "end_time = time.time()\n",
        "elapsed_time = end_time - start_time\n",
        "\n",
        "model.eval()\n",
        "with torch.no_grad():\n",
        "    X_valid, y_valid = X_valid.to(device), y_valid.to(device)  # 검증 데이터도 GPU로 이동\n",
        "    predictions = model(X_valid)\n",
        "    loss = criterion(predictions, y_valid)\n",
        "    print(f'평가 손실 Loss: {loss.item():.4f}')\n",
        "\n",
        "# 결과 출력\n",
        "print(f\"예측 값: {predictions[:5].view(-1).tolist()}\")\n",
        "print(f\"실제 값: {y_valid[:5].view(-1).tolist()}\")\n",
        "\n",
        "# 전체 학습 시간 출력\n",
        "print(f\"총 학습 시간: {elapsed_time:.2f}초\")\n"
      ],
      "metadata": {
        "colab": {
          "base_uri": "https://localhost:8080/"
        },
        "id": "tA9epmM8QQcq",
        "outputId": "a7a9dcef-8332-4b5e-a094-0ee25b6ce8e6"
      },
      "execution_count": null,
      "outputs": [
        {
          "output_type": "stream",
          "name": "stderr",
          "text": [
            "/usr/local/lib/python3.10/dist-packages/sklearn/cluster/_kmeans.py:1416: FutureWarning: The default value of `n_init` will change from 10 to 'auto' in 1.4. Set the value of `n_init` explicitly to suppress the warning\n",
            "  super()._check_params_vs_input(X, default_n_init=10)\n"
          ]
        },
        {
          "output_type": "stream",
          "name": "stdout",
          "text": [
            "Epoch [2/10], Loss: 6.6072\n",
            "Epoch [4/10], Loss: 9.7628\n",
            "Epoch [6/10], Loss: 9.0865\n",
            "Epoch [8/10], Loss: 5.6735\n",
            "Epoch [10/10], Loss: 10.7298\n",
            "평가 손실 Loss: 1.9265\n",
            "예측 값: [9.829809188842773, 9.037939071655273, 9.889864921569824, 9.407989501953125, 8.862186431884766]\n",
            "실제 값: [12.199999809265137, 9.899999618530273, 12.0, 9.5, 8.899999618530273]\n",
            "총 학습 시간: 3.21초\n"
          ]
        }
      ]
    },
    {
      "cell_type": "markdown",
      "source": [
        "# 실습) 아래 정의된 와인 데이터를 가지고 아래 조건을 충족하여 학습 및 평가 코드를 작성하자.\n",
        "\n",
        "1. 모델의 레이어는 5층 이상으로 노드수는 마음대로. (Drop Out과, 자비에 유니폼 초기화, 배치노말라이제이션 적용해보기)\n",
        "2. Adam에 weight decay 0.1, learning rate decay 0.1을 설정 할 것.\n",
        "3. kfold 5 적용.\n",
        "4. tqdm과 early stopping 설정, best model을 저장하도록 할 것.\n",
        "5. GPU를 통한 학습 및 평가 할 것"
      ],
      "metadata": {
        "id": "g3IU2_-1voye"
      }
    },
    {
      "cell_type": "code",
      "source": [
        "import torch\n",
        "import torch.nn as nn\n",
        "import torch.optim as optim\n",
        "from torch.utils.data import DataLoader, TensorDataset\n",
        "from sklearn.model_selection import KFold\n",
        "import pandas as pd\n",
        "from sklearn.preprocessing import StandardScaler\n",
        "from sklearn.cluster import KMeans\n",
        "from tqdm import tqdm\n",
        "import time\n",
        "import os\n",
        "\n",
        "# 데이터 로드 및 전처리\n",
        "data = pd.read_csv('wine.csv')\n",
        "\n",
        "X = data.drop(columns=['alcohol']).values  # 'alcohol' 열을 제외한 나머지 특성 사용\n",
        "y = data['alcohol'].values  # 와인의 알콜을 종속 변수로 선택\n",
        "\n",
        "# KMeans 클러스터링을 통해 파생변수 생성\n",
        "kmeans = KMeans(n_clusters=3, random_state= 7777)\n",
        "cluster_labels = kmeans.fit_predict(X)\n",
        "\n",
        "# 원래 데이터에 클러스터 라벨 추가\n",
        "X_extended = pd.concat([pd.DataFrame(X), pd.DataFrame(cluster_labels, columns=['cluster'])], axis=1).values\n",
        "\n",
        "# 데이터 정규화\n",
        "scaler = StandardScaler()\n",
        "X_extended[:, :-1] = scaler.fit_transform(X_extended[:, :-1])  # 클러스터 레이블 제외하고 정규화\n",
        "\n",
        "# 데이터를 텐서로 변환\n",
        "X_tensor = torch.tensor(X_extended, dtype=torch.float32)\n",
        "y_tensor = torch.tensor(y, dtype=torch.float32).view(-1, 1)"
      ],
      "metadata": {
        "colab": {
          "base_uri": "https://localhost:8080/"
        },
        "id": "0X9EqVlUJBsR",
        "outputId": "b175b416-60ab-43b0-82d9-b30c3b5893dc"
      },
      "execution_count": null,
      "outputs": [
        {
          "output_type": "stream",
          "name": "stderr",
          "text": [
            "/usr/local/lib/python3.10/dist-packages/sklearn/cluster/_kmeans.py:1416: FutureWarning: The default value of `n_init` will change from 10 to 'auto' in 1.4. Set the value of `n_init` explicitly to suppress the warning\n",
            "  super()._check_params_vs_input(X, default_n_init=10)\n"
          ]
        }
      ]
    },
    {
      "cell_type": "code",
      "source": [
        "class DNNRegression(nn.Module):\n",
        "    def __init__(self):\n",
        "        super(DNNRegression, self).__init__()\n",
        "        self.layer1 = nn.Linear(X_tensor.shape[1], 128)\n",
        "        self.bn1 = nn.BatchNorm1d(128)\n",
        "        self.dropout1 = nn.Dropout(0.5)\n",
        "\n",
        "        self.layer2 = nn.Linear(128, 256)\n",
        "        self.bn2 = nn.BatchNorm1d(256)\n",
        "        self.dropout2 = nn.Dropout(0.5)\n",
        "\n",
        "        self.layer3 = nn.Linear(256, 256)\n",
        "        self.bn3 = nn.BatchNorm1d(256)\n",
        "        self.dropout3 = nn.Dropout(0.5)\n",
        "\n",
        "        self.layer4 = nn.Linear(256, 128)\n",
        "        self.bn4 = nn.BatchNorm1d(128)\n",
        "        self.dropout4 = nn.Dropout(0.5)\n",
        "\n",
        "        self.layer5 = nn.Linear(128, 64)\n",
        "        self.bn5 = nn.BatchNorm1d(64)\n",
        "        self.dropout5 = nn.Dropout(0.5)\n",
        "\n",
        "        self.output_layer = nn.Linear(64, 1)\n",
        "\n",
        "        # 가중치 초기화\n",
        "        self._initialize_weights()\n",
        "\n",
        "    def forward(self, x):\n",
        "        x = torch.relu(self.bn1(self.layer1(x)))\n",
        "        x = self.dropout1(x)\n",
        "        x = torch.relu(self.bn2(self.layer2(x)))\n",
        "        x = self.dropout2(x)\n",
        "        x = torch.relu(self.bn3(self.layer3(x)))\n",
        "        x = self.dropout3(x)\n",
        "        x = torch.relu(self.bn4(self.layer4(x)))\n",
        "        x = self.dropout4(x)\n",
        "        x = torch.relu(self.bn5(self.layer5(x)))\n",
        "        x = self.dropout5(x)\n",
        "        x = self.output_layer(x)\n",
        "        return x\n",
        "\n",
        "    def _initialize_weights(self):\n",
        "        for m in self.modules():\n",
        "            if isinstance(m, nn.Linear):\n",
        "                nn.init.xavier_uniform_(m.weight)\n",
        "                if m.bias is not None:\n",
        "                    nn.init.zeros_(m.bias)\n",
        "\n",
        "\n",
        "# Hyperparameters\n",
        "learning_rate = 0.1\n",
        "weight_decay = 0.1\n",
        "num_epochs = 10\n",
        "batch_size = 64\n",
        "\n",
        "# K-Fold Cross Validation\n",
        "kf = KFold(n_splits=5,  shuffle=True, random_state=42)\n",
        "fold = 1\n",
        "\n",
        "# Early Stopping 설정\n",
        "early_stopping_patience = 5\n",
        "early_stopping_counter = 0\n",
        "best_loss = float('inf')"
      ],
      "metadata": {
        "id": "v2b_FTB6JFJk"
      },
      "execution_count": null,
      "outputs": []
    },
    {
      "cell_type": "code",
      "source": [
        "\n",
        "\n",
        "# 로그 파일 설정\n",
        "log_file = \"training_log.txt\"\n",
        "if os.path.exists(log_file):\n",
        "    os.remove(log_file)\n",
        "\n",
        "# 학습 및 평가\n",
        "device = torch.device(\"cuda\" if torch.cuda.is_available() else \"cpu\")\n",
        "\n",
        "valid_losses = []\n",
        "\n",
        "for train_index, val_index in kf.split(X_tensor):\n",
        "    X_train_fold, X_valid_fold = X_tensor[train_index], X_tensor[val_index]\n",
        "    y_train_fold, y_valid_fold = y_tensor[train_index], y_tensor[val_index]\n",
        "\n",
        "    train_dataset = TensorDataset(X_train_fold, y_train_fold)\n",
        "    train_loader = DataLoader(train_dataset, batch_size=batch_size, shuffle=True)\n",
        "\n",
        "    model = DNNRegression().to(device)\n",
        "    criterion = nn.MSELoss()\n",
        "    optimizer = optim.Adam(model.parameters(), lr= 0.001, weight_decay= 0.1)\n",
        "    scheduler = optim.lr_scheduler.StepLR(optimizer, step_size=2, gamma = 0.1)\n",
        "\n",
        "    # 학습 시간 측정 시작\n",
        "    start_time = time.time()\n",
        "\n",
        "    for epoch in range(num_epochs):\n",
        "        model.train()\n",
        "        epoch_loss = 0\n",
        "        for batch_X, batch_y in train_loader:\n",
        "            batch_X, batch_y = batch_X.to(device), batch_y.to(device)  # 데이터를 GPU로 이동\n",
        "\n",
        "            # 예측값 계산\n",
        "            predictions = model(batch_X)\n",
        "\n",
        "            # 손실 계산\n",
        "            loss = criterion(predictions, batch_y)\n",
        "\n",
        "            # 옵티마이저 초기화\n",
        "            optimizer.zero_grad()\n",
        "\n",
        "            # 역전파 및 가중치 갱신\n",
        "            loss.backward()\n",
        "            optimizer.step()\n",
        "\n",
        "            epoch_loss += loss.item()\n",
        "\n",
        "        # 학습률 업데이트\n",
        "        scheduler.step()\n",
        "\n",
        "        # 평가 손실 계산\n",
        "        model.eval()\n",
        "        with torch.no_grad():\n",
        "            X_valid_fold, y_valid_fold = X_valid_fold.to(device), y_valid_fold.to(device)\n",
        "            val_predictions = model(X_valid_fold)\n",
        "            val_loss = criterion(val_predictions, y_valid_fold)\n",
        "\n",
        "        # log 파일에 정보 기록\n",
        "        with open(log_file, \"a\") as f:\n",
        "            f.write(f\"Fold {fold}, Epoch {epoch+1}/{num_epochs}, Loss: {epoch_loss/len(train_loader):.4f}, Valid Loss: {val_loss.item():.4f}\\n\")\n",
        "\n",
        "        # tqdm 진행 표시줄 업데이트\n",
        "        tqdm.write(f\"Fold {fold}, Epoch {epoch+1}/{num_epochs}, Loss: {epoch_loss/len(train_loader):.4f}, Valid Loss: {val_loss.item():.4f}\")\n",
        "\n",
        "        # Early Stopping\n",
        "        # Early Stopping 및 모델 저장\n",
        "        if val_loss.item() < best_loss:\n",
        "            best_loss = val_loss.item()\n",
        "            early_stopping_counter = 0\n",
        "            # 성능이 뛰어날 때마다 모델 저장\n",
        "            torch.save(model.state_dict(), \"best_model.pth\")\n",
        "        else:\n",
        "            early_stopping_counter += 1\n",
        "            if early_stopping_counter >= early_stopping_patience:\n",
        "                print(f\"조기 종료 at epoch {epoch+1}\")\n",
        "                break\n",
        "\n",
        "\n",
        "\n",
        "\n",
        "\n",
        "\n",
        "\n",
        "    # 모델 불러오기 및 평가\n",
        "    # model.load_state_dict(torch.load(\"best_model.pth\"))\n",
        "    model.eval()\n",
        "    with torch.no_grad():\n",
        "        X_valid_fold, y_valid_fold = X_valid_fold.to(device), y_valid.y_valid_fold(device)  # 검증 데이터도 GPU로 이동\n",
        "        predictions = model(X_valid_fold)\n",
        "        valid_loss.append(criterion(predictions, y_valid_fold))\n",
        "        print(f'Fold {fold} 평가 손실 Loss: {final_loss.item():.4f}')\n",
        "        print(f'Fold {fold} 예측값: {predictions[:5].view(-1).tolist()}')\n",
        "        print(f'Fold {fold} 실제값: {y_valid_fold[:5].view(-1).tolist()}')\n",
        "    fold += 1\n",
        "\n",
        "\n",
        "\n",
        "\n",
        "# Kfold의 loss 모음\n",
        "print(valid_losses)"
      ],
      "metadata": {
        "colab": {
          "base_uri": "https://localhost:8080/",
          "height": 280
        },
        "id": "eCqf0EAx0PVf",
        "outputId": "d24cca9f-7d51-4727-ef21-5791753c8003"
      },
      "execution_count": null,
      "outputs": [
        {
          "output_type": "stream",
          "name": "stdout",
          "text": [
            "Fold 5, Epoch 1/10, Loss: 87.1360, Valid Loss: 76.4819\n",
            "조기 종료 at epoch 1\n"
          ]
        },
        {
          "output_type": "error",
          "ename": "AttributeError",
          "evalue": "'Tensor' object has no attribute 'y_valid_fold'",
          "traceback": [
            "\u001b[0;31m---------------------------------------------------------------------------\u001b[0m",
            "\u001b[0;31mAttributeError\u001b[0m                            Traceback (most recent call last)",
            "\u001b[0;32m<ipython-input-25-06739b85ab73>\u001b[0m in \u001b[0;36m<cell line: 11>\u001b[0;34m()\u001b[0m\n\u001b[1;32m     85\u001b[0m     \u001b[0mmodel\u001b[0m\u001b[0;34m.\u001b[0m\u001b[0meval\u001b[0m\u001b[0;34m(\u001b[0m\u001b[0;34m)\u001b[0m\u001b[0;34m\u001b[0m\u001b[0;34m\u001b[0m\u001b[0m\n\u001b[1;32m     86\u001b[0m     \u001b[0;32mwith\u001b[0m \u001b[0mtorch\u001b[0m\u001b[0;34m.\u001b[0m\u001b[0mno_grad\u001b[0m\u001b[0;34m(\u001b[0m\u001b[0;34m)\u001b[0m\u001b[0;34m:\u001b[0m\u001b[0;34m\u001b[0m\u001b[0;34m\u001b[0m\u001b[0m\n\u001b[0;32m---> 87\u001b[0;31m         \u001b[0mX_valid_fold\u001b[0m\u001b[0;34m,\u001b[0m \u001b[0my_valid_fold\u001b[0m \u001b[0;34m=\u001b[0m \u001b[0mX_valid_fold\u001b[0m\u001b[0;34m.\u001b[0m\u001b[0mto\u001b[0m\u001b[0;34m(\u001b[0m\u001b[0mdevice\u001b[0m\u001b[0;34m)\u001b[0m\u001b[0;34m,\u001b[0m \u001b[0my_valid\u001b[0m\u001b[0;34m.\u001b[0m\u001b[0my_valid_fold\u001b[0m\u001b[0;34m(\u001b[0m\u001b[0mdevice\u001b[0m\u001b[0;34m)\u001b[0m  \u001b[0;31m# 검증 데이터도 GPU로 이동\u001b[0m\u001b[0;34m\u001b[0m\u001b[0;34m\u001b[0m\u001b[0m\n\u001b[0m\u001b[1;32m     88\u001b[0m         \u001b[0mpredictions\u001b[0m \u001b[0;34m=\u001b[0m \u001b[0mmodel\u001b[0m\u001b[0;34m(\u001b[0m\u001b[0mX_valid_fold\u001b[0m\u001b[0;34m)\u001b[0m\u001b[0;34m\u001b[0m\u001b[0;34m\u001b[0m\u001b[0m\n\u001b[1;32m     89\u001b[0m         \u001b[0mvalid_loss\u001b[0m\u001b[0;34m.\u001b[0m\u001b[0mappend\u001b[0m\u001b[0;34m(\u001b[0m\u001b[0mcriterion\u001b[0m\u001b[0;34m(\u001b[0m\u001b[0mpredictions\u001b[0m\u001b[0;34m,\u001b[0m \u001b[0my_valid_fold\u001b[0m\u001b[0;34m)\u001b[0m\u001b[0;34m)\u001b[0m\u001b[0;34m\u001b[0m\u001b[0;34m\u001b[0m\u001b[0m\n",
            "\u001b[0;31mAttributeError\u001b[0m: 'Tensor' object has no attribute 'y_valid_fold'"
          ]
        }
      ]
    },
    {
      "cell_type": "code",
      "source": [
        "# 로그 파일 설정\n",
        "log_file = \"training_log.txt\"\n",
        "if os.path.exists(log_file):\n",
        "    os.remove(log_file)\n",
        "\n",
        "# 학습 및 평가\n",
        "device = torch.device(\"cuda\" if torch.cuda.is_available() else \"cpu\")\n",
        "\n",
        "valid_losses = []\n",
        "best_loss = float('inf')  # 초기에 가장 큰 값으로 설정\n",
        "early_stopping_counter = 0\n",
        "\n",
        "for fold, (train_index, val_index) in enumerate(kf.split(X_tensor), 1):\n",
        "    X_train_fold, X_valid_fold = X_tensor[train_index], X_tensor[val_index]\n",
        "    y_train_fold, y_valid_fold = y_tensor[train_index], y_tensor[val_index]\n",
        "\n",
        "    train_dataset = TensorDataset(X_train_fold, y_train_fold)\n",
        "    train_loader = DataLoader(train_dataset, batch_size=batch_size, shuffle=True)\n",
        "\n",
        "    model = DNNRegression().to(device)\n",
        "    criterion = nn.MSELoss()\n",
        "    optimizer = optim.Adam(model.parameters(), lr=0.001, weight_decay=0.1)\n",
        "    scheduler = optim.lr_scheduler.StepLR(optimizer, step_size=2, gamma=0.1)\n",
        "\n",
        "    # 학습 시간 측정 시작\n",
        "    start_time = time.time()\n",
        "\n",
        "    for epoch in range(num_epochs):\n",
        "        model.train()\n",
        "        epoch_loss = 0\n",
        "        for batch_X, batch_y in train_loader:\n",
        "            batch_X, batch_y = batch_X.to(device), batch_y.to(device)  # 데이터를 GPU로 이동\n",
        "\n",
        "            # 예측값 계산\n",
        "            predictions = model(batch_X)\n",
        "\n",
        "            # 손실 계산\n",
        "            loss = criterion(predictions, batch_y)\n",
        "\n",
        "            # 옵티마이저 초기화\n",
        "            optimizer.zero_grad()\n",
        "\n",
        "            # 역전파 및 가중치 갱신\n",
        "            loss.backward()\n",
        "            optimizer.step()\n",
        "\n",
        "            epoch_loss += loss.item()\n",
        "\n",
        "        # 학습률 업데이트\n",
        "        scheduler.step()\n",
        "\n",
        "        # 평가 손실 계산\n",
        "        model.eval()\n",
        "        with torch.no_grad():\n",
        "            X_valid_fold, y_valid_fold = X_valid_fold.to(device), y_valid_fold.to(device)\n",
        "            val_predictions = model(X_valid_fold)\n",
        "            val_loss = criterion(val_predictions, y_valid_fold)\n",
        "\n",
        "        # 로그 파일에 정보 기록\n",
        "        with open(log_file, \"a\") as f:\n",
        "            f.write(f\"Fold {fold}, Epoch {epoch+1}/{num_epochs}, Loss: {epoch_loss/len(train_loader):.4f}, Valid Loss: {val_loss.item():.4f}\\n\")\n",
        "\n",
        "        # tqdm 진행 표시줄 업데이트\n",
        "        tqdm.write(f\"Fold {fold}, Epoch {epoch+1}/{num_epochs}, Loss: {epoch_loss/len(train_loader):.4f}, Valid Loss: {val_loss.item():.4f}\")\n",
        "\n",
        "        # Early Stopping 및 모델 저장\n",
        "        if val_loss.item() < best_loss:\n",
        "            best_loss = val_loss.item()\n",
        "            early_stopping_counter = 0\n",
        "            # 성능이 뛰어날 때마다 모델 저장\n",
        "            torch.save(model.state_dict(), \"best_model.pth\")\n",
        "        else:\n",
        "            early_stopping_counter += 1\n",
        "            if early_stopping_counter >= early_stopping_patience:\n",
        "                print(f\"조기 종료 at epoch {epoch+1}\")\n",
        "                break\n",
        "\n",
        "    # 평가\n",
        "    model.load_state_dict(torch.load(\"best_model.pth\"))  # 저장된 최적 모델 로드\n",
        "    model.eval()\n",
        "    with torch.no_grad():\n",
        "        X_valid_fold, y_valid_fold = X_valid_fold.to(device), y_valid_fold.to(device)  # 검증 데이터도 GPU로 이동\n",
        "        predictions = model(X_valid_fold)\n",
        "        final_loss = criterion(predictions, y_valid_fold)\n",
        "        valid_losses.append(final_loss.item())\n",
        "        print(f'Fold {fold} 평가 손실 Loss: {final_loss.item():.4f}')\n",
        "        print(f'Fold {fold} 예측값: {predictions[:5].view(-1).tolist()}')\n",
        "        print(f'Fold {fold} 실제값: {y_valid_fold[:5].view(-1).tolist()}')\n",
        "\n",
        "# K-fold 결과 출력\n",
        "print(f\"전체 fold에서 평가 손실 목록: {valid_losses}\")"
      ],
      "metadata": {
        "colab": {
          "base_uri": "https://localhost:8080/"
        },
        "id": "YiDBdqCdLkGs",
        "outputId": "3fb51569-7a96-453d-937b-c8f50bd12f41"
      },
      "execution_count": null,
      "outputs": [
        {
          "output_type": "stream",
          "name": "stdout",
          "text": [
            "Fold 1, Epoch 1/10, Loss: 101.6109, Valid Loss: 86.0098\n",
            "Fold 1, Epoch 2/10, Loss: 57.6379, Valid Loss: 42.3488\n",
            "Fold 1, Epoch 3/10, Loss: 39.1911, Valid Loss: 38.1251\n",
            "Fold 1, Epoch 4/10, Loss: 36.9172, Valid Loss: 35.2763\n",
            "Fold 1, Epoch 5/10, Loss: 35.9047, Valid Loss: 35.1503\n",
            "Fold 1, Epoch 6/10, Loss: 34.7234, Valid Loss: 34.8167\n",
            "Fold 1, Epoch 7/10, Loss: 35.0265, Valid Loss: 34.6609\n",
            "Fold 1, Epoch 8/10, Loss: 35.4593, Valid Loss: 34.9021\n",
            "Fold 1, Epoch 9/10, Loss: 34.9341, Valid Loss: 33.8800\n",
            "Fold 1, Epoch 10/10, Loss: 34.7459, Valid Loss: 33.9848\n",
            "Fold 1 평가 손실 Loss: 33.8800\n",
            "Fold 1 예측값: [4.432904243469238, 3.413238525390625, 3.3669071197509766, 3.3425393104553223, 3.7360637187957764]\n",
            "Fold 1 실제값: [9.5, 9.199999809265137, 9.199999809265137, 9.300000190734863, 9.199999809265137]\n"
          ]
        },
        {
          "output_type": "stream",
          "name": "stderr",
          "text": [
            "<ipython-input-24-9c3013d4a070>:79: FutureWarning: You are using `torch.load` with `weights_only=False` (the current default value), which uses the default pickle module implicitly. It is possible to construct malicious pickle data which will execute arbitrary code during unpickling (See https://github.com/pytorch/pytorch/blob/main/SECURITY.md#untrusted-models for more details). In a future release, the default value for `weights_only` will be flipped to `True`. This limits the functions that could be executed during unpickling. Arbitrary objects will no longer be allowed to be loaded via this mode unless they are explicitly allowlisted by the user via `torch.serialization.add_safe_globals`. We recommend you start setting `weights_only=True` for any use case where you don't have full control of the loaded file. Please open an issue on GitHub for any issues related to this experimental feature.\n",
            "  model.load_state_dict(torch.load(\"best_model.pth\"))  # 저장된 최적 모델 로드\n"
          ]
        },
        {
          "output_type": "stream",
          "name": "stdout",
          "text": [
            "Fold 2, Epoch 1/10, Loss: 86.9256, Valid Loss: 82.3038\n",
            "Fold 2, Epoch 2/10, Loss: 46.1028, Valid Loss: 43.8492\n",
            "Fold 2, Epoch 3/10, Loss: 29.6310, Valid Loss: 38.3769\n",
            "Fold 2, Epoch 4/10, Loss: 27.0529, Valid Loss: 35.3264\n",
            "조기 종료 at epoch 4\n",
            "Fold 2 평가 손실 Loss: 33.4407\n",
            "Fold 2 예측값: [4.119250297546387, 4.318819046020508, 4.472099304199219, 4.217049598693848, 4.160521507263184]\n",
            "Fold 2 실제값: [9.899999618530273, 9.5, 10.100000381469727, 10.300000190734863, 9.5]\n",
            "Fold 3, Epoch 1/10, Loss: 76.7334, Valid Loss: 69.2859\n",
            "조기 종료 at epoch 1\n",
            "Fold 3 평가 손실 Loss: 33.3808\n",
            "Fold 3 예측값: [4.0602827072143555, 4.442303657531738, 4.6678571701049805, 3.674347162246704, 4.8242506980896]\n",
            "Fold 3 실제값: [9.399999618530273, 9.399999618530273, 10.0, 9.0, 9.699999809265137]\n",
            "Fold 4, Epoch 1/10, Loss: 96.3103, Valid Loss: 77.2328\n",
            "조기 종료 at epoch 1\n",
            "Fold 4 평가 손실 Loss: 32.7305\n",
            "Fold 4 예측값: [4.206183433532715, 4.381553649902344, 4.353759765625, 4.195722579956055, 2.9772045612335205]\n",
            "Fold 4 실제값: [9.800000190734863, 9.800000190734863, 9.199999809265137, 10.5, 9.100000381469727]\n",
            "Fold 5, Epoch 1/10, Loss: 64.8615, Valid Loss: 57.8448\n",
            "조기 종료 at epoch 1\n",
            "Fold 5 평가 손실 Loss: 33.3299\n",
            "Fold 5 예측값: [4.316098213195801, 4.0602827072143555, 4.067153453826904, 4.195722579956055, 5.0156450271606445]\n",
            "Fold 5 실제값: [9.800000190734863, 9.399999618530273, 9.399999618530273, 10.5, 10.5]\n",
            "전체 fold에서 평가 손실 목록: [33.88003158569336, 33.440738677978516, 33.38081741333008, 32.73047637939453, 33.329856872558594]\n"
          ]
        }
      ]
    },
    {
      "cell_type": "code",
      "source": [
        "### 강사님 코드\n",
        "import torch\n",
        "import torch.nn as nn\n",
        "import torch.optim as optim\n",
        "from torch.utils.data import DataLoader, TensorDataset\n",
        "from sklearn.model_selection import KFold\n",
        "import pandas as pd\n",
        "from sklearn.preprocessing import StandardScaler\n",
        "from sklearn.cluster import KMeans\n",
        "from tqdm import tqdm\n",
        "import time\n",
        "import os\n",
        "# 데이터 로드 및 전처리\n",
        "data = pd.read_csv('wine.csv')\n",
        "X = data.drop(columns=['alcohol']).values  # 'alcohol' 열을 제외한 나머지 특성 사용\n",
        "y = data['alcohol'].values  # 와인의 알콜을 종속 변수로 선택\n",
        "# KMeans 클러스터링을 통해 파생변수 생성\n",
        "kmeans = KMeans(n_clusters=3, random_state=42)\n",
        "cluster_labels = kmeans.fit_predict(X)\n",
        "# 원래 데이터에 클러스터 라벨 추가\n",
        "X_extended = pd.concat([pd.DataFrame(X), pd.DataFrame(cluster_labels, columns=['cluster'])], axis=1).values\n",
        "# 데이터 정규화\n",
        "scaler = RobustScaler()\n",
        "X_extended[:, :-1] = scaler.fit_transform(X_extended[:, :-1])  # 클러스터 레이블 제외하고 정규화\n",
        "# 데이터를 텐서로 변환\n",
        "X_tensor = torch.tensor(X_extended, dtype=torch.float32)\n",
        "y_tensor = torch.tensor(y, dtype=torch.float32).view(-1, 1)\n",
        "class DNNRegression(nn.Module):\n",
        "    def __init__(self):\n",
        "        super(DNNRegression, self).__init__()\n",
        "        self.layer1 = nn.Linear(X_tensor.shape[1], 128)\n",
        "        self.bn1 = nn.BatchNorm1d(128)\n",
        "        self.dropout1 = nn.Dropout(0.5)\n",
        "        self.layer2 = nn.Linear(128, 256)\n",
        "        self.bn2 = nn.BatchNorm1d(256)\n",
        "        self.dropout2 = nn.Dropout(0.5)\n",
        "        self.layer3 = nn.Linear(256, 256)\n",
        "        self.bn3 = nn.BatchNorm1d(256)\n",
        "        self.dropout3 = nn.Dropout(0.5)\n",
        "        self.layer4 = nn.Linear(256, 128)\n",
        "        self.bn4 = nn.BatchNorm1d(128)\n",
        "        self.dropout4 = nn.Dropout(0.5)\n",
        "        self.layer5 = nn.Linear(128, 64)\n",
        "        self.bn5 = nn.BatchNorm1d(64)\n",
        "        self.dropout5 = nn.Dropout(0.5)\n",
        "        self.output_layer = nn.Linear(64, 1)\n",
        "        # 가중치 초기화\n",
        "        self._initialize_weights()\n",
        "    def forward(self, x):\n",
        "        x = torch.relu(self.bn1(self.layer1(x)))\n",
        "        x = self.dropout1(x)\n",
        "        x = torch.relu(self.bn2(self.layer2(x)))\n",
        "        x = self.dropout2(x)\n",
        "        x = torch.relu(self.bn3(self.layer3(x)))\n",
        "        x = self.dropout3(x)\n",
        "        x = torch.relu(self.bn4(self.layer4(x)))\n",
        "        x = self.dropout4(x)\n",
        "        x = torch.relu(self.bn5(self.layer5(x)))\n",
        "        x = self.dropout5(x)\n",
        "        x = self.output_layer(x)\n",
        "        return x\n",
        "    def _initialize_weights(self):\n",
        "        for m in self.modules():\n",
        "            if isinstance(m, nn.Linear):\n",
        "                nn.init.xavier_uniform_(m.weight)\n",
        "                if m.bias is not None:\n",
        "                    nn.init.zeros_(m.bias)\n",
        "# Hyperparameters\n",
        "learning_rate = 0.001\n",
        "weight_decay = 0.1\n",
        "num_epochs = 10\n",
        "batch_size = 64\n",
        "# K-Fold Cross Validation\n",
        "kf = KFold(n_splits= 5,  shuffle=True, random_state=42)\n",
        "fold = 1\n",
        "# Early Stopping 설정\n",
        "early_stopping_patience = 5\n",
        "early_stopping_counter = 0\n",
        "best_loss = float('inf')\n",
        "# 로그 파일 설정\n",
        "log_file = \"training_log.txt\"\n",
        "if os.path.exists(log_file):\n",
        "    os.remove(log_file)\n",
        "# 학습 및 평가\n",
        "device = torch.device(\"cuda\" if torch.cuda.is_available() else \"cpu\")\n",
        "valid_losses = []\n",
        "for train_index, val_index in kf.split(X_tensor):\n",
        "    X_train_fold, X_valid_fold = X_tensor[  train_index   ], X_tensor[   val_index     ]\n",
        "    y_train_fold, y_valid_fold = y_tensor[  train_index   ], y_tensor[     val_index   ]\n",
        "    train_dataset = TensorDataset(X_train_fold, y_train_fold)\n",
        "    train_loader = DataLoader(train_dataset, batch_size=batch_size, shuffle=True)\n",
        "    model = DNNRegression().to(device)\n",
        "    criterion = nn.MSELoss()\n",
        "    optimizer = optim.Adam(model.parameters(), lr= 0.001 , weight_decay= 0.1 )\n",
        "    scheduler = optim.lr_scheduler.StepLR(optimizer, step_size = 2 , gamma = 0.1)\n",
        "    # 학습 시간 측정 시작\n",
        "    start_time = time.time()\n",
        "    # 모델 epoch 다 돌고 조기종료 0으로 초기화.\n",
        "    early_stopping_counter = 0\n",
        "    best_loss = float('inf')\n",
        "    for epoch in range(num_epochs):\n",
        "        model.train()\n",
        "        epoch_loss = 0\n",
        "        for batch_X, batch_y in train_loader:\n",
        "            batch_X, batch_y = batch_X.to(device), batch_y.to( device)  # 데이터를 GPU로 이동\n",
        "            predictions = model(batch_X)\n",
        "            # 손실 계산\n",
        "            loss = criterion(predictions, batch_y)\n",
        "            # 옵티마이저 초기화\n",
        "            optimizer.zero_grad()\n",
        "            # 역전파 및 가중치 갱신\n",
        "            loss.backward()\n",
        "            optimizer.step()\n",
        "            epoch_loss += loss.item()\n",
        "        # 학습률 업데이트\n",
        "        scheduler.step()\n",
        "        # 평가 손실 계산\n",
        "        model.eval()\n",
        "        with torch.no_grad():\n",
        "            X_valid_fold, y_valid_fold = X_valid_fold.to(device), y_valid_fold.to(device)\n",
        "            val_predictions = model(X_valid_fold)\n",
        "            val_loss = criterion(val_predictions, y_valid_fold)\n",
        "        # log 파일에 정보 기록\n",
        "        with open(log_file, \"a\") as f:\n",
        "            f.write(f\"Fold {fold}, Epoch {epoch+1}/{num_epochs}, Loss: {epoch_loss/len(train_loader):.4f}, Valid Loss: {val_loss.item():.4f}\\n\")\n",
        "        # tqdm 진행 표시줄 업데이트\n",
        "        tqdm.write(f\"Fold {fold}, Epoch {epoch+1}/{num_epochs}, Loss: {epoch_loss/len(train_loader):.4f}, Valid Loss: {val_loss.item():.4f}\")\n",
        "        # Early Stopping\n",
        "        if val_loss.item() < best_loss:\n",
        "            best_loss = val_loss.item()\n",
        "            early_stopping_counter = 0\n",
        "            # 성능이 뛰어날때 마다 모델을 저장\n",
        "            torch.save(model.state_dict(), \"best_model.pth\")\n",
        "        else:\n",
        "            early_stopping_counter += 1\n",
        "            if early_stopping_counter >= early_stopping_patience:\n",
        "                print(f\"조기종료 epoch: {epoch+1}\")\n",
        "                break\n",
        "    # 모델 불러오기 및 평가\n",
        "    model.load_state_dict(torch.load(\"best_model.pth\"))\n",
        "    model.eval()\n",
        "    with torch.no_grad():\n",
        "        X_valid_fold, y_valid_fold = X_valid_fold.to(device), y_valid_fold.to(device)\n",
        "        predictions = model(X_valid_fold)\n",
        "        final_loss = criterion(predictions, y_valid_fold)\n",
        "        valid_losses.append(criterion(predictions, y_valid_fold))\n",
        "        print(f\"Fold {fold} 평가 손실 Loss: {final_loss.item():.4f}\")\n",
        "        print(f\"Fold {fold} 예측 값: {predictions[:5].view(-1).tolist()}\")\n",
        "        print(f\"Fold {fold} 실제 값: {y_valid_fold[:5].view(-1).tolist()}\")\n",
        "    fold += 1\n",
        "# Kfold의 loss 모음\n",
        "print(valid_losses)"
      ],
      "metadata": {
        "id": "hxEXuyboNNxr"
      },
      "execution_count": null,
      "outputs": []
    },
    {
      "cell_type": "code",
      "source": [
        "# 그대로 평균 출력하면 에러가 나온다. cpu를 풀어주고 넘파이 평균연산을 해야한다.\n",
        "print(f'\\n평균 평가 손실: {np.mean(valid_losses):.4f}')"
      ],
      "metadata": {
        "id": "6MBpj1uQBQ_G"
      },
      "execution_count": null,
      "outputs": []
    },
    {
      "cell_type": "code",
      "source": [
        "import numpy as np\n",
        "\n",
        "# valid_losses는 리스트이고 그 안에 있는것들이 cpu 이다.\n",
        "valid_losses_np = [loss.cpu().numpy() for loss in valid_losses]\n",
        "\n",
        "print(f'\\n평균 평가 손실: {np.mean(valid_losses_np):.4f}')"
      ],
      "metadata": {
        "colab": {
          "base_uri": "https://localhost:8080/"
        },
        "id": "eiLzjkDbBGCr",
        "outputId": "0f366830-ac69-4067-bc10-0ab44edd5cbe"
      },
      "execution_count": null,
      "outputs": [
        {
          "output_type": "stream",
          "name": "stdout",
          "text": [
            "\n",
            "평균 평가 손실: 34.0621\n"
          ]
        }
      ]
    },
    {
      "cell_type": "markdown",
      "source": [
        "# ★ 실무 실습) 배포 받은 \"전력사용량 예측 데이터\"를 통해 자신만의 코드를 작성 해보자\n",
        "\n",
        "1. 이제까지 배운 회귀 방법들을 통해 적용해보자.\n",
        "2. 하나의 포트폴리오가 될 수 있도록 시각화와 통계를 자유롭게 작성해보자.\n",
        "\n",
        " [시각화는 scatter plot, correlation plot. 통계는 describe 정도 출력해도 좋다.]\n",
        "\n",
        "3. 모든 기법을 다 쓰는 것보다는 필요 할 것 같다는 코드만 작성해보기"
      ],
      "metadata": {
        "id": "oWBaGx21zlLQ"
      }
    },
    {
      "cell_type": "code",
      "source": [
        "import pandas as pd\n",
        "import warnings\n",
        "warnings.filterwarnings('ignore')\n",
        "plt.rcParams['font.family'] = 'Malgun Gothic'"
      ],
      "metadata": {
        "id": "YSdODn-bzyTB"
      },
      "execution_count": null,
      "outputs": []
    },
    {
      "cell_type": "code",
      "source": [
        "df = pd.read_csv('train.csv', encoding = 'cp949')\n",
        "df.head()"
      ],
      "metadata": {
        "colab": {
          "base_uri": "https://localhost:8080/",
          "height": 206
        },
        "id": "07b2pnOQgEhd",
        "outputId": "56549a12-d39b-47ae-f65b-0c1e93ef8c36"
      },
      "execution_count": null,
      "outputs": [
        {
          "output_type": "execute_result",
          "data": {
            "text/plain": [
              "   num      date_time  전력사용량(kWh)  기온(°C)  풍속(m/s)  습도(%)  강수량(mm)  일조(hr)  \\\n",
              "0    1  2020-06-01 00    8179.056    17.6      2.5   92.0      0.8     0.0   \n",
              "1    1  2020-06-01 01    8135.640    17.7      2.9   91.0      0.3     0.0   \n",
              "2    1  2020-06-01 02    8107.128    17.5      3.2   91.0      0.0     0.0   \n",
              "3    1  2020-06-01 03    8048.808    17.1      3.2   91.0      0.0     0.0   \n",
              "4    1  2020-06-01 04    8043.624    17.0      3.3   92.0      0.0     0.0   \n",
              "\n",
              "   비전기냉방설비운영  태양광보유  \n",
              "0        0.0    0.0  \n",
              "1        0.0    0.0  \n",
              "2        0.0    0.0  \n",
              "3        0.0    0.0  \n",
              "4        0.0    0.0  "
            ],
            "text/html": [
              "\n",
              "  <div id=\"df-7b8b2be6-488d-4ece-9f17-7627c8b64254\" class=\"colab-df-container\">\n",
              "    <div>\n",
              "<style scoped>\n",
              "    .dataframe tbody tr th:only-of-type {\n",
              "        vertical-align: middle;\n",
              "    }\n",
              "\n",
              "    .dataframe tbody tr th {\n",
              "        vertical-align: top;\n",
              "    }\n",
              "\n",
              "    .dataframe thead th {\n",
              "        text-align: right;\n",
              "    }\n",
              "</style>\n",
              "<table border=\"1\" class=\"dataframe\">\n",
              "  <thead>\n",
              "    <tr style=\"text-align: right;\">\n",
              "      <th></th>\n",
              "      <th>num</th>\n",
              "      <th>date_time</th>\n",
              "      <th>전력사용량(kWh)</th>\n",
              "      <th>기온(°C)</th>\n",
              "      <th>풍속(m/s)</th>\n",
              "      <th>습도(%)</th>\n",
              "      <th>강수량(mm)</th>\n",
              "      <th>일조(hr)</th>\n",
              "      <th>비전기냉방설비운영</th>\n",
              "      <th>태양광보유</th>\n",
              "    </tr>\n",
              "  </thead>\n",
              "  <tbody>\n",
              "    <tr>\n",
              "      <th>0</th>\n",
              "      <td>1</td>\n",
              "      <td>2020-06-01 00</td>\n",
              "      <td>8179.056</td>\n",
              "      <td>17.6</td>\n",
              "      <td>2.5</td>\n",
              "      <td>92.0</td>\n",
              "      <td>0.8</td>\n",
              "      <td>0.0</td>\n",
              "      <td>0.0</td>\n",
              "      <td>0.0</td>\n",
              "    </tr>\n",
              "    <tr>\n",
              "      <th>1</th>\n",
              "      <td>1</td>\n",
              "      <td>2020-06-01 01</td>\n",
              "      <td>8135.640</td>\n",
              "      <td>17.7</td>\n",
              "      <td>2.9</td>\n",
              "      <td>91.0</td>\n",
              "      <td>0.3</td>\n",
              "      <td>0.0</td>\n",
              "      <td>0.0</td>\n",
              "      <td>0.0</td>\n",
              "    </tr>\n",
              "    <tr>\n",
              "      <th>2</th>\n",
              "      <td>1</td>\n",
              "      <td>2020-06-01 02</td>\n",
              "      <td>8107.128</td>\n",
              "      <td>17.5</td>\n",
              "      <td>3.2</td>\n",
              "      <td>91.0</td>\n",
              "      <td>0.0</td>\n",
              "      <td>0.0</td>\n",
              "      <td>0.0</td>\n",
              "      <td>0.0</td>\n",
              "    </tr>\n",
              "    <tr>\n",
              "      <th>3</th>\n",
              "      <td>1</td>\n",
              "      <td>2020-06-01 03</td>\n",
              "      <td>8048.808</td>\n",
              "      <td>17.1</td>\n",
              "      <td>3.2</td>\n",
              "      <td>91.0</td>\n",
              "      <td>0.0</td>\n",
              "      <td>0.0</td>\n",
              "      <td>0.0</td>\n",
              "      <td>0.0</td>\n",
              "    </tr>\n",
              "    <tr>\n",
              "      <th>4</th>\n",
              "      <td>1</td>\n",
              "      <td>2020-06-01 04</td>\n",
              "      <td>8043.624</td>\n",
              "      <td>17.0</td>\n",
              "      <td>3.3</td>\n",
              "      <td>92.0</td>\n",
              "      <td>0.0</td>\n",
              "      <td>0.0</td>\n",
              "      <td>0.0</td>\n",
              "      <td>0.0</td>\n",
              "    </tr>\n",
              "  </tbody>\n",
              "</table>\n",
              "</div>\n",
              "    <div class=\"colab-df-buttons\">\n",
              "\n",
              "  <div class=\"colab-df-container\">\n",
              "    <button class=\"colab-df-convert\" onclick=\"convertToInteractive('df-7b8b2be6-488d-4ece-9f17-7627c8b64254')\"\n",
              "            title=\"Convert this dataframe to an interactive table.\"\n",
              "            style=\"display:none;\">\n",
              "\n",
              "  <svg xmlns=\"http://www.w3.org/2000/svg\" height=\"24px\" viewBox=\"0 -960 960 960\">\n",
              "    <path d=\"M120-120v-720h720v720H120Zm60-500h600v-160H180v160Zm220 220h160v-160H400v160Zm0 220h160v-160H400v160ZM180-400h160v-160H180v160Zm440 0h160v-160H620v160ZM180-180h160v-160H180v160Zm440 0h160v-160H620v160Z\"/>\n",
              "  </svg>\n",
              "    </button>\n",
              "\n",
              "  <style>\n",
              "    .colab-df-container {\n",
              "      display:flex;\n",
              "      gap: 12px;\n",
              "    }\n",
              "\n",
              "    .colab-df-convert {\n",
              "      background-color: #E8F0FE;\n",
              "      border: none;\n",
              "      border-radius: 50%;\n",
              "      cursor: pointer;\n",
              "      display: none;\n",
              "      fill: #1967D2;\n",
              "      height: 32px;\n",
              "      padding: 0 0 0 0;\n",
              "      width: 32px;\n",
              "    }\n",
              "\n",
              "    .colab-df-convert:hover {\n",
              "      background-color: #E2EBFA;\n",
              "      box-shadow: 0px 1px 2px rgba(60, 64, 67, 0.3), 0px 1px 3px 1px rgba(60, 64, 67, 0.15);\n",
              "      fill: #174EA6;\n",
              "    }\n",
              "\n",
              "    .colab-df-buttons div {\n",
              "      margin-bottom: 4px;\n",
              "    }\n",
              "\n",
              "    [theme=dark] .colab-df-convert {\n",
              "      background-color: #3B4455;\n",
              "      fill: #D2E3FC;\n",
              "    }\n",
              "\n",
              "    [theme=dark] .colab-df-convert:hover {\n",
              "      background-color: #434B5C;\n",
              "      box-shadow: 0px 1px 3px 1px rgba(0, 0, 0, 0.15);\n",
              "      filter: drop-shadow(0px 1px 2px rgba(0, 0, 0, 0.3));\n",
              "      fill: #FFFFFF;\n",
              "    }\n",
              "  </style>\n",
              "\n",
              "    <script>\n",
              "      const buttonEl =\n",
              "        document.querySelector('#df-7b8b2be6-488d-4ece-9f17-7627c8b64254 button.colab-df-convert');\n",
              "      buttonEl.style.display =\n",
              "        google.colab.kernel.accessAllowed ? 'block' : 'none';\n",
              "\n",
              "      async function convertToInteractive(key) {\n",
              "        const element = document.querySelector('#df-7b8b2be6-488d-4ece-9f17-7627c8b64254');\n",
              "        const dataTable =\n",
              "          await google.colab.kernel.invokeFunction('convertToInteractive',\n",
              "                                                    [key], {});\n",
              "        if (!dataTable) return;\n",
              "\n",
              "        const docLinkHtml = 'Like what you see? Visit the ' +\n",
              "          '<a target=\"_blank\" href=https://colab.research.google.com/notebooks/data_table.ipynb>data table notebook</a>'\n",
              "          + ' to learn more about interactive tables.';\n",
              "        element.innerHTML = '';\n",
              "        dataTable['output_type'] = 'display_data';\n",
              "        await google.colab.output.renderOutput(dataTable, element);\n",
              "        const docLink = document.createElement('div');\n",
              "        docLink.innerHTML = docLinkHtml;\n",
              "        element.appendChild(docLink);\n",
              "      }\n",
              "    </script>\n",
              "  </div>\n",
              "\n",
              "\n",
              "<div id=\"df-942aa09b-43d7-436a-a75e-dea1c5e7f774\">\n",
              "  <button class=\"colab-df-quickchart\" onclick=\"quickchart('df-942aa09b-43d7-436a-a75e-dea1c5e7f774')\"\n",
              "            title=\"Suggest charts\"\n",
              "            style=\"display:none;\">\n",
              "\n",
              "<svg xmlns=\"http://www.w3.org/2000/svg\" height=\"24px\"viewBox=\"0 0 24 24\"\n",
              "     width=\"24px\">\n",
              "    <g>\n",
              "        <path d=\"M19 3H5c-1.1 0-2 .9-2 2v14c0 1.1.9 2 2 2h14c1.1 0 2-.9 2-2V5c0-1.1-.9-2-2-2zM9 17H7v-7h2v7zm4 0h-2V7h2v10zm4 0h-2v-4h2v4z\"/>\n",
              "    </g>\n",
              "</svg>\n",
              "  </button>\n",
              "\n",
              "<style>\n",
              "  .colab-df-quickchart {\n",
              "      --bg-color: #E8F0FE;\n",
              "      --fill-color: #1967D2;\n",
              "      --hover-bg-color: #E2EBFA;\n",
              "      --hover-fill-color: #174EA6;\n",
              "      --disabled-fill-color: #AAA;\n",
              "      --disabled-bg-color: #DDD;\n",
              "  }\n",
              "\n",
              "  [theme=dark] .colab-df-quickchart {\n",
              "      --bg-color: #3B4455;\n",
              "      --fill-color: #D2E3FC;\n",
              "      --hover-bg-color: #434B5C;\n",
              "      --hover-fill-color: #FFFFFF;\n",
              "      --disabled-bg-color: #3B4455;\n",
              "      --disabled-fill-color: #666;\n",
              "  }\n",
              "\n",
              "  .colab-df-quickchart {\n",
              "    background-color: var(--bg-color);\n",
              "    border: none;\n",
              "    border-radius: 50%;\n",
              "    cursor: pointer;\n",
              "    display: none;\n",
              "    fill: var(--fill-color);\n",
              "    height: 32px;\n",
              "    padding: 0;\n",
              "    width: 32px;\n",
              "  }\n",
              "\n",
              "  .colab-df-quickchart:hover {\n",
              "    background-color: var(--hover-bg-color);\n",
              "    box-shadow: 0 1px 2px rgba(60, 64, 67, 0.3), 0 1px 3px 1px rgba(60, 64, 67, 0.15);\n",
              "    fill: var(--button-hover-fill-color);\n",
              "  }\n",
              "\n",
              "  .colab-df-quickchart-complete:disabled,\n",
              "  .colab-df-quickchart-complete:disabled:hover {\n",
              "    background-color: var(--disabled-bg-color);\n",
              "    fill: var(--disabled-fill-color);\n",
              "    box-shadow: none;\n",
              "  }\n",
              "\n",
              "  .colab-df-spinner {\n",
              "    border: 2px solid var(--fill-color);\n",
              "    border-color: transparent;\n",
              "    border-bottom-color: var(--fill-color);\n",
              "    animation:\n",
              "      spin 1s steps(1) infinite;\n",
              "  }\n",
              "\n",
              "  @keyframes spin {\n",
              "    0% {\n",
              "      border-color: transparent;\n",
              "      border-bottom-color: var(--fill-color);\n",
              "      border-left-color: var(--fill-color);\n",
              "    }\n",
              "    20% {\n",
              "      border-color: transparent;\n",
              "      border-left-color: var(--fill-color);\n",
              "      border-top-color: var(--fill-color);\n",
              "    }\n",
              "    30% {\n",
              "      border-color: transparent;\n",
              "      border-left-color: var(--fill-color);\n",
              "      border-top-color: var(--fill-color);\n",
              "      border-right-color: var(--fill-color);\n",
              "    }\n",
              "    40% {\n",
              "      border-color: transparent;\n",
              "      border-right-color: var(--fill-color);\n",
              "      border-top-color: var(--fill-color);\n",
              "    }\n",
              "    60% {\n",
              "      border-color: transparent;\n",
              "      border-right-color: var(--fill-color);\n",
              "    }\n",
              "    80% {\n",
              "      border-color: transparent;\n",
              "      border-right-color: var(--fill-color);\n",
              "      border-bottom-color: var(--fill-color);\n",
              "    }\n",
              "    90% {\n",
              "      border-color: transparent;\n",
              "      border-bottom-color: var(--fill-color);\n",
              "    }\n",
              "  }\n",
              "</style>\n",
              "\n",
              "  <script>\n",
              "    async function quickchart(key) {\n",
              "      const quickchartButtonEl =\n",
              "        document.querySelector('#' + key + ' button');\n",
              "      quickchartButtonEl.disabled = true;  // To prevent multiple clicks.\n",
              "      quickchartButtonEl.classList.add('colab-df-spinner');\n",
              "      try {\n",
              "        const charts = await google.colab.kernel.invokeFunction(\n",
              "            'suggestCharts', [key], {});\n",
              "      } catch (error) {\n",
              "        console.error('Error during call to suggestCharts:', error);\n",
              "      }\n",
              "      quickchartButtonEl.classList.remove('colab-df-spinner');\n",
              "      quickchartButtonEl.classList.add('colab-df-quickchart-complete');\n",
              "    }\n",
              "    (() => {\n",
              "      let quickchartButtonEl =\n",
              "        document.querySelector('#df-942aa09b-43d7-436a-a75e-dea1c5e7f774 button');\n",
              "      quickchartButtonEl.style.display =\n",
              "        google.colab.kernel.accessAllowed ? 'block' : 'none';\n",
              "    })();\n",
              "  </script>\n",
              "</div>\n",
              "\n",
              "    </div>\n",
              "  </div>\n"
            ],
            "application/vnd.google.colaboratory.intrinsic+json": {
              "type": "dataframe",
              "variable_name": "df"
            }
          },
          "metadata": {},
          "execution_count": 3
        }
      ]
    },
    {
      "cell_type": "code",
      "source": [
        "df.info()"
      ],
      "metadata": {
        "colab": {
          "base_uri": "https://localhost:8080/"
        },
        "id": "prX3XHiNgPar",
        "outputId": "c3fc6005-ebf7-4945-b1c9-9c7083cd2241"
      },
      "execution_count": null,
      "outputs": [
        {
          "output_type": "stream",
          "name": "stdout",
          "text": [
            "<class 'pandas.core.frame.DataFrame'>\n",
            "RangeIndex: 122400 entries, 0 to 122399\n",
            "Data columns (total 10 columns):\n",
            " #   Column      Non-Null Count   Dtype  \n",
            "---  ------      --------------   -----  \n",
            " 0   num         122400 non-null  int64  \n",
            " 1   date_time   122400 non-null  object \n",
            " 2   전력사용량(kWh)  122400 non-null  float64\n",
            " 3   기온(°C)      122400 non-null  float64\n",
            " 4   풍속(m/s)     122400 non-null  float64\n",
            " 5   습도(%)       122400 non-null  float64\n",
            " 6   강수량(mm)     122400 non-null  float64\n",
            " 7   일조(hr)      122400 non-null  float64\n",
            " 8   비전기냉방설비운영   122400 non-null  float64\n",
            " 9   태양광보유       122400 non-null  float64\n",
            "dtypes: float64(8), int64(1), object(1)\n",
            "memory usage: 9.3+ MB\n"
          ]
        }
      ]
    },
    {
      "cell_type": "code",
      "source": [
        "df.isnull().sum() # 결측 없음"
      ],
      "metadata": {
        "colab": {
          "base_uri": "https://localhost:8080/",
          "height": 397
        },
        "id": "_UkU8h3TgUDa",
        "outputId": "db41d016-17d3-4851-8bed-45e8fa2614d2"
      },
      "execution_count": null,
      "outputs": [
        {
          "output_type": "execute_result",
          "data": {
            "text/plain": [
              "num           0\n",
              "date_time     0\n",
              "전력사용량(kWh)    0\n",
              "기온(°C)        0\n",
              "풍속(m/s)       0\n",
              "습도(%)         0\n",
              "강수량(mm)       0\n",
              "일조(hr)        0\n",
              "비전기냉방설비운영     0\n",
              "태양광보유         0\n",
              "dtype: int64"
            ],
            "text/html": [
              "<div>\n",
              "<style scoped>\n",
              "    .dataframe tbody tr th:only-of-type {\n",
              "        vertical-align: middle;\n",
              "    }\n",
              "\n",
              "    .dataframe tbody tr th {\n",
              "        vertical-align: top;\n",
              "    }\n",
              "\n",
              "    .dataframe thead th {\n",
              "        text-align: right;\n",
              "    }\n",
              "</style>\n",
              "<table border=\"1\" class=\"dataframe\">\n",
              "  <thead>\n",
              "    <tr style=\"text-align: right;\">\n",
              "      <th></th>\n",
              "      <th>0</th>\n",
              "    </tr>\n",
              "  </thead>\n",
              "  <tbody>\n",
              "    <tr>\n",
              "      <th>num</th>\n",
              "      <td>0</td>\n",
              "    </tr>\n",
              "    <tr>\n",
              "      <th>date_time</th>\n",
              "      <td>0</td>\n",
              "    </tr>\n",
              "    <tr>\n",
              "      <th>전력사용량(kWh)</th>\n",
              "      <td>0</td>\n",
              "    </tr>\n",
              "    <tr>\n",
              "      <th>기온(°C)</th>\n",
              "      <td>0</td>\n",
              "    </tr>\n",
              "    <tr>\n",
              "      <th>풍속(m/s)</th>\n",
              "      <td>0</td>\n",
              "    </tr>\n",
              "    <tr>\n",
              "      <th>습도(%)</th>\n",
              "      <td>0</td>\n",
              "    </tr>\n",
              "    <tr>\n",
              "      <th>강수량(mm)</th>\n",
              "      <td>0</td>\n",
              "    </tr>\n",
              "    <tr>\n",
              "      <th>일조(hr)</th>\n",
              "      <td>0</td>\n",
              "    </tr>\n",
              "    <tr>\n",
              "      <th>비전기냉방설비운영</th>\n",
              "      <td>0</td>\n",
              "    </tr>\n",
              "    <tr>\n",
              "      <th>태양광보유</th>\n",
              "      <td>0</td>\n",
              "    </tr>\n",
              "  </tbody>\n",
              "</table>\n",
              "</div><br><label><b>dtype:</b> int64</label>"
            ]
          },
          "metadata": {},
          "execution_count": 5
        }
      ]
    },
    {
      "cell_type": "code",
      "source": [
        "df.rename(columns={\n",
        "    '전력사용량(kWh)': '전력사용량'\n",
        "    '기온(°C)': '기온',\n",
        "    '풍속(m/s)': '풍속',\n",
        "    '습도(%)': '습도',\n",
        "    '강수량(mm)': '강수량',\n",
        "    '일조(hr)': '일조'\n",
        "}, inplace=True)"
      ],
      "metadata": {
        "id": "fLGonJUnhb72"
      },
      "execution_count": null,
      "outputs": []
    },
    {
      "cell_type": "code",
      "source": [
        "df.head()"
      ],
      "metadata": {
        "colab": {
          "base_uri": "https://localhost:8080/",
          "height": 206
        },
        "id": "OkvEVPUNht7u",
        "outputId": "fe717ea7-a8a2-434c-cd02-1d60fa1bd4c0"
      },
      "execution_count": null,
      "outputs": [
        {
          "output_type": "execute_result",
          "data": {
            "text/plain": [
              "   num      date_time     전력사용량    기온   풍속    습도  강수량   일조  비전기냉방설비운영  태양광보유\n",
              "0    1  2020-06-01 00  8179.056  17.6  2.5  92.0  0.8  0.0        0.0    0.0\n",
              "1    1  2020-06-01 01  8135.640  17.7  2.9  91.0  0.3  0.0        0.0    0.0\n",
              "2    1  2020-06-01 02  8107.128  17.5  3.2  91.0  0.0  0.0        0.0    0.0\n",
              "3    1  2020-06-01 03  8048.808  17.1  3.2  91.0  0.0  0.0        0.0    0.0\n",
              "4    1  2020-06-01 04  8043.624  17.0  3.3  92.0  0.0  0.0        0.0    0.0"
            ],
            "text/html": [
              "\n",
              "  <div id=\"df-cc426072-dac0-4c57-8868-f77b13387e54\" class=\"colab-df-container\">\n",
              "    <div>\n",
              "<style scoped>\n",
              "    .dataframe tbody tr th:only-of-type {\n",
              "        vertical-align: middle;\n",
              "    }\n",
              "\n",
              "    .dataframe tbody tr th {\n",
              "        vertical-align: top;\n",
              "    }\n",
              "\n",
              "    .dataframe thead th {\n",
              "        text-align: right;\n",
              "    }\n",
              "</style>\n",
              "<table border=\"1\" class=\"dataframe\">\n",
              "  <thead>\n",
              "    <tr style=\"text-align: right;\">\n",
              "      <th></th>\n",
              "      <th>num</th>\n",
              "      <th>date_time</th>\n",
              "      <th>전력사용량</th>\n",
              "      <th>기온</th>\n",
              "      <th>풍속</th>\n",
              "      <th>습도</th>\n",
              "      <th>강수량</th>\n",
              "      <th>일조</th>\n",
              "      <th>비전기냉방설비운영</th>\n",
              "      <th>태양광보유</th>\n",
              "    </tr>\n",
              "  </thead>\n",
              "  <tbody>\n",
              "    <tr>\n",
              "      <th>0</th>\n",
              "      <td>1</td>\n",
              "      <td>2020-06-01 00</td>\n",
              "      <td>8179.056</td>\n",
              "      <td>17.6</td>\n",
              "      <td>2.5</td>\n",
              "      <td>92.0</td>\n",
              "      <td>0.8</td>\n",
              "      <td>0.0</td>\n",
              "      <td>0.0</td>\n",
              "      <td>0.0</td>\n",
              "    </tr>\n",
              "    <tr>\n",
              "      <th>1</th>\n",
              "      <td>1</td>\n",
              "      <td>2020-06-01 01</td>\n",
              "      <td>8135.640</td>\n",
              "      <td>17.7</td>\n",
              "      <td>2.9</td>\n",
              "      <td>91.0</td>\n",
              "      <td>0.3</td>\n",
              "      <td>0.0</td>\n",
              "      <td>0.0</td>\n",
              "      <td>0.0</td>\n",
              "    </tr>\n",
              "    <tr>\n",
              "      <th>2</th>\n",
              "      <td>1</td>\n",
              "      <td>2020-06-01 02</td>\n",
              "      <td>8107.128</td>\n",
              "      <td>17.5</td>\n",
              "      <td>3.2</td>\n",
              "      <td>91.0</td>\n",
              "      <td>0.0</td>\n",
              "      <td>0.0</td>\n",
              "      <td>0.0</td>\n",
              "      <td>0.0</td>\n",
              "    </tr>\n",
              "    <tr>\n",
              "      <th>3</th>\n",
              "      <td>1</td>\n",
              "      <td>2020-06-01 03</td>\n",
              "      <td>8048.808</td>\n",
              "      <td>17.1</td>\n",
              "      <td>3.2</td>\n",
              "      <td>91.0</td>\n",
              "      <td>0.0</td>\n",
              "      <td>0.0</td>\n",
              "      <td>0.0</td>\n",
              "      <td>0.0</td>\n",
              "    </tr>\n",
              "    <tr>\n",
              "      <th>4</th>\n",
              "      <td>1</td>\n",
              "      <td>2020-06-01 04</td>\n",
              "      <td>8043.624</td>\n",
              "      <td>17.0</td>\n",
              "      <td>3.3</td>\n",
              "      <td>92.0</td>\n",
              "      <td>0.0</td>\n",
              "      <td>0.0</td>\n",
              "      <td>0.0</td>\n",
              "      <td>0.0</td>\n",
              "    </tr>\n",
              "  </tbody>\n",
              "</table>\n",
              "</div>\n",
              "    <div class=\"colab-df-buttons\">\n",
              "\n",
              "  <div class=\"colab-df-container\">\n",
              "    <button class=\"colab-df-convert\" onclick=\"convertToInteractive('df-cc426072-dac0-4c57-8868-f77b13387e54')\"\n",
              "            title=\"Convert this dataframe to an interactive table.\"\n",
              "            style=\"display:none;\">\n",
              "\n",
              "  <svg xmlns=\"http://www.w3.org/2000/svg\" height=\"24px\" viewBox=\"0 -960 960 960\">\n",
              "    <path d=\"M120-120v-720h720v720H120Zm60-500h600v-160H180v160Zm220 220h160v-160H400v160Zm0 220h160v-160H400v160ZM180-400h160v-160H180v160Zm440 0h160v-160H620v160ZM180-180h160v-160H180v160Zm440 0h160v-160H620v160Z\"/>\n",
              "  </svg>\n",
              "    </button>\n",
              "\n",
              "  <style>\n",
              "    .colab-df-container {\n",
              "      display:flex;\n",
              "      gap: 12px;\n",
              "    }\n",
              "\n",
              "    .colab-df-convert {\n",
              "      background-color: #E8F0FE;\n",
              "      border: none;\n",
              "      border-radius: 50%;\n",
              "      cursor: pointer;\n",
              "      display: none;\n",
              "      fill: #1967D2;\n",
              "      height: 32px;\n",
              "      padding: 0 0 0 0;\n",
              "      width: 32px;\n",
              "    }\n",
              "\n",
              "    .colab-df-convert:hover {\n",
              "      background-color: #E2EBFA;\n",
              "      box-shadow: 0px 1px 2px rgba(60, 64, 67, 0.3), 0px 1px 3px 1px rgba(60, 64, 67, 0.15);\n",
              "      fill: #174EA6;\n",
              "    }\n",
              "\n",
              "    .colab-df-buttons div {\n",
              "      margin-bottom: 4px;\n",
              "    }\n",
              "\n",
              "    [theme=dark] .colab-df-convert {\n",
              "      background-color: #3B4455;\n",
              "      fill: #D2E3FC;\n",
              "    }\n",
              "\n",
              "    [theme=dark] .colab-df-convert:hover {\n",
              "      background-color: #434B5C;\n",
              "      box-shadow: 0px 1px 3px 1px rgba(0, 0, 0, 0.15);\n",
              "      filter: drop-shadow(0px 1px 2px rgba(0, 0, 0, 0.3));\n",
              "      fill: #FFFFFF;\n",
              "    }\n",
              "  </style>\n",
              "\n",
              "    <script>\n",
              "      const buttonEl =\n",
              "        document.querySelector('#df-cc426072-dac0-4c57-8868-f77b13387e54 button.colab-df-convert');\n",
              "      buttonEl.style.display =\n",
              "        google.colab.kernel.accessAllowed ? 'block' : 'none';\n",
              "\n",
              "      async function convertToInteractive(key) {\n",
              "        const element = document.querySelector('#df-cc426072-dac0-4c57-8868-f77b13387e54');\n",
              "        const dataTable =\n",
              "          await google.colab.kernel.invokeFunction('convertToInteractive',\n",
              "                                                    [key], {});\n",
              "        if (!dataTable) return;\n",
              "\n",
              "        const docLinkHtml = 'Like what you see? Visit the ' +\n",
              "          '<a target=\"_blank\" href=https://colab.research.google.com/notebooks/data_table.ipynb>data table notebook</a>'\n",
              "          + ' to learn more about interactive tables.';\n",
              "        element.innerHTML = '';\n",
              "        dataTable['output_type'] = 'display_data';\n",
              "        await google.colab.output.renderOutput(dataTable, element);\n",
              "        const docLink = document.createElement('div');\n",
              "        docLink.innerHTML = docLinkHtml;\n",
              "        element.appendChild(docLink);\n",
              "      }\n",
              "    </script>\n",
              "  </div>\n",
              "\n",
              "\n",
              "<div id=\"df-9596e6fc-865d-4e11-a54b-845a63cf6edb\">\n",
              "  <button class=\"colab-df-quickchart\" onclick=\"quickchart('df-9596e6fc-865d-4e11-a54b-845a63cf6edb')\"\n",
              "            title=\"Suggest charts\"\n",
              "            style=\"display:none;\">\n",
              "\n",
              "<svg xmlns=\"http://www.w3.org/2000/svg\" height=\"24px\"viewBox=\"0 0 24 24\"\n",
              "     width=\"24px\">\n",
              "    <g>\n",
              "        <path d=\"M19 3H5c-1.1 0-2 .9-2 2v14c0 1.1.9 2 2 2h14c1.1 0 2-.9 2-2V5c0-1.1-.9-2-2-2zM9 17H7v-7h2v7zm4 0h-2V7h2v10zm4 0h-2v-4h2v4z\"/>\n",
              "    </g>\n",
              "</svg>\n",
              "  </button>\n",
              "\n",
              "<style>\n",
              "  .colab-df-quickchart {\n",
              "      --bg-color: #E8F0FE;\n",
              "      --fill-color: #1967D2;\n",
              "      --hover-bg-color: #E2EBFA;\n",
              "      --hover-fill-color: #174EA6;\n",
              "      --disabled-fill-color: #AAA;\n",
              "      --disabled-bg-color: #DDD;\n",
              "  }\n",
              "\n",
              "  [theme=dark] .colab-df-quickchart {\n",
              "      --bg-color: #3B4455;\n",
              "      --fill-color: #D2E3FC;\n",
              "      --hover-bg-color: #434B5C;\n",
              "      --hover-fill-color: #FFFFFF;\n",
              "      --disabled-bg-color: #3B4455;\n",
              "      --disabled-fill-color: #666;\n",
              "  }\n",
              "\n",
              "  .colab-df-quickchart {\n",
              "    background-color: var(--bg-color);\n",
              "    border: none;\n",
              "    border-radius: 50%;\n",
              "    cursor: pointer;\n",
              "    display: none;\n",
              "    fill: var(--fill-color);\n",
              "    height: 32px;\n",
              "    padding: 0;\n",
              "    width: 32px;\n",
              "  }\n",
              "\n",
              "  .colab-df-quickchart:hover {\n",
              "    background-color: var(--hover-bg-color);\n",
              "    box-shadow: 0 1px 2px rgba(60, 64, 67, 0.3), 0 1px 3px 1px rgba(60, 64, 67, 0.15);\n",
              "    fill: var(--button-hover-fill-color);\n",
              "  }\n",
              "\n",
              "  .colab-df-quickchart-complete:disabled,\n",
              "  .colab-df-quickchart-complete:disabled:hover {\n",
              "    background-color: var(--disabled-bg-color);\n",
              "    fill: var(--disabled-fill-color);\n",
              "    box-shadow: none;\n",
              "  }\n",
              "\n",
              "  .colab-df-spinner {\n",
              "    border: 2px solid var(--fill-color);\n",
              "    border-color: transparent;\n",
              "    border-bottom-color: var(--fill-color);\n",
              "    animation:\n",
              "      spin 1s steps(1) infinite;\n",
              "  }\n",
              "\n",
              "  @keyframes spin {\n",
              "    0% {\n",
              "      border-color: transparent;\n",
              "      border-bottom-color: var(--fill-color);\n",
              "      border-left-color: var(--fill-color);\n",
              "    }\n",
              "    20% {\n",
              "      border-color: transparent;\n",
              "      border-left-color: var(--fill-color);\n",
              "      border-top-color: var(--fill-color);\n",
              "    }\n",
              "    30% {\n",
              "      border-color: transparent;\n",
              "      border-left-color: var(--fill-color);\n",
              "      border-top-color: var(--fill-color);\n",
              "      border-right-color: var(--fill-color);\n",
              "    }\n",
              "    40% {\n",
              "      border-color: transparent;\n",
              "      border-right-color: var(--fill-color);\n",
              "      border-top-color: var(--fill-color);\n",
              "    }\n",
              "    60% {\n",
              "      border-color: transparent;\n",
              "      border-right-color: var(--fill-color);\n",
              "    }\n",
              "    80% {\n",
              "      border-color: transparent;\n",
              "      border-right-color: var(--fill-color);\n",
              "      border-bottom-color: var(--fill-color);\n",
              "    }\n",
              "    90% {\n",
              "      border-color: transparent;\n",
              "      border-bottom-color: var(--fill-color);\n",
              "    }\n",
              "  }\n",
              "</style>\n",
              "\n",
              "  <script>\n",
              "    async function quickchart(key) {\n",
              "      const quickchartButtonEl =\n",
              "        document.querySelector('#' + key + ' button');\n",
              "      quickchartButtonEl.disabled = true;  // To prevent multiple clicks.\n",
              "      quickchartButtonEl.classList.add('colab-df-spinner');\n",
              "      try {\n",
              "        const charts = await google.colab.kernel.invokeFunction(\n",
              "            'suggestCharts', [key], {});\n",
              "      } catch (error) {\n",
              "        console.error('Error during call to suggestCharts:', error);\n",
              "      }\n",
              "      quickchartButtonEl.classList.remove('colab-df-spinner');\n",
              "      quickchartButtonEl.classList.add('colab-df-quickchart-complete');\n",
              "    }\n",
              "    (() => {\n",
              "      let quickchartButtonEl =\n",
              "        document.querySelector('#df-9596e6fc-865d-4e11-a54b-845a63cf6edb button');\n",
              "      quickchartButtonEl.style.display =\n",
              "        google.colab.kernel.accessAllowed ? 'block' : 'none';\n",
              "    })();\n",
              "  </script>\n",
              "</div>\n",
              "\n",
              "    </div>\n",
              "  </div>\n"
            ],
            "application/vnd.google.colaboratory.intrinsic+json": {
              "type": "dataframe",
              "variable_name": "df"
            }
          },
          "metadata": {},
          "execution_count": 12
        }
      ]
    },
    {
      "cell_type": "code",
      "source": [
        "# scatter plot\n",
        "import matplotlib.pyplot as plt\n",
        "\n",
        "plt.scatter(df['기온'], df['전력사용량'])\n",
        "plt.show()"
      ],
      "metadata": {
        "colab": {
          "base_uri": "https://localhost:8080/",
          "height": 430
        },
        "id": "ikp1A1gfgZv-",
        "outputId": "e9e6dfa9-00f6-4d05-c382-77591ff92d79"
      },
      "execution_count": null,
      "outputs": [
        {
          "output_type": "display_data",
          "data": {
            "text/plain": [
              "<Figure size 640x480 with 1 Axes>"
            ],
            "image/png": "[encoded data removed]"
          },
          "metadata": {}
        }
      ]
    },
    {
      "cell_type": "code",
      "source": [
        "plt.scatter(df['풍속'], df['전력사용량'])\n",
        "plt.show()"
      ],
      "metadata": {
        "colab": {
          "base_uri": "https://localhost:8080/",
          "height": 430
        },
        "id": "aKEHt5e3h2uw",
        "outputId": "000b4d10-08fa-4b00-f2c6-243f17853afb"
      },
      "execution_count": null,
      "outputs": [
        {
          "output_type": "display_data",
          "data": {
            "text/plain": [
              "<Figure size 640x480 with 1 Axes>"
            ],
            "image/png": "[encoded data removed]"
          },
          "metadata": {}
        }
      ]
    },
    {
      "cell_type": "code",
      "source": [
        "plt.scatter(df['습도'], df['전력사용량'])\n",
        "plt.show()"
      ],
      "metadata": {
        "colab": {
          "base_uri": "https://localhost:8080/",
          "height": 430
        },
        "id": "4XgHgpllh2sK",
        "outputId": "ae482e06-4a36-4304-b717-4a7e11c53bb6"
      },
      "execution_count": null,
      "outputs": [
        {
          "output_type": "display_data",
          "data": {
            "text/plain": [
              "<Figure size 640x480 with 1 Axes>"
            ],
            "image/png": "[encoded data removed]"
          },
          "metadata": {}
        }
      ]
    },
    {
      "cell_type": "code",
      "source": [
        "plt.scatter(df['강수량'], df['전력사용량'])\n",
        "plt.show()"
      ],
      "metadata": {
        "colab": {
          "base_uri": "https://localhost:8080/",
          "height": 430
        },
        "id": "n_N1oVzZh2pu",
        "outputId": "a98e8bc6-3123-44d4-8516-9cdc9d43d52b"
      },
      "execution_count": null,
      "outputs": [
        {
          "output_type": "display_data",
          "data": {
            "text/plain": [
              "<Figure size 640x480 with 1 Axes>"
            ],
            "image/png": "[encoded data removed]"
          },
          "metadata": {}
        }
      ]
    },
    {
      "cell_type": "code",
      "source": [
        "plt.scatter(df['일조'], df['전력사용량'])\n",
        "plt.show()"
      ],
      "metadata": {
        "colab": {
          "base_uri": "https://localhost:8080/",
          "height": 430
        },
        "id": "ZvF-HWIEh2ng",
        "outputId": "f22fb3b2-a164-41af-efb6-c5ac58dd36f6"
      },
      "execution_count": null,
      "outputs": [
        {
          "output_type": "display_data",
          "data": {
            "text/plain": [
              "<Figure size 640x480 with 1 Axes>"
            ],
            "image/png": "[encoded data removed]"
          },
          "metadata": {}
        }
      ]
    },
    {
      "cell_type": "code",
      "source": [
        "# 전체 heatmap\n",
        "import seaborn as sns\n",
        "import matplotlib.pyplot as plt\n",
        "\n",
        "numeric_df = df.select_dtypes(include=['float64', 'int64']) # 숫자형\n",
        "corr_matrix = numeric_df.corr()\n",
        "\n",
        "sns.heatmap(corr_matrix, annot=True, cmap='coolwarm', linewidths=0.5)"
      ],
      "metadata": {
        "colab": {
          "base_uri": "https://localhost:8080/",
          "height": 1000
        },
        "id": "4jbFu3qei5GO",
        "outputId": "19d3cdeb-55c0-4297-a692-c29097101696"
      },
      "execution_count": null,
      "outputs": [
        {
          "output_type": "stream",
          "name": "stderr",
          "text": [
            "WARNING:matplotlib.font_manager:findfont: Font family 'Malgun Gothic' not found.\n",
            "WARNING:matplotlib.font_manager:findfont: Font family 'Malgun Gothic' not found.\n",
            "WARNING:matplotlib.font_manager:findfont: Font family 'Malgun Gothic' not found.\n",
            "WARNING:matplotlib.font_manager:findfont: Font family 'Malgun Gothic' not found.\n",
            "WARNING:matplotlib.font_manager:findfont: Font family 'Malgun Gothic' not found.\n",
            "WARNING:matplotlib.font_manager:findfont: Font family 'Malgun Gothic' not found.\n",
            "WARNING:matplotlib.font_manager:findfont: Font family 'Malgun Gothic' not found.\n",
            "WARNING:matplotlib.font_manager:findfont: Font family 'Malgun Gothic' not found.\n",
            "WARNING:matplotlib.font_manager:findfont: Font family 'Malgun Gothic' not found.\n",
            "WARNING:matplotlib.font_manager:findfont: Font family 'Malgun Gothic' not found.\n",
            "WARNING:matplotlib.font_manager:findfont: Font family 'Malgun Gothic' not found.\n",
            "WARNING:matplotlib.font_manager:findfont: Font family 'Malgun Gothic' not found.\n",
            "WARNING:matplotlib.font_manager:findfont: Font family 'Malgun Gothic' not found.\n",
            "WARNING:matplotlib.font_manager:findfont: Font family 'Malgun Gothic' not found.\n",
            "WARNING:matplotlib.font_manager:findfont: Font family 'Malgun Gothic' not found.\n",
            "WARNING:matplotlib.font_manager:findfont: Font family 'Malgun Gothic' not found.\n",
            "WARNING:matplotlib.font_manager:findfont: Font family 'Malgun Gothic' not found.\n",
            "WARNING:matplotlib.font_manager:findfont: Font family 'Malgun Gothic' not found.\n",
            "WARNING:matplotlib.font_manager:findfont: Font family 'Malgun Gothic' not found.\n",
            "WARNING:matplotlib.font_manager:findfont: Font family 'Malgun Gothic' not found.\n",
            "WARNING:matplotlib.font_manager:findfont: Font family 'Malgun Gothic' not found.\n",
            "WARNING:matplotlib.font_manager:findfont: Font family 'Malgun Gothic' not found.\n",
            "WARNING:matplotlib.font_manager:findfont: Font family 'Malgun Gothic' not found.\n",
            "WARNING:matplotlib.font_manager:findfont: Font family 'Malgun Gothic' not found.\n",
            "WARNING:matplotlib.font_manager:findfont: Font family 'Malgun Gothic' not found.\n",
            "WARNING:matplotlib.font_manager:findfont: Font family 'Malgun Gothic' not found.\n",
            "WARNING:matplotlib.font_manager:findfont: Font family 'Malgun Gothic' not found.\n",
            "WARNING:matplotlib.font_manager:findfont: Font family 'Malgun Gothic' not found.\n",
            "WARNING:matplotlib.font_manager:findfont: Font family 'Malgun Gothic' not found.\n",
            "WARNING:matplotlib.font_manager:findfont: Font family 'Malgun Gothic' not found.\n",
            "WARNING:matplotlib.font_manager:findfont: Font family 'Malgun Gothic' not found.\n",
            "WARNING:matplotlib.font_manager:findfont: Font family 'Malgun Gothic' not found.\n",
            "WARNING:matplotlib.font_manager:findfont: Font family 'Malgun Gothic' not found.\n",
            "WARNING:matplotlib.font_manager:findfont: Font family 'Malgun Gothic' not found.\n",
            "WARNING:matplotlib.font_manager:findfont: Font family 'Malgun Gothic' not found.\n",
            "WARNING:matplotlib.font_manager:findfont: Font family 'Malgun Gothic' not found.\n",
            "WARNING:matplotlib.font_manager:findfont: Font family 'Malgun Gothic' not found.\n",
            "WARNING:matplotlib.font_manager:findfont: Font family 'Malgun Gothic' not found.\n",
            "WARNING:matplotlib.font_manager:findfont: Font family 'Malgun Gothic' not found.\n",
            "WARNING:matplotlib.font_manager:findfont: Font family 'Malgun Gothic' not found.\n",
            "WARNING:matplotlib.font_manager:findfont: Font family 'Malgun Gothic' not found.\n",
            "WARNING:matplotlib.font_manager:findfont: Font family 'Malgun Gothic' not found.\n",
            "WARNING:matplotlib.font_manager:findfont: Font family 'Malgun Gothic' not found.\n",
            "WARNING:matplotlib.font_manager:findfont: Font family 'Malgun Gothic' not found.\n",
            "WARNING:matplotlib.font_manager:findfont: Font family 'Malgun Gothic' not found.\n",
            "WARNING:matplotlib.font_manager:findfont: Font family 'Malgun Gothic' not found.\n"
          ]
        },
        {
          "output_type": "execute_result",
          "data": {
            "text/plain": [
              "<Axes: >"
            ]
          },
          "metadata": {},
          "execution_count": 27
        },
        {
          "output_type": "stream",
          "name": "stderr",
          "text": [
            "WARNING:matplotlib.font_manager:findfont: Font family 'Malgun Gothic' not found.\n",
            "WARNING:matplotlib.font_manager:findfont: Font family 'Malgun Gothic' not found.\n",
            "WARNING:matplotlib.font_manager:findfont: Font family 'Malgun Gothic' not found.\n",
            "WARNING:matplotlib.font_manager:findfont: Font family 'Malgun Gothic' not found.\n",
            "WARNING:matplotlib.font_manager:findfont: Font family 'Malgun Gothic' not found.\n",
            "WARNING:matplotlib.font_manager:findfont: Font family 'Malgun Gothic' not found.\n",
            "WARNING:matplotlib.font_manager:findfont: Font family 'Malgun Gothic' not found.\n",
            "WARNING:matplotlib.font_manager:findfont: Font family 'Malgun Gothic' not found.\n",
            "WARNING:matplotlib.font_manager:findfont: Font family 'Malgun Gothic' not found.\n",
            "WARNING:matplotlib.font_manager:findfont: Font family 'Malgun Gothic' not found.\n",
            "WARNING:matplotlib.font_manager:findfont: Font family 'Malgun Gothic' not found.\n",
            "WARNING:matplotlib.font_manager:findfont: Font family 'Malgun Gothic' not found.\n",
            "WARNING:matplotlib.font_manager:findfont: Font family 'Malgun Gothic' not found.\n",
            "WARNING:matplotlib.font_manager:findfont: Font family 'Malgun Gothic' not found.\n",
            "WARNING:matplotlib.font_manager:findfont: Font family 'Malgun Gothic' not found.\n",
            "WARNING:matplotlib.font_manager:findfont: Font family 'Malgun Gothic' not found.\n",
            "WARNING:matplotlib.font_manager:findfont: Font family 'Malgun Gothic' not found.\n",
            "WARNING:matplotlib.font_manager:findfont: Font family 'Malgun Gothic' not found.\n",
            "WARNING:matplotlib.font_manager:findfont: Font family 'Malgun Gothic' not found.\n",
            "WARNING:matplotlib.font_manager:findfont: Font family 'Malgun Gothic' not found.\n",
            "WARNING:matplotlib.font_manager:findfont: Font family 'Malgun Gothic' not found.\n",
            "WARNING:matplotlib.font_manager:findfont: Font family 'Malgun Gothic' not found.\n",
            "WARNING:matplotlib.font_manager:findfont: Font family 'Malgun Gothic' not found.\n",
            "WARNING:matplotlib.font_manager:findfont: Font family 'Malgun Gothic' not found.\n",
            "WARNING:matplotlib.font_manager:findfont: Font family 'Malgun Gothic' not found.\n",
            "WARNING:matplotlib.font_manager:findfont: Font family 'Malgun Gothic' not found.\n",
            "WARNING:matplotlib.font_manager:findfont: Font family 'Malgun Gothic' not found.\n",
            "WARNING:matplotlib.font_manager:findfont: Font family 'Malgun Gothic' not found.\n",
            "WARNING:matplotlib.font_manager:findfont: Font family 'Malgun Gothic' not found.\n",
            "WARNING:matplotlib.font_manager:findfont: Font family 'Malgun Gothic' not found.\n",
            "WARNING:matplotlib.font_manager:findfont: Font family 'Malgun Gothic' not found.\n",
            "WARNING:matplotlib.font_manager:findfont: Font family 'Malgun Gothic' not found.\n",
            "WARNING:matplotlib.font_manager:findfont: Font family 'Malgun Gothic' not found.\n",
            "WARNING:matplotlib.font_manager:findfont: Font family 'Malgun Gothic' not found.\n",
            "WARNING:matplotlib.font_manager:findfont: Font family 'Malgun Gothic' not found.\n",
            "WARNING:matplotlib.font_manager:findfont: Font family 'Malgun Gothic' not found.\n",
            "WARNING:matplotlib.font_manager:findfont: Font family 'Malgun Gothic' not found.\n",
            "WARNING:matplotlib.font_manager:findfont: Font family 'Malgun Gothic' not found.\n",
            "WARNING:matplotlib.font_manager:findfont: Font family 'Malgun Gothic' not found.\n",
            "WARNING:matplotlib.font_manager:findfont: Font family 'Malgun Gothic' not found.\n",
            "WARNING:matplotlib.font_manager:findfont: Font family 'Malgun Gothic' not found.\n",
            "WARNING:matplotlib.font_manager:findfont: Font family 'Malgun Gothic' not found.\n",
            "WARNING:matplotlib.font_manager:findfont: Font family 'Malgun Gothic' not found.\n",
            "WARNING:matplotlib.font_manager:findfont: Font family 'Malgun Gothic' not found.\n",
            "WARNING:matplotlib.font_manager:findfont: Font family 'Malgun Gothic' not found.\n",
            "WARNING:matplotlib.font_manager:findfont: Font family 'Malgun Gothic' not found.\n",
            "WARNING:matplotlib.font_manager:findfont: Font family 'Malgun Gothic' not found.\n",
            "WARNING:matplotlib.font_manager:findfont: Font family 'Malgun Gothic' not found.\n",
            "WARNING:matplotlib.font_manager:findfont: Font family 'Malgun Gothic' not found.\n",
            "WARNING:matplotlib.font_manager:findfont: Font family 'Malgun Gothic' not found.\n",
            "WARNING:matplotlib.font_manager:findfont: Font family 'Malgun Gothic' not found.\n",
            "WARNING:matplotlib.font_manager:findfont: Font family 'Malgun Gothic' not found.\n",
            "WARNING:matplotlib.font_manager:findfont: Font family 'Malgun Gothic' not found.\n",
            "WARNING:matplotlib.font_manager:findfont: Font family 'Malgun Gothic' not found.\n",
            "WARNING:matplotlib.font_manager:findfont: Font family 'Malgun Gothic' not found.\n",
            "WARNING:matplotlib.font_manager:findfont: Font family 'Malgun Gothic' not found.\n",
            "WARNING:matplotlib.font_manager:findfont: Font family 'Malgun Gothic' not found.\n",
            "WARNING:matplotlib.font_manager:findfont: Font family 'Malgun Gothic' not found.\n",
            "WARNING:matplotlib.font_manager:findfont: Font family 'Malgun Gothic' not found.\n",
            "WARNING:matplotlib.font_manager:findfont: Font family 'Malgun Gothic' not found.\n",
            "WARNING:matplotlib.font_manager:findfont: Font family 'Malgun Gothic' not found.\n",
            "WARNING:matplotlib.font_manager:findfont: Font family 'Malgun Gothic' not found.\n",
            "WARNING:matplotlib.font_manager:findfont: Font family 'Malgun Gothic' not found.\n",
            "WARNING:matplotlib.font_manager:findfont: Font family 'Malgun Gothic' not found.\n",
            "WARNING:matplotlib.font_manager:findfont: Font family 'Malgun Gothic' not found.\n",
            "WARNING:matplotlib.font_manager:findfont: Font family 'Malgun Gothic' not found.\n",
            "WARNING:matplotlib.font_manager:findfont: Font family 'Malgun Gothic' not found.\n",
            "WARNING:matplotlib.font_manager:findfont: Font family 'Malgun Gothic' not found.\n",
            "WARNING:matplotlib.font_manager:findfont: Font family 'Malgun Gothic' not found.\n",
            "WARNING:matplotlib.font_manager:findfont: Font family 'Malgun Gothic' not found.\n",
            "WARNING:matplotlib.font_manager:findfont: Font family 'Malgun Gothic' not found.\n",
            "WARNING:matplotlib.font_manager:findfont: Font family 'Malgun Gothic' not found.\n",
            "WARNING:matplotlib.font_manager:findfont: Font family 'Malgun Gothic' not found.\n",
            "WARNING:matplotlib.font_manager:findfont: Font family 'Malgun Gothic' not found.\n",
            "WARNING:matplotlib.font_manager:findfont: Font family 'Malgun Gothic' not found.\n",
            "WARNING:matplotlib.font_manager:findfont: Font family 'Malgun Gothic' not found.\n",
            "WARNING:matplotlib.font_manager:findfont: Font family 'Malgun Gothic' not found.\n",
            "WARNING:matplotlib.font_manager:findfont: Font family 'Malgun Gothic' not found.\n",
            "WARNING:matplotlib.font_manager:findfont: Font family 'Malgun Gothic' not found.\n",
            "WARNING:matplotlib.font_manager:findfont: Font family 'Malgun Gothic' not found.\n",
            "WARNING:matplotlib.font_manager:findfont: Font family 'Malgun Gothic' not found.\n",
            "WARNING:matplotlib.font_manager:findfont: Font family 'Malgun Gothic' not found.\n",
            "WARNING:matplotlib.font_manager:findfont: Font family 'Malgun Gothic' not found.\n",
            "WARNING:matplotlib.font_manager:findfont: Font family 'Malgun Gothic' not found.\n",
            "WARNING:matplotlib.font_manager:findfont: Font family 'Malgun Gothic' not found.\n",
            "WARNING:matplotlib.font_manager:findfont: Font family 'Malgun Gothic' not found.\n",
            "WARNING:matplotlib.font_manager:findfont: Font family 'Malgun Gothic' not found.\n",
            "WARNING:matplotlib.font_manager:findfont: Font family 'Malgun Gothic' not found.\n",
            "WARNING:matplotlib.font_manager:findfont: Font family 'Malgun Gothic' not found.\n",
            "WARNING:matplotlib.font_manager:findfont: Font family 'Malgun Gothic' not found.\n",
            "WARNING:matplotlib.font_manager:findfont: Font family 'Malgun Gothic' not found.\n",
            "WARNING:matplotlib.font_manager:findfont: Font family 'Malgun Gothic' not found.\n",
            "WARNING:matplotlib.font_manager:findfont: Font family 'Malgun Gothic' not found.\n",
            "WARNING:matplotlib.font_manager:findfont: Font family 'Malgun Gothic' not found.\n",
            "WARNING:matplotlib.font_manager:findfont: Font family 'Malgun Gothic' not found.\n",
            "WARNING:matplotlib.font_manager:findfont: Font family 'Malgun Gothic' not found.\n",
            "WARNING:matplotlib.font_manager:findfont: Font family 'Malgun Gothic' not found.\n",
            "WARNING:matplotlib.font_manager:findfont: Font family 'Malgun Gothic' not found.\n",
            "WARNING:matplotlib.font_manager:findfont: Font family 'Malgun Gothic' not found.\n",
            "WARNING:matplotlib.font_manager:findfont: Font family 'Malgun Gothic' not found.\n",
            "WARNING:matplotlib.font_manager:findfont: Font family 'Malgun Gothic' not found.\n",
            "WARNING:matplotlib.font_manager:findfont: Font family 'Malgun Gothic' not found.\n",
            "WARNING:matplotlib.font_manager:findfont: Font family 'Malgun Gothic' not found.\n",
            "WARNING:matplotlib.font_manager:findfont: Font family 'Malgun Gothic' not found.\n",
            "WARNING:matplotlib.font_manager:findfont: Font family 'Malgun Gothic' not found.\n",
            "WARNING:matplotlib.font_manager:findfont: Font family 'Malgun Gothic' not found.\n",
            "WARNING:matplotlib.font_manager:findfont: Font family 'Malgun Gothic' not found.\n",
            "WARNING:matplotlib.font_manager:findfont: Font family 'Malgun Gothic' not found.\n",
            "WARNING:matplotlib.font_manager:findfont: Font family 'Malgun Gothic' not found.\n",
            "WARNING:matplotlib.font_manager:findfont: Font family 'Malgun Gothic' not found.\n",
            "WARNING:matplotlib.font_manager:findfont: Font family 'Malgun Gothic' not found.\n",
            "WARNING:matplotlib.font_manager:findfont: Font family 'Malgun Gothic' not found.\n",
            "WARNING:matplotlib.font_manager:findfont: Font family 'Malgun Gothic' not found.\n",
            "WARNING:matplotlib.font_manager:findfont: Font family 'Malgun Gothic' not found.\n",
            "WARNING:matplotlib.font_manager:findfont: Font family 'Malgun Gothic' not found.\n",
            "WARNING:matplotlib.font_manager:findfont: Font family 'Malgun Gothic' not found.\n",
            "WARNING:matplotlib.font_manager:findfont: Font family 'Malgun Gothic' not found.\n",
            "WARNING:matplotlib.font_manager:findfont: Font family 'Malgun Gothic' not found.\n",
            "WARNING:matplotlib.font_manager:findfont: Font family 'Malgun Gothic' not found.\n",
            "WARNING:matplotlib.font_manager:findfont: Font family 'Malgun Gothic' not found.\n",
            "WARNING:matplotlib.font_manager:findfont: Font family 'Malgun Gothic' not found.\n",
            "WARNING:matplotlib.font_manager:findfont: Font family 'Malgun Gothic' not found.\n",
            "WARNING:matplotlib.font_manager:findfont: Font family 'Malgun Gothic' not found.\n",
            "WARNING:matplotlib.font_manager:findfont: Font family 'Malgun Gothic' not found.\n",
            "WARNING:matplotlib.font_manager:findfont: Font family 'Malgun Gothic' not found.\n",
            "WARNING:matplotlib.font_manager:findfont: Font family 'Malgun Gothic' not found.\n",
            "WARNING:matplotlib.font_manager:findfont: Font family 'Malgun Gothic' not found.\n",
            "WARNING:matplotlib.font_manager:findfont: Font family 'Malgun Gothic' not found.\n",
            "WARNING:matplotlib.font_manager:findfont: Font family 'Malgun Gothic' not found.\n",
            "WARNING:matplotlib.font_manager:findfont: Font family 'Malgun Gothic' not found.\n",
            "WARNING:matplotlib.font_manager:findfont: Font family 'Malgun Gothic' not found.\n",
            "WARNING:matplotlib.font_manager:findfont: Font family 'Malgun Gothic' not found.\n",
            "WARNING:matplotlib.font_manager:findfont: Font family 'Malgun Gothic' not found.\n",
            "WARNING:matplotlib.font_manager:findfont: Font family 'Malgun Gothic' not found.\n",
            "WARNING:matplotlib.font_manager:findfont: Font family 'Malgun Gothic' not found.\n",
            "WARNING:matplotlib.font_manager:findfont: Font family 'Malgun Gothic' not found.\n",
            "WARNING:matplotlib.font_manager:findfont: Font family 'Malgun Gothic' not found.\n",
            "WARNING:matplotlib.font_manager:findfont: Font family 'Malgun Gothic' not found.\n",
            "WARNING:matplotlib.font_manager:findfont: Font family 'Malgun Gothic' not found.\n",
            "WARNING:matplotlib.font_manager:findfont: Font family 'Malgun Gothic' not found.\n",
            "WARNING:matplotlib.font_manager:findfont: Font family 'Malgun Gothic' not found.\n",
            "WARNING:matplotlib.font_manager:findfont: Font family 'Malgun Gothic' not found.\n",
            "WARNING:matplotlib.font_manager:findfont: Font family 'Malgun Gothic' not found.\n",
            "WARNING:matplotlib.font_manager:findfont: Font family 'Malgun Gothic' not found.\n",
            "WARNING:matplotlib.font_manager:findfont: Font family 'Malgun Gothic' not found.\n",
            "WARNING:matplotlib.font_manager:findfont: Font family 'Malgun Gothic' not found.\n",
            "WARNING:matplotlib.font_manager:findfont: Font family 'Malgun Gothic' not found.\n",
            "WARNING:matplotlib.font_manager:findfont: Font family 'Malgun Gothic' not found.\n",
            "WARNING:matplotlib.font_manager:findfont: Font family 'Malgun Gothic' not found.\n",
            "WARNING:matplotlib.font_manager:findfont: Font family 'Malgun Gothic' not found.\n",
            "WARNING:matplotlib.font_manager:findfont: Font family 'Malgun Gothic' not found.\n",
            "WARNING:matplotlib.font_manager:findfont: Font family 'Malgun Gothic' not found.\n",
            "WARNING:matplotlib.font_manager:findfont: Font family 'Malgun Gothic' not found.\n",
            "WARNING:matplotlib.font_manager:findfont: Font family 'Malgun Gothic' not found.\n",
            "WARNING:matplotlib.font_manager:findfont: Font family 'Malgun Gothic' not found.\n",
            "WARNING:matplotlib.font_manager:findfont: Font family 'Malgun Gothic' not found.\n",
            "WARNING:matplotlib.font_manager:findfont: Font family 'Malgun Gothic' not found.\n",
            "WARNING:matplotlib.font_manager:findfont: Font family 'Malgun Gothic' not found.\n",
            "WARNING:matplotlib.font_manager:findfont: Font family 'Malgun Gothic' not found.\n",
            "WARNING:matplotlib.font_manager:findfont: Font family 'Malgun Gothic' not found.\n",
            "WARNING:matplotlib.font_manager:findfont: Font family 'Malgun Gothic' not found.\n",
            "WARNING:matplotlib.font_manager:findfont: Font family 'Malgun Gothic' not found.\n",
            "WARNING:matplotlib.font_manager:findfont: Font family 'Malgun Gothic' not found.\n",
            "WARNING:matplotlib.font_manager:findfont: Font family 'Malgun Gothic' not found.\n",
            "WARNING:matplotlib.font_manager:findfont: Font family 'Malgun Gothic' not found.\n",
            "WARNING:matplotlib.font_manager:findfont: Font family 'Malgun Gothic' not found.\n",
            "WARNING:matplotlib.font_manager:findfont: Font family 'Malgun Gothic' not found.\n",
            "WARNING:matplotlib.font_manager:findfont: Font family 'Malgun Gothic' not found.\n",
            "WARNING:matplotlib.font_manager:findfont: Font family 'Malgun Gothic' not found.\n",
            "WARNING:matplotlib.font_manager:findfont: Font family 'Malgun Gothic' not found.\n",
            "WARNING:matplotlib.font_manager:findfont: Font family 'Malgun Gothic' not found.\n",
            "WARNING:matplotlib.font_manager:findfont: Font family 'Malgun Gothic' not found.\n",
            "WARNING:matplotlib.font_manager:findfont: Font family 'Malgun Gothic' not found.\n",
            "WARNING:matplotlib.font_manager:findfont: Font family 'Malgun Gothic' not found.\n",
            "WARNING:matplotlib.font_manager:findfont: Font family 'Malgun Gothic' not found.\n",
            "WARNING:matplotlib.font_manager:findfont: Font family 'Malgun Gothic' not found.\n",
            "WARNING:matplotlib.font_manager:findfont: Font family 'Malgun Gothic' not found.\n",
            "WARNING:matplotlib.font_manager:findfont: Font family 'Malgun Gothic' not found.\n",
            "WARNING:matplotlib.font_manager:findfont: Font family 'Malgun Gothic' not found.\n",
            "WARNING:matplotlib.font_manager:findfont: Font family 'Malgun Gothic' not found.\n",
            "WARNING:matplotlib.font_manager:findfont: Font family 'Malgun Gothic' not found.\n",
            "WARNING:matplotlib.font_manager:findfont: Font family 'Malgun Gothic' not found.\n",
            "WARNING:matplotlib.font_manager:findfont: Font family 'Malgun Gothic' not found.\n",
            "WARNING:matplotlib.font_manager:findfont: Font family 'Malgun Gothic' not found.\n",
            "WARNING:matplotlib.font_manager:findfont: Font family 'Malgun Gothic' not found.\n",
            "WARNING:matplotlib.font_manager:findfont: Font family 'Malgun Gothic' not found.\n",
            "WARNING:matplotlib.font_manager:findfont: Font family 'Malgun Gothic' not found.\n",
            "WARNING:matplotlib.font_manager:findfont: Font family 'Malgun Gothic' not found.\n",
            "WARNING:matplotlib.font_manager:findfont: Font family 'Malgun Gothic' not found.\n",
            "WARNING:matplotlib.font_manager:findfont: Font family 'Malgun Gothic' not found.\n",
            "WARNING:matplotlib.font_manager:findfont: Font family 'Malgun Gothic' not found.\n",
            "WARNING:matplotlib.font_manager:findfont: Font family 'Malgun Gothic' not found.\n",
            "WARNING:matplotlib.font_manager:findfont: Font family 'Malgun Gothic' not found.\n",
            "WARNING:matplotlib.font_manager:findfont: Font family 'Malgun Gothic' not found.\n",
            "WARNING:matplotlib.font_manager:findfont: Font family 'Malgun Gothic' not found.\n",
            "WARNING:matplotlib.font_manager:findfont: Font family 'Malgun Gothic' not found.\n",
            "WARNING:matplotlib.font_manager:findfont: Font family 'Malgun Gothic' not found.\n",
            "WARNING:matplotlib.font_manager:findfont: Font family 'Malgun Gothic' not found.\n",
            "WARNING:matplotlib.font_manager:findfont: Font family 'Malgun Gothic' not found.\n",
            "WARNING:matplotlib.font_manager:findfont: Font family 'Malgun Gothic' not found.\n",
            "WARNING:matplotlib.font_manager:findfont: Font family 'Malgun Gothic' not found.\n",
            "WARNING:matplotlib.font_manager:findfont: Font family 'Malgun Gothic' not found.\n",
            "WARNING:matplotlib.font_manager:findfont: Font family 'Malgun Gothic' not found.\n",
            "WARNING:matplotlib.font_manager:findfont: Font family 'Malgun Gothic' not found.\n",
            "WARNING:matplotlib.font_manager:findfont: Font family 'Malgun Gothic' not found.\n",
            "WARNING:matplotlib.font_manager:findfont: Font family 'Malgun Gothic' not found.\n",
            "WARNING:matplotlib.font_manager:findfont: Font family 'Malgun Gothic' not found.\n",
            "WARNING:matplotlib.font_manager:findfont: Font family 'Malgun Gothic' not found.\n",
            "WARNING:matplotlib.font_manager:findfont: Font family 'Malgun Gothic' not found.\n",
            "WARNING:matplotlib.font_manager:findfont: Font family 'Malgun Gothic' not found.\n",
            "WARNING:matplotlib.font_manager:findfont: Font family 'Malgun Gothic' not found.\n",
            "WARNING:matplotlib.font_manager:findfont: Font family 'Malgun Gothic' not found.\n",
            "WARNING:matplotlib.font_manager:findfont: Font family 'Malgun Gothic' not found.\n",
            "WARNING:matplotlib.font_manager:findfont: Font family 'Malgun Gothic' not found.\n",
            "WARNING:matplotlib.font_manager:findfont: Font family 'Malgun Gothic' not found.\n",
            "WARNING:matplotlib.font_manager:findfont: Font family 'Malgun Gothic' not found.\n",
            "WARNING:matplotlib.font_manager:findfont: Font family 'Malgun Gothic' not found.\n",
            "WARNING:matplotlib.font_manager:findfont: Font family 'Malgun Gothic' not found.\n",
            "WARNING:matplotlib.font_manager:findfont: Font family 'Malgun Gothic' not found.\n",
            "WARNING:matplotlib.font_manager:findfont: Font family 'Malgun Gothic' not found.\n",
            "WARNING:matplotlib.font_manager:findfont: Font family 'Malgun Gothic' not found.\n",
            "WARNING:matplotlib.font_manager:findfont: Font family 'Malgun Gothic' not found.\n",
            "WARNING:matplotlib.font_manager:findfont: Font family 'Malgun Gothic' not found.\n",
            "WARNING:matplotlib.font_manager:findfont: Font family 'Malgun Gothic' not found.\n",
            "WARNING:matplotlib.font_manager:findfont: Font family 'Malgun Gothic' not found.\n",
            "WARNING:matplotlib.font_manager:findfont: Font family 'Malgun Gothic' not found.\n",
            "WARNING:matplotlib.font_manager:findfont: Font family 'Malgun Gothic' not found.\n",
            "WARNING:matplotlib.font_manager:findfont: Font family 'Malgun Gothic' not found.\n",
            "WARNING:matplotlib.font_manager:findfont: Font family 'Malgun Gothic' not found.\n",
            "WARNING:matplotlib.font_manager:findfont: Font family 'Malgun Gothic' not found.\n",
            "WARNING:matplotlib.font_manager:findfont: Font family 'Malgun Gothic' not found.\n",
            "WARNING:matplotlib.font_manager:findfont: Font family 'Malgun Gothic' not found.\n",
            "WARNING:matplotlib.font_manager:findfont: Font family 'Malgun Gothic' not found.\n",
            "WARNING:matplotlib.font_manager:findfont: Font family 'Malgun Gothic' not found.\n",
            "WARNING:matplotlib.font_manager:findfont: Font family 'Malgun Gothic' not found.\n",
            "WARNING:matplotlib.font_manager:findfont: Font family 'Malgun Gothic' not found.\n",
            "WARNING:matplotlib.font_manager:findfont: Font family 'Malgun Gothic' not found.\n",
            "WARNING:matplotlib.font_manager:findfont: Font family 'Malgun Gothic' not found.\n",
            "WARNING:matplotlib.font_manager:findfont: Font family 'Malgun Gothic' not found.\n",
            "WARNING:matplotlib.font_manager:findfont: Font family 'Malgun Gothic' not found.\n",
            "WARNING:matplotlib.font_manager:findfont: Font family 'Malgun Gothic' not found.\n",
            "WARNING:matplotlib.font_manager:findfont: Font family 'Malgun Gothic' not found.\n",
            "WARNING:matplotlib.font_manager:findfont: Font family 'Malgun Gothic' not found.\n",
            "WARNING:matplotlib.font_manager:findfont: Font family 'Malgun Gothic' not found.\n",
            "WARNING:matplotlib.font_manager:findfont: Font family 'Malgun Gothic' not found.\n",
            "WARNING:matplotlib.font_manager:findfont: Font family 'Malgun Gothic' not found.\n",
            "WARNING:matplotlib.font_manager:findfont: Font family 'Malgun Gothic' not found.\n",
            "WARNING:matplotlib.font_manager:findfont: Font family 'Malgun Gothic' not found.\n",
            "WARNING:matplotlib.font_manager:findfont: Font family 'Malgun Gothic' not found.\n",
            "WARNING:matplotlib.font_manager:findfont: Font family 'Malgun Gothic' not found.\n",
            "WARNING:matplotlib.font_manager:findfont: Font family 'Malgun Gothic' not found.\n",
            "WARNING:matplotlib.font_manager:findfont: Font family 'Malgun Gothic' not found.\n",
            "WARNING:matplotlib.font_manager:findfont: Font family 'Malgun Gothic' not found.\n",
            "WARNING:matplotlib.font_manager:findfont: Font family 'Malgun Gothic' not found.\n",
            "WARNING:matplotlib.font_manager:findfont: Font family 'Malgun Gothic' not found.\n",
            "WARNING:matplotlib.font_manager:findfont: Font family 'Malgun Gothic' not found.\n",
            "WARNING:matplotlib.font_manager:findfont: Font family 'Malgun Gothic' not found.\n",
            "WARNING:matplotlib.font_manager:findfont: Font family 'Malgun Gothic' not found.\n",
            "WARNING:matplotlib.font_manager:findfont: Font family 'Malgun Gothic' not found.\n",
            "WARNING:matplotlib.font_manager:findfont: Font family 'Malgun Gothic' not found.\n",
            "WARNING:matplotlib.font_manager:findfont: Font family 'Malgun Gothic' not found.\n",
            "WARNING:matplotlib.font_manager:findfont: Font family 'Malgun Gothic' not found.\n",
            "WARNING:matplotlib.font_manager:findfont: Font family 'Malgun Gothic' not found.\n",
            "WARNING:matplotlib.font_manager:findfont: Font family 'Malgun Gothic' not found.\n",
            "WARNING:matplotlib.font_manager:findfont: Font family 'Malgun Gothic' not found.\n",
            "WARNING:matplotlib.font_manager:findfont: Font family 'Malgun Gothic' not found.\n",
            "WARNING:matplotlib.font_manager:findfont: Font family 'Malgun Gothic' not found.\n",
            "WARNING:matplotlib.font_manager:findfont: Font family 'Malgun Gothic' not found.\n",
            "WARNING:matplotlib.font_manager:findfont: Font family 'Malgun Gothic' not found.\n",
            "WARNING:matplotlib.font_manager:findfont: Font family 'Malgun Gothic' not found.\n",
            "WARNING:matplotlib.font_manager:findfont: Font family 'Malgun Gothic' not found.\n",
            "WARNING:matplotlib.font_manager:findfont: Font family 'Malgun Gothic' not found.\n",
            "WARNING:matplotlib.font_manager:findfont: Font family 'Malgun Gothic' not found.\n",
            "WARNING:matplotlib.font_manager:findfont: Font family 'Malgun Gothic' not found.\n",
            "WARNING:matplotlib.font_manager:findfont: Font family 'Malgun Gothic' not found.\n",
            "WARNING:matplotlib.font_manager:findfont: Font family 'Malgun Gothic' not found.\n",
            "WARNING:matplotlib.font_manager:findfont: Font family 'Malgun Gothic' not found.\n",
            "WARNING:matplotlib.font_manager:findfont: Font family 'Malgun Gothic' not found.\n",
            "WARNING:matplotlib.font_manager:findfont: Font family 'Malgun Gothic' not found.\n",
            "WARNING:matplotlib.font_manager:findfont: Font family 'Malgun Gothic' not found.\n",
            "WARNING:matplotlib.font_manager:findfont: Font family 'Malgun Gothic' not found.\n",
            "WARNING:matplotlib.font_manager:findfont: Font family 'Malgun Gothic' not found.\n",
            "WARNING:matplotlib.font_manager:findfont: Font family 'Malgun Gothic' not found.\n",
            "WARNING:matplotlib.font_manager:findfont: Font family 'Malgun Gothic' not found.\n",
            "WARNING:matplotlib.font_manager:findfont: Font family 'Malgun Gothic' not found.\n",
            "WARNING:matplotlib.font_manager:findfont: Font family 'Malgun Gothic' not found.\n",
            "WARNING:matplotlib.font_manager:findfont: Font family 'Malgun Gothic' not found.\n",
            "WARNING:matplotlib.font_manager:findfont: Font family 'Malgun Gothic' not found.\n",
            "WARNING:matplotlib.font_manager:findfont: Font family 'Malgun Gothic' not found.\n",
            "WARNING:matplotlib.font_manager:findfont: Font family 'Malgun Gothic' not found.\n",
            "WARNING:matplotlib.font_manager:findfont: Font family 'Malgun Gothic' not found.\n",
            "WARNING:matplotlib.font_manager:findfont: Font family 'Malgun Gothic' not found.\n",
            "WARNING:matplotlib.font_manager:findfont: Font family 'Malgun Gothic' not found.\n",
            "WARNING:matplotlib.font_manager:findfont: Font family 'Malgun Gothic' not found.\n",
            "WARNING:matplotlib.font_manager:findfont: Font family 'Malgun Gothic' not found.\n",
            "WARNING:matplotlib.font_manager:findfont: Font family 'Malgun Gothic' not found.\n",
            "WARNING:matplotlib.font_manager:findfont: Font family 'Malgun Gothic' not found.\n",
            "WARNING:matplotlib.font_manager:findfont: Font family 'Malgun Gothic' not found.\n",
            "WARNING:matplotlib.font_manager:findfont: Font family 'Malgun Gothic' not found.\n",
            "WARNING:matplotlib.font_manager:findfont: Font family 'Malgun Gothic' not found.\n",
            "WARNING:matplotlib.font_manager:findfont: Font family 'Malgun Gothic' not found.\n"
          ]
        },
        {
          "output_type": "display_data",
          "data": {
            "text/plain": [
              "<Figure size 640x480 with 2 Axes>"
            ],
            "image/png": "[encoded data removed]"
          },
          "metadata": {}
        }
      ]
    },
    {
      "cell_type": "code",
      "source": [
        "df['비전기냉방설비운영'].value_counts()"
      ],
      "metadata": {
        "colab": {
          "base_uri": "https://localhost:8080/",
          "height": 178
        },
        "id": "_k1ou8M7h2lG",
        "outputId": "947766ac-e64e-499d-d52a-4b70fff96637"
      },
      "execution_count": null,
      "outputs": [
        {
          "output_type": "execute_result",
          "data": {
            "text/plain": [
              "비전기냉방설비운영\n",
              "1.0    83640\n",
              "0.0    38760\n",
              "Name: count, dtype: int64"
            ],
            "text/html": [
              "<div>\n",
              "<style scoped>\n",
              "    .dataframe tbody tr th:only-of-type {\n",
              "        vertical-align: middle;\n",
              "    }\n",
              "\n",
              "    .dataframe tbody tr th {\n",
              "        vertical-align: top;\n",
              "    }\n",
              "\n",
              "    .dataframe thead th {\n",
              "        text-align: right;\n",
              "    }\n",
              "</style>\n",
              "<table border=\"1\" class=\"dataframe\">\n",
              "  <thead>\n",
              "    <tr style=\"text-align: right;\">\n",
              "      <th></th>\n",
              "      <th>count</th>\n",
              "    </tr>\n",
              "    <tr>\n",
              "      <th>비전기냉방설비운영</th>\n",
              "      <th></th>\n",
              "    </tr>\n",
              "  </thead>\n",
              "  <tbody>\n",
              "    <tr>\n",
              "      <th>1.0</th>\n",
              "      <td>83640</td>\n",
              "    </tr>\n",
              "    <tr>\n",
              "      <th>0.0</th>\n",
              "      <td>38760</td>\n",
              "    </tr>\n",
              "  </tbody>\n",
              "</table>\n",
              "</div><br><label><b>dtype:</b> int64</label>"
            ]
          },
          "metadata": {},
          "execution_count": 18
        }
      ]
    },
    {
      "cell_type": "code",
      "source": [
        "df['태양광보유'].value_counts()"
      ],
      "metadata": {
        "colab": {
          "base_uri": "https://localhost:8080/",
          "height": 178
        },
        "id": "-dm46jCLh2i-",
        "outputId": "47f0c7ab-5a04-4e4f-9d50-c5681cbe7273"
      },
      "execution_count": null,
      "outputs": [
        {
          "output_type": "execute_result",
          "data": {
            "text/plain": [
              "태양광보유\n",
              "0.0    63240\n",
              "1.0    59160\n",
              "Name: count, dtype: int64"
            ],
            "text/html": [
              "<div>\n",
              "<style scoped>\n",
              "    .dataframe tbody tr th:only-of-type {\n",
              "        vertical-align: middle;\n",
              "    }\n",
              "\n",
              "    .dataframe tbody tr th {\n",
              "        vertical-align: top;\n",
              "    }\n",
              "\n",
              "    .dataframe thead th {\n",
              "        text-align: right;\n",
              "    }\n",
              "</style>\n",
              "<table border=\"1\" class=\"dataframe\">\n",
              "  <thead>\n",
              "    <tr style=\"text-align: right;\">\n",
              "      <th></th>\n",
              "      <th>count</th>\n",
              "    </tr>\n",
              "    <tr>\n",
              "      <th>태양광보유</th>\n",
              "      <th></th>\n",
              "    </tr>\n",
              "  </thead>\n",
              "  <tbody>\n",
              "    <tr>\n",
              "      <th>0.0</th>\n",
              "      <td>63240</td>\n",
              "    </tr>\n",
              "    <tr>\n",
              "      <th>1.0</th>\n",
              "      <td>59160</td>\n",
              "    </tr>\n",
              "  </tbody>\n",
              "</table>\n",
              "</div><br><label><b>dtype:</b> int64</label>"
            ]
          },
          "metadata": {},
          "execution_count": 19
        }
      ]
    },
    {
      "cell_type": "code",
      "source": [
        "# describe\n",
        "df.describe()"
      ],
      "metadata": {
        "colab": {
          "base_uri": "https://localhost:8080/",
          "height": 300
        },
        "id": "G4byYiGIh2gc",
        "outputId": "7f0754bd-4a25-4833-eca7-403c88e374dd"
      },
      "execution_count": null,
      "outputs": [
        {
          "output_type": "execute_result",
          "data": {
            "text/plain": [
              "                 num          전력사용량             기온             풍속  \\\n",
              "count  122400.000000  122400.000000  122400.000000  122400.000000   \n",
              "mean       30.500000    2324.830866      24.251713       2.151641   \n",
              "std        17.318173    2058.999326       3.407902       1.514475   \n",
              "min         1.000000       0.000000      11.100000       0.000000   \n",
              "25%        15.750000    1055.268000      21.800000       1.100000   \n",
              "50%        30.500000    1700.352000      24.200000       1.900000   \n",
              "75%        45.250000    2780.487000      26.500000       2.900000   \n",
              "max        60.000000   17739.225000      36.300000      20.100000   \n",
              "\n",
              "                  습도            강수량             일조      비전기냉방설비운영  \\\n",
              "count  122400.000000  122400.000000  122400.000000  122400.000000   \n",
              "mean       80.169848       0.514989       0.213533       0.683333   \n",
              "std        15.525862       2.624505       0.370517       0.465178   \n",
              "min        19.000000       0.000000       0.000000       0.000000   \n",
              "25%        70.000000       0.000000       0.000000       0.000000   \n",
              "50%        84.000000       0.000000       0.000000       1.000000   \n",
              "75%        93.000000       0.000000       0.300000       1.000000   \n",
              "max       100.000000      81.500000       1.000000       1.000000   \n",
              "\n",
              "               태양광보유  \n",
              "count  122400.000000  \n",
              "mean        0.483333  \n",
              "std         0.499724  \n",
              "min         0.000000  \n",
              "25%         0.000000  \n",
              "50%         0.000000  \n",
              "75%         1.000000  \n",
              "max         1.000000  "
            ],
            "text/html": [
              "\n",
              "  <div id=\"df-a8a2b79a-6590-40d2-a051-2d41c8cb119c\" class=\"colab-df-container\">\n",
              "    <div>\n",
              "<style scoped>\n",
              "    .dataframe tbody tr th:only-of-type {\n",
              "        vertical-align: middle;\n",
              "    }\n",
              "\n",
              "    .dataframe tbody tr th {\n",
              "        vertical-align: top;\n",
              "    }\n",
              "\n",
              "    .dataframe thead th {\n",
              "        text-align: right;\n",
              "    }\n",
              "</style>\n",
              "<table border=\"1\" class=\"dataframe\">\n",
              "  <thead>\n",
              "    <tr style=\"text-align: right;\">\n",
              "      <th></th>\n",
              "      <th>num</th>\n",
              "      <th>전력사용량</th>\n",
              "      <th>기온</th>\n",
              "      <th>풍속</th>\n",
              "      <th>습도</th>\n",
              "      <th>강수량</th>\n",
              "      <th>일조</th>\n",
              "      <th>비전기냉방설비운영</th>\n",
              "      <th>태양광보유</th>\n",
              "    </tr>\n",
              "  </thead>\n",
              "  <tbody>\n",
              "    <tr>\n",
              "      <th>count</th>\n",
              "      <td>122400.000000</td>\n",
              "      <td>122400.000000</td>\n",
              "      <td>122400.000000</td>\n",
              "      <td>122400.000000</td>\n",
              "      <td>122400.000000</td>\n",
              "      <td>122400.000000</td>\n",
              "      <td>122400.000000</td>\n",
              "      <td>122400.000000</td>\n",
              "      <td>122400.000000</td>\n",
              "    </tr>\n",
              "    <tr>\n",
              "      <th>mean</th>\n",
              "      <td>30.500000</td>\n",
              "      <td>2324.830866</td>\n",
              "      <td>24.251713</td>\n",
              "      <td>2.151641</td>\n",
              "      <td>80.169848</td>\n",
              "      <td>0.514989</td>\n",
              "      <td>0.213533</td>\n",
              "      <td>0.683333</td>\n",
              "      <td>0.483333</td>\n",
              "    </tr>\n",
              "    <tr>\n",
              "      <th>std</th>\n",
              "      <td>17.318173</td>\n",
              "      <td>2058.999326</td>\n",
              "      <td>3.407902</td>\n",
              "      <td>1.514475</td>\n",
              "      <td>15.525862</td>\n",
              "      <td>2.624505</td>\n",
              "      <td>0.370517</td>\n",
              "      <td>0.465178</td>\n",
              "      <td>0.499724</td>\n",
              "    </tr>\n",
              "    <tr>\n",
              "      <th>min</th>\n",
              "      <td>1.000000</td>\n",
              "      <td>0.000000</td>\n",
              "      <td>11.100000</td>\n",
              "      <td>0.000000</td>\n",
              "      <td>19.000000</td>\n",
              "      <td>0.000000</td>\n",
              "      <td>0.000000</td>\n",
              "      <td>0.000000</td>\n",
              "      <td>0.000000</td>\n",
              "    </tr>\n",
              "    <tr>\n",
              "      <th>25%</th>\n",
              "      <td>15.750000</td>\n",
              "      <td>1055.268000</td>\n",
              "      <td>21.800000</td>\n",
              "      <td>1.100000</td>\n",
              "      <td>70.000000</td>\n",
              "      <td>0.000000</td>\n",
              "      <td>0.000000</td>\n",
              "      <td>0.000000</td>\n",
              "      <td>0.000000</td>\n",
              "    </tr>\n",
              "    <tr>\n",
              "      <th>50%</th>\n",
              "      <td>30.500000</td>\n",
              "      <td>1700.352000</td>\n",
              "      <td>24.200000</td>\n",
              "      <td>1.900000</td>\n",
              "      <td>84.000000</td>\n",
              "      <td>0.000000</td>\n",
              "      <td>0.000000</td>\n",
              "      <td>1.000000</td>\n",
              "      <td>0.000000</td>\n",
              "    </tr>\n",
              "    <tr>\n",
              "      <th>75%</th>\n",
              "      <td>45.250000</td>\n",
              "      <td>2780.487000</td>\n",
              "      <td>26.500000</td>\n",
              "      <td>2.900000</td>\n",
              "      <td>93.000000</td>\n",
              "      <td>0.000000</td>\n",
              "      <td>0.300000</td>\n",
              "      <td>1.000000</td>\n",
              "      <td>1.000000</td>\n",
              "    </tr>\n",
              "    <tr>\n",
              "      <th>max</th>\n",
              "      <td>60.000000</td>\n",
              "      <td>17739.225000</td>\n",
              "      <td>36.300000</td>\n",
              "      <td>20.100000</td>\n",
              "      <td>100.000000</td>\n",
              "      <td>81.500000</td>\n",
              "      <td>1.000000</td>\n",
              "      <td>1.000000</td>\n",
              "      <td>1.000000</td>\n",
              "    </tr>\n",
              "  </tbody>\n",
              "</table>\n",
              "</div>\n",
              "    <div class=\"colab-df-buttons\">\n",
              "\n",
              "  <div class=\"colab-df-container\">\n",
              "    <button class=\"colab-df-convert\" onclick=\"convertToInteractive('df-a8a2b79a-6590-40d2-a051-2d41c8cb119c')\"\n",
              "            title=\"Convert this dataframe to an interactive table.\"\n",
              "            style=\"display:none;\">\n",
              "\n",
              "  <svg xmlns=\"http://www.w3.org/2000/svg\" height=\"24px\" viewBox=\"0 -960 960 960\">\n",
              "    <path d=\"M120-120v-720h720v720H120Zm60-500h600v-160H180v160Zm220 220h160v-160H400v160Zm0 220h160v-160H400v160ZM180-400h160v-160H180v160Zm440 0h160v-160H620v160ZM180-180h160v-160H180v160Zm440 0h160v-160H620v160Z\"/>\n",
              "  </svg>\n",
              "    </button>\n",
              "\n",
              "  <style>\n",
              "    .colab-df-container {\n",
              "      display:flex;\n",
              "      gap: 12px;\n",
              "    }\n",
              "\n",
              "    .colab-df-convert {\n",
              "      background-color: #E8F0FE;\n",
              "      border: none;\n",
              "      border-radius: 50%;\n",
              "      cursor: pointer;\n",
              "      display: none;\n",
              "      fill: #1967D2;\n",
              "      height: 32px;\n",
              "      padding: 0 0 0 0;\n",
              "      width: 32px;\n",
              "    }\n",
              "\n",
              "    .colab-df-convert:hover {\n",
              "      background-color: #E2EBFA;\n",
              "      box-shadow: 0px 1px 2px rgba(60, 64, 67, 0.3), 0px 1px 3px 1px rgba(60, 64, 67, 0.15);\n",
              "      fill: #174EA6;\n",
              "    }\n",
              "\n",
              "    .colab-df-buttons div {\n",
              "      margin-bottom: 4px;\n",
              "    }\n",
              "\n",
              "    [theme=dark] .colab-df-convert {\n",
              "      background-color: #3B4455;\n",
              "      fill: #D2E3FC;\n",
              "    }\n",
              "\n",
              "    [theme=dark] .colab-df-convert:hover {\n",
              "      background-color: #434B5C;\n",
              "      box-shadow: 0px 1px 3px 1px rgba(0, 0, 0, 0.15);\n",
              "      filter: drop-shadow(0px 1px 2px rgba(0, 0, 0, 0.3));\n",
              "      fill: #FFFFFF;\n",
              "    }\n",
              "  </style>\n",
              "\n",
              "    <script>\n",
              "      const buttonEl =\n",
              "        document.querySelector('#df-a8a2b79a-6590-40d2-a051-2d41c8cb119c button.colab-df-convert');\n",
              "      buttonEl.style.display =\n",
              "        google.colab.kernel.accessAllowed ? 'block' : 'none';\n",
              "\n",
              "      async function convertToInteractive(key) {\n",
              "        const element = document.querySelector('#df-a8a2b79a-6590-40d2-a051-2d41c8cb119c');\n",
              "        const dataTable =\n",
              "          await google.colab.kernel.invokeFunction('convertToInteractive',\n",
              "                                                    [key], {});\n",
              "        if (!dataTable) return;\n",
              "\n",
              "        const docLinkHtml = 'Like what you see? Visit the ' +\n",
              "          '<a target=\"_blank\" href=https://colab.research.google.com/notebooks/data_table.ipynb>data table notebook</a>'\n",
              "          + ' to learn more about interactive tables.';\n",
              "        element.innerHTML = '';\n",
              "        dataTable['output_type'] = 'display_data';\n",
              "        await google.colab.output.renderOutput(dataTable, element);\n",
              "        const docLink = document.createElement('div');\n",
              "        docLink.innerHTML = docLinkHtml;\n",
              "        element.appendChild(docLink);\n",
              "      }\n",
              "    </script>\n",
              "  </div>\n",
              "\n",
              "\n",
              "<div id=\"df-d788e37c-a629-4700-8628-c4876afb77c8\">\n",
              "  <button class=\"colab-df-quickchart\" onclick=\"quickchart('df-d788e37c-a629-4700-8628-c4876afb77c8')\"\n",
              "            title=\"Suggest charts\"\n",
              "            style=\"display:none;\">\n",
              "\n",
              "<svg xmlns=\"http://www.w3.org/2000/svg\" height=\"24px\"viewBox=\"0 0 24 24\"\n",
              "     width=\"24px\">\n",
              "    <g>\n",
              "        <path d=\"M19 3H5c-1.1 0-2 .9-2 2v14c0 1.1.9 2 2 2h14c1.1 0 2-.9 2-2V5c0-1.1-.9-2-2-2zM9 17H7v-7h2v7zm4 0h-2V7h2v10zm4 0h-2v-4h2v4z\"/>\n",
              "    </g>\n",
              "</svg>\n",
              "  </button>\n",
              "\n",
              "<style>\n",
              "  .colab-df-quickchart {\n",
              "      --bg-color: #E8F0FE;\n",
              "      --fill-color: #1967D2;\n",
              "      --hover-bg-color: #E2EBFA;\n",
              "      --hover-fill-color: #174EA6;\n",
              "      --disabled-fill-color: #AAA;\n",
              "      --disabled-bg-color: #DDD;\n",
              "  }\n",
              "\n",
              "  [theme=dark] .colab-df-quickchart {\n",
              "      --bg-color: #3B4455;\n",
              "      --fill-color: #D2E3FC;\n",
              "      --hover-bg-color: #434B5C;\n",
              "      --hover-fill-color: #FFFFFF;\n",
              "      --disabled-bg-color: #3B4455;\n",
              "      --disabled-fill-color: #666;\n",
              "  }\n",
              "\n",
              "  .colab-df-quickchart {\n",
              "    background-color: var(--bg-color);\n",
              "    border: none;\n",
              "    border-radius: 50%;\n",
              "    cursor: pointer;\n",
              "    display: none;\n",
              "    fill: var(--fill-color);\n",
              "    height: 32px;\n",
              "    padding: 0;\n",
              "    width: 32px;\n",
              "  }\n",
              "\n",
              "  .colab-df-quickchart:hover {\n",
              "    background-color: var(--hover-bg-color);\n",
              "    box-shadow: 0 1px 2px rgba(60, 64, 67, 0.3), 0 1px 3px 1px rgba(60, 64, 67, 0.15);\n",
              "    fill: var(--button-hover-fill-color);\n",
              "  }\n",
              "\n",
              "  .colab-df-quickchart-complete:disabled,\n",
              "  .colab-df-quickchart-complete:disabled:hover {\n",
              "    background-color: var(--disabled-bg-color);\n",
              "    fill: var(--disabled-fill-color);\n",
              "    box-shadow: none;\n",
              "  }\n",
              "\n",
              "  .colab-df-spinner {\n",
              "    border: 2px solid var(--fill-color);\n",
              "    border-color: transparent;\n",
              "    border-bottom-color: var(--fill-color);\n",
              "    animation:\n",
              "      spin 1s steps(1) infinite;\n",
              "  }\n",
              "\n",
              "  @keyframes spin {\n",
              "    0% {\n",
              "      border-color: transparent;\n",
              "      border-bottom-color: var(--fill-color);\n",
              "      border-left-color: var(--fill-color);\n",
              "    }\n",
              "    20% {\n",
              "      border-color: transparent;\n",
              "      border-left-color: var(--fill-color);\n",
              "      border-top-color: var(--fill-color);\n",
              "    }\n",
              "    30% {\n",
              "      border-color: transparent;\n",
              "      border-left-color: var(--fill-color);\n",
              "      border-top-color: var(--fill-color);\n",
              "      border-right-color: var(--fill-color);\n",
              "    }\n",
              "    40% {\n",
              "      border-color: transparent;\n",
              "      border-right-color: var(--fill-color);\n",
              "      border-top-color: var(--fill-color);\n",
              "    }\n",
              "    60% {\n",
              "      border-color: transparent;\n",
              "      border-right-color: var(--fill-color);\n",
              "    }\n",
              "    80% {\n",
              "      border-color: transparent;\n",
              "      border-right-color: var(--fill-color);\n",
              "      border-bottom-color: var(--fill-color);\n",
              "    }\n",
              "    90% {\n",
              "      border-color: transparent;\n",
              "      border-bottom-color: var(--fill-color);\n",
              "    }\n",
              "  }\n",
              "</style>\n",
              "\n",
              "  <script>\n",
              "    async function quickchart(key) {\n",
              "      const quickchartButtonEl =\n",
              "        document.querySelector('#' + key + ' button');\n",
              "      quickchartButtonEl.disabled = true;  // To prevent multiple clicks.\n",
              "      quickchartButtonEl.classList.add('colab-df-spinner');\n",
              "      try {\n",
              "        const charts = await google.colab.kernel.invokeFunction(\n",
              "            'suggestCharts', [key], {});\n",
              "      } catch (error) {\n",
              "        console.error('Error during call to suggestCharts:', error);\n",
              "      }\n",
              "      quickchartButtonEl.classList.remove('colab-df-spinner');\n",
              "      quickchartButtonEl.classList.add('colab-df-quickchart-complete');\n",
              "    }\n",
              "    (() => {\n",
              "      let quickchartButtonEl =\n",
              "        document.querySelector('#df-d788e37c-a629-4700-8628-c4876afb77c8 button');\n",
              "      quickchartButtonEl.style.display =\n",
              "        google.colab.kernel.accessAllowed ? 'block' : 'none';\n",
              "    })();\n",
              "  </script>\n",
              "</div>\n",
              "\n",
              "    </div>\n",
              "  </div>\n"
            ],
            "application/vnd.google.colaboratory.intrinsic+json": {
              "type": "dataframe",
              "summary": "{\n  \"name\": \"df\",\n  \"rows\": 8,\n  \"fields\": [\n    {\n      \"column\": \"num\",\n      \"properties\": {\n        \"dtype\": \"number\",\n        \"std\": 43264.82125077105,\n        \"min\": 1.0,\n        \"max\": 122400.0,\n        \"num_unique_values\": 7,\n        \"samples\": [\n          122400.0,\n          30.5,\n          45.25\n        ],\n        \"semantic_type\": \"\",\n        \"description\": \"\"\n      }\n    },\n    {\n      \"column\": \"\\uc804\\ub825\\uc0ac\\uc6a9\\ub7c9\",\n      \"properties\": {\n        \"dtype\": \"number\",\n        \"std\": 42262.95455850933,\n        \"min\": 0.0,\n        \"max\": 122400.0,\n        \"num_unique_values\": 8,\n        \"samples\": [\n          2324.830865868444,\n          1700.352,\n          122400.0\n        ],\n        \"semantic_type\": \"\",\n        \"description\": \"\"\n      }\n    },\n    {\n      \"column\": \"\\uae30\\uc628\",\n      \"properties\": {\n        \"dtype\": \"number\",\n        \"std\": 43267.48326703735,\n        \"min\": 3.4079016632153984,\n        \"max\": 122400.0,\n        \"num_unique_values\": 8,\n        \"samples\": [\n          24.251713235294115,\n          24.2,\n          122400.0\n        ],\n        \"semantic_type\": \"\",\n        \"description\": \"\"\n      }\n    },\n    {\n      \"column\": \"\\ud48d\\uc18d\",\n      \"properties\": {\n        \"dtype\": \"number\",\n        \"std\": 43273.437136134904,\n        \"min\": 0.0,\n        \"max\": 122400.0,\n        \"num_unique_values\": 8,\n        \"samples\": [\n          2.151640522875817,\n          1.9,\n          122400.0\n        ],\n        \"semantic_type\": \"\",\n        \"description\": \"\"\n      }\n    },\n    {\n      \"column\": \"\\uc2b5\\ub3c4\",\n      \"properties\": {\n        \"dtype\": \"number\",\n        \"std\": 43251.62771529805,\n        \"min\": 15.525862145861495,\n        \"max\": 122400.0,\n        \"num_unique_values\": 8,\n        \"samples\": [\n          80.16984803921568,\n          84.0,\n          122400.0\n        ],\n        \"semantic_type\": \"\",\n        \"description\": \"\"\n      }\n    },\n    {\n      \"column\": \"\\uac15\\uc218\\ub7c9\",\n      \"properties\": {\n        \"dtype\": \"number\",\n        \"std\": 43270.66935561818,\n        \"min\": 0.0,\n        \"max\": 122400.0,\n        \"num_unique_values\": 5,\n        \"samples\": [\n          0.5149893790849672,\n          81.5,\n          2.624505395380633\n        ],\n        \"semantic_type\": \"\",\n        \"description\": \"\"\n      }\n    },\n    {\n      \"column\": \"\\uc77c\\uc870\",\n      \"properties\": {\n        \"dtype\": \"number\",\n        \"std\": 43274.83985096692,\n        \"min\": 0.0,\n        \"max\": 122400.0,\n        \"num_unique_values\": 6,\n        \"samples\": [\n          122400.0,\n          0.21353349673202615,\n          1.0\n        ],\n        \"semantic_type\": \"\",\n        \"description\": \"\"\n      }\n    },\n    {\n      \"column\": \"\\ube44\\uc804\\uae30\\ub0c9\\ubc29\\uc124\\ube44\\uc6b4\\uc601\",\n      \"properties\": {\n        \"dtype\": \"number\",\n        \"std\": 43274.725479169654,\n        \"min\": 0.0,\n        \"max\": 122400.0,\n        \"num_unique_values\": 5,\n        \"samples\": [\n          0.6833333333333333,\n          1.0,\n          0.4651780914729451\n        ],\n        \"semantic_type\": \"\",\n        \"description\": \"\"\n      }\n    },\n    {\n      \"column\": \"\\ud0dc\\uc591\\uad11\\ubcf4\\uc720\",\n      \"properties\": {\n        \"dtype\": \"number\",\n        \"std\": 43274.78434346018,\n        \"min\": 0.0,\n        \"max\": 122400.0,\n        \"num_unique_values\": 5,\n        \"samples\": [\n          0.48333333333333334,\n          1.0,\n          0.4997241863799717\n        ],\n        \"semantic_type\": \"\",\n        \"description\": \"\"\n      }\n    }\n  ]\n}"
            }
          },
          "metadata": {},
          "execution_count": 20
        }
      ]
    },
    {
      "cell_type": "markdown",
      "source": [
        "# 모델링"
      ],
      "metadata": {
        "id": "VgOaBCCjkxR0"
      }
    },
    {
      "cell_type": "code",
      "source": [
        "import torch\n",
        "import torch.nn as nn\n",
        "import torch.optim as optim\n",
        "from torch.utils.data import DataLoader, TensorDataset\n",
        "from sklearn.model_selection import KFold\n",
        "import pandas as pd\n",
        "from sklearn.preprocessing import StandardScaler\n",
        "from sklearn.cluster import KMeans\n",
        "from tqdm import tqdm\n",
        "import time\n",
        "import os"
      ],
      "metadata": {
        "id": "jZOuDyFcly1h"
      },
      "execution_count": null,
      "outputs": []
    },
    {
      "cell_type": "code",
      "source": [
        "# x, y 나누기\n",
        "X = df.loc[:, '기온':'일조'].values\n",
        "y = df['전력사용량'].values"
      ],
      "metadata": {
        "id": "Zo4pNq_Yh2YG"
      },
      "execution_count": null,
      "outputs": []
    },
    {
      "cell_type": "code",
      "source": [
        "# Kmeans로 파생변수\n",
        "kmeans = KMeans(n_clusters=3, random_state=7777)\n",
        "cluster_labels = kmeans.fit_predict(X)\n",
        "\n",
        "# 원래 데이터에 클러스터 라벨 추가\n",
        "X_extended = pd.concat([pd.DataFrame(X), pd.DataFrame(cluster_labels, columns=['cluster'])], axis=1).values"
      ],
      "metadata": {
        "id": "iA1_Mr37h2Vw"
      },
      "execution_count": null,
      "outputs": []
    },
    {
      "cell_type": "code",
      "source": [
        "# 데이터 정규화 - Robustscaler\n",
        "from sklearn.preprocessing import RobustScaler\n",
        "\n",
        "scaler = RobustScaler()\n",
        "X_extended[:, :-3] = scaler.fit_transform(X_extended[:, :-3])"
      ],
      "metadata": {
        "id": "6cSa8uo0mbGF"
      },
      "execution_count": null,
      "outputs": []
    },
    {
      "cell_type": "code",
      "source": [
        "# 데이터 텐서로 변환\n",
        "X_tensor = torch.tensor(X_extended, dtype=torch.float32)\n",
        "y_tensor = torch.tensor(y, dtype=torch.float32).view(-1, 1)"
      ],
      "metadata": {
        "id": "s2svpPe2m7ID"
      },
      "execution_count": null,
      "outputs": []
    },
    {
      "cell_type": "code",
      "source": [
        "# 레이어, 노드 수 늘리기, dropout 0.5확률 , relu함수 사용, Xaveir로 가중치 초기화\n",
        "class DNNRegression(nn.Module):\n",
        "    def __init__(self):\n",
        "        super(DNNRegression, self).__init__()\n",
        "        self.layer1 = nn.Linear(X_tensor.shape[1], 128)\n",
        "        self.bn1 = nn.BatchNorm1d(128)\n",
        "        self.dropout1 = nn.Dropout(0.5)\n",
        "\n",
        "        self.layer2 = nn.Linear(128, 256)\n",
        "        self.bn2 = nn.BatchNorm1d(256)\n",
        "        self.dropout2 = nn.Dropout(0.5)\n",
        "\n",
        "        self.layer3 = nn.Linear(256, 64)\n",
        "        self.bn3 = nn.BatchNorm1d(64)\n",
        "        self.dropout3 = nn.Dropout(0.5)\n",
        "\n",
        "        self.layer4 = nn.Linear(64, 128)\n",
        "        self.bn4 = nn.BatchNorm1d(128)\n",
        "        self.dropout4 = nn.Dropout(0.5)\n",
        "\n",
        "        self.layer5 = nn.Linear(128, 64)\n",
        "        self.bn5 = nn.BatchNorm1d(64)\n",
        "        self.dropout5 = nn.Dropout(0.5)\n",
        "\n",
        "        self.layer6 = nn.Linear(64, 128)\n",
        "        self.bn6 = nn.BatchNorm1d(128)\n",
        "        self.dropout6 = nn.Dropout(0.5)\n",
        "\n",
        "        self.output_layer = nn.Linear(128, 1)\n",
        "\n",
        "        # 가중치 초기화\n",
        "        self._initialize_weights()\n",
        "\n",
        "    def forward(self, x):\n",
        "        x = torch.relu(self.bn1(self.layer1(x)))\n",
        "        x = self.dropout1(x)\n",
        "        x = torch.relu(self.bn2(self.layer2(x)))\n",
        "        x = self.dropout2(x)\n",
        "        x = torch.relu(self.bn3(self.layer3(x)))\n",
        "        x = self.dropout3(x)\n",
        "        x = torch.relu(self.bn4(self.layer4(x)))\n",
        "        x = self.dropout4(x)\n",
        "        x = torch.relu(self.bn5(self.layer5(x)))\n",
        "        x = self.dropout5(x)\n",
        "        x = torch.relu(self.bn6(self.layer6(x)))\n",
        "        x = self.dropout6(x)\n",
        "        x = self.output_layer(x)\n",
        "        return x\n",
        "\n",
        "    def _initialize_weights(self):\n",
        "        for m in self.modules():\n",
        "            if isinstance(m, nn.Linear):\n",
        "                nn.init.xavier_uniform_(m.weight)\n",
        "                if m.bias is not None:\n",
        "                    nn.init.zeros_(m.bias)"
      ],
      "metadata": {
        "id": "RVNaoZ4InZyV"
      },
      "execution_count": null,
      "outputs": []
    },
    {
      "cell_type": "code",
      "source": [
        "# Hyperparameters\n",
        "learning_rate = 0.001\n",
        "weight_decay = 0.1\n",
        "num_epochs = 10\n",
        "batch_size = 64"
      ],
      "metadata": {
        "id": "sGryg_O1nZv9"
      },
      "execution_count": null,
      "outputs": []
    },
    {
      "cell_type": "code",
      "source": [
        "# K-Fold Cross Validation\n",
        "kf = KFold(n_splits=5,  shuffle=True, random_state=42)\n",
        "fold = 1\n",
        "\n",
        "# Early Stopping 설정\n",
        "early_stopping_patience = 5\n",
        "early_stopping_counter = 0\n",
        "best_loss = float('inf')\n",
        "\n",
        "# 로그 파일 설정\n",
        "log_file = \"training_log.txt\"\n",
        "if os.path.exists(log_file):\n",
        "    os.remove(log_file)\n",
        "\n",
        "# 학습 및 평가\n",
        "device = torch.device(\"cuda\" if torch.cuda.is_available() else \"cpu\")\n",
        "\n",
        "valid_losses = []\n",
        "best_loss = float('inf')  # 초기에 가장 큰 값으로 설정\n",
        "early_stopping_counter = 0\n",
        "\n",
        "for fold, (train_index, val_index) in enumerate(kf.split(X_tensor), 1):\n",
        "    X_train_fold, X_valid_fold = X_tensor[train_index], X_tensor[val_index]\n",
        "    y_train_fold, y_valid_fold = y_tensor[train_index], y_tensor[val_index]\n",
        "\n",
        "    train_dataset = TensorDataset(X_train_fold, y_train_fold)\n",
        "    train_loader = DataLoader(train_dataset, batch_size=batch_size, shuffle=True)\n",
        "\n",
        "    model = DNNRegression().to(device)\n",
        "    criterion = nn.MSELoss()\n",
        "    optimizer = optim.Adam(model.parameters(), lr=0.001, weight_decay=0.1)\n",
        "    scheduler = optim.lr_scheduler.StepLR(optimizer, step_size=2, gamma=0.1)\n",
        "\n",
        "    # 학습 시간 측정 시작\n",
        "    start_time = time.time()\n",
        "\n",
        "    for epoch in range(num_epochs):\n",
        "        model.train()\n",
        "        epoch_loss = 0\n",
        "        for batch_X, batch_y in train_loader:\n",
        "            batch_X, batch_y = batch_X.to(device), batch_y.to(device)  # 데이터를 GPU로 이동\n",
        "\n",
        "            # 예측값 계산\n",
        "            predictions = model(batch_X)\n",
        "\n",
        "            # 손실 계산\n",
        "            loss = criterion(predictions, batch_y)\n",
        "\n",
        "            # 옵티마이저 초기화\n",
        "            optimizer.zero_grad()\n",
        "\n",
        "            # 역전파 및 가중치 갱신\n",
        "            loss.backward()\n",
        "            optimizer.step()\n",
        "\n",
        "            epoch_loss += loss.item()\n",
        "\n",
        "        # 학습률 업데이트\n",
        "        scheduler.step()\n",
        "\n",
        "        # 평가 손실 계산\n",
        "        model.eval()\n",
        "        with torch.no_grad():\n",
        "            X_valid_fold, y_valid_fold = X_valid_fold.to(device), y_valid_fold.to(device)\n",
        "            val_predictions = model(X_valid_fold)\n",
        "            val_loss = criterion(val_predictions, y_valid_fold)\n",
        "\n",
        "        # 로그 파일에 정보 기록\n",
        "        with open(log_file, \"a\") as f:\n",
        "            f.write(f\"Fold {fold}, Epoch {epoch+1}/{num_epochs}, Loss: {epoch_loss/len(train_loader):.4f}, Valid Loss: {val_loss.item():.4f}\\n\")\n",
        "\n",
        "        # tqdm 진행 표시줄 업데이트\n",
        "        tqdm.write(f\"Fold {fold}, Epoch {epoch+1}/{num_epochs}, Loss: {epoch_loss/len(train_loader):.4f}, Valid Loss: {val_loss.item():.4f}\")\n",
        "\n",
        "        # Early Stopping 및 모델 저장\n",
        "        if val_loss.item() < best_loss:\n",
        "            best_loss = val_loss.item()\n",
        "            early_stopping_counter = 0\n",
        "            # 성능이 뛰어날 때마다 모델 저장\n",
        "            torch.save(model.state_dict(), \"best_model.pth\")\n",
        "        else:\n",
        "            early_stopping_counter += 1\n",
        "            if early_stopping_counter >= early_stopping_patience:\n",
        "                print(f\"조기 종료 at epoch {epoch+1}\")\n",
        "                break\n",
        "\n",
        "    # 평가\n",
        "    model.load_state_dict(torch.load(\"best_model.pth\"))  # 저장된 최적 모델 로드\n",
        "    model.eval()\n",
        "    with torch.no_grad():\n",
        "        X_valid_fold, y_valid_fold = X_valid_fold.to(device), y_valid_fold.to(device)  # 검증 데이터도 GPU로 이동\n",
        "        predictions = model(X_valid_fold)\n",
        "        final_loss = criterion(predictions, y_valid_fold)\n",
        "        valid_losses.append(final_loss.item())\n",
        "        print(f'Fold {fold} 평가 손실 Loss: {final_loss.item():.4f}')\n",
        "        print(f'Fold {fold} 예측값: {predictions[:5].view(-1).tolist()}')\n",
        "        print(f'Fold {fold} 실제값: {y_valid_fold[:5].view(-1).tolist()}')\n",
        "\n",
        "# K-fold 결과 출력\n",
        "print(f\"전체 fold에서 평가 손실 목록: {valid_losses}\")"
      ],
      "metadata": {
        "colab": {
          "base_uri": "https://localhost:8080/"
        },
        "id": "pjIVagUFnZtv",
        "outputId": "2cd5bc50-492c-453c-a4dd-0361ef435976"
      },
      "execution_count": null,
      "outputs": [
        {
          "output_type": "stream",
          "name": "stdout",
          "text": [
            "Fold 1, Epoch 1/10, Loss: 8549331.6412, Valid Loss: 6707754.0000\n",
            "Fold 1, Epoch 2/10, Loss: 5466796.9104, Valid Loss: 4512353.0000\n",
            "Fold 1, Epoch 3/10, Loss: 4597269.6056, Valid Loss: 4408726.5000\n",
            "Fold 1, Epoch 4/10, Loss: 4515788.7245, Valid Loss: 4364014.5000\n",
            "Fold 1, Epoch 5/10, Loss: 4470117.2653, Valid Loss: 4339601.0000\n",
            "Fold 1, Epoch 6/10, Loss: 4463652.6097, Valid Loss: 4381291.5000\n",
            "Fold 1, Epoch 7/10, Loss: 4464989.6094, Valid Loss: 4368127.5000\n",
            "Fold 1, Epoch 8/10, Loss: 4459618.6184, Valid Loss: 4368088.0000\n",
            "Fold 1, Epoch 9/10, Loss: 4464009.4173, Valid Loss: 4361630.5000\n",
            "Fold 1, Epoch 10/10, Loss: 4452968.2027, Valid Loss: 4311214.5000\n",
            "Fold 1 평가 손실 Loss: 4311214.5000\n",
            "Fold 1 예측값: [1781.7587890625, 1787.539306640625, 2.6124982833862305, 2.6124982833862305, 606.8037109375]\n",
            "Fold 1 실제값: [8179.05615234375, 8048.80810546875, 7945.1279296875, 7836.912109375, 7989.83984375]\n",
            "Fold 2, Epoch 1/10, Loss: 8536532.8209, Valid Loss: 6657372.5000\n",
            "Fold 2, Epoch 2/10, Loss: 5460552.6390, Valid Loss: 4497699.0000\n",
            "Fold 2, Epoch 3/10, Loss: 4579829.0847, Valid Loss: 4438584.0000\n",
            "Fold 2, Epoch 4/10, Loss: 4506990.5195, Valid Loss: 4283504.5000\n",
            "Fold 2, Epoch 5/10, Loss: 4455760.5022, Valid Loss: 4312477.5000\n",
            "Fold 2, Epoch 6/10, Loss: 4460885.2899, Valid Loss: 4317795.5000\n",
            "Fold 2, Epoch 7/10, Loss: 4460009.7176, Valid Loss: 4294459.5000\n",
            "Fold 2, Epoch 8/10, Loss: 4453341.4538, Valid Loss: 4309932.5000\n",
            "Fold 2, Epoch 9/10, Loss: 4457607.1279, Valid Loss: 4342852.5000\n",
            "조기 종료 at epoch 9\n",
            "Fold 2 평가 손실 Loss: 4283504.5000\n",
            "Fold 2 예측값: [1840.875, 2246.7490234375, 2269.39013671875, 2.5810422897338867, 1781.3267822265625]\n",
            "Fold 2 실제값: [8020.94384765625, 8088.98388671875, 8013.81591796875, 7920.50390625, 7914.02392578125]\n",
            "Fold 3, Epoch 1/10, Loss: 8606290.8382, Valid Loss: 6525177.0000\n",
            "조기 종료 at epoch 1\n",
            "Fold 3 평가 손실 Loss: 4141395.0000\n",
            "Fold 3 예측값: [1804.308837890625, 1804.2052001953125, 1801.694580078125, 1046.93408203125, 2151.152099609375]\n",
            "Fold 3 실제값: [8135.64013671875, 8043.6240234375, 7978.17578125, 8019.0, 8104.5361328125]\n",
            "Fold 4, Epoch 1/10, Loss: 8525453.3176, Valid Loss: 6709706.5000\n",
            "조기 종료 at epoch 1\n",
            "Fold 4 평가 손실 Loss: 4315161.0000\n",
            "Fold 4 예측값: [1832.781982421875, 1997.41650390625, 2283.28662109375, 2261.71533203125, 2016.6710205078125]\n",
            "Fold 4 실제값: [8083.15185546875, 8116.2001953125, 8088.3359375, 8032.60791015625, 8028.07177734375]\n",
            "Fold 5, Epoch 1/10, Loss: 8502447.0907, Valid Loss: 6708275.5000\n",
            "조기 종료 at epoch 1\n",
            "Fold 5 평가 손실 Loss: 4378915.0000\n",
            "Fold 5 예측값: [1808.048583984375, 1805.781494140625, 2311.23291015625, 2192.194091796875, 1802.434326171875]\n",
            "Fold 5 실제값: [8107.1279296875, 8010.576171875, 8076.671875, 8029.3681640625, 7994.3759765625]\n",
            "전체 fold에서 평가 손실 목록: [4311214.5, 4283504.5, 4141395.0, 4315161.0, 4378915.0]\n"
          ]
        }
      ]
    },
    {
      "cell_type": "code",
      "source": [],
      "metadata": {
        "id": "H8NT-lsunZq2"
      },
      "execution_count": null,
      "outputs": []
    },
    {
      "cell_type": "code",
      "source": [],
      "metadata": {
        "id": "3KHtOchNnZn3"
      },
      "execution_count": null,
      "outputs": []
    },
    {
      "cell_type": "code",
      "source": [],
      "metadata": {
        "id": "yOwKdgbbnZmG"
      },
      "execution_count": null,
      "outputs": []
    },
    {
      "cell_type": "code",
      "source": [],
      "metadata": {
        "id": "YF5zgBdcnZj6"
      },
      "execution_count": null,
      "outputs": []
    },
    {
      "cell_type": "code",
      "source": [],
      "metadata": {
        "id": "Xr3aUYw-nZhn"
      },
      "execution_count": null,
      "outputs": []
    },
    {
      "cell_type": "code",
      "source": [],
      "metadata": {
        "id": "Yi9TBCwKnZfU"
      },
      "execution_count": null,
      "outputs": []
    },
    {
      "cell_type": "code",
      "source": [],
      "metadata": {
        "id": "73pxLvfJnZdX"
      },
      "execution_count": null,
      "outputs": []
    },
    {
      "cell_type": "code",
      "source": [],
      "metadata": {
        "id": "KeoO5M_FnZbI"
      },
      "execution_count": null,
      "outputs": []
    },
    {
      "cell_type": "code",
      "source": [],
      "metadata": {
        "id": "4vbeC-xAnZY5"
      },
      "execution_count": null,
      "outputs": []
    },
    {
      "cell_type": "code",
      "source": [],
      "metadata": {
        "id": "fTqyFPZZnZWt"
      },
      "execution_count": null,
      "outputs": []
    },
    {
      "cell_type": "code",
      "source": [],
      "metadata": {
        "id": "EBt-AdeanZVD"
      },
      "execution_count": null,
      "outputs": []
    },
    {
      "cell_type": "code",
      "source": [],
      "metadata": {
        "id": "5IITJoKLnZTJ"
      },
      "execution_count": null,
      "outputs": []
    },
    {
      "cell_type": "code",
      "source": [],
      "metadata": {
        "id": "lnEKXxm8nZQk"
      },
      "execution_count": null,
      "outputs": []
    },
    {
      "cell_type": "code",
      "source": [],
      "metadata": {
        "id": "KbBYqUQbnZOP"
      },
      "execution_count": null,
      "outputs": []
    },
    {
      "cell_type": "code",
      "source": [],
      "metadata": {
        "id": "HQzSYl45nZMh"
      },
      "execution_count": null,
      "outputs": []
    },
    {
      "cell_type": "code",
      "source": [],
      "metadata": {
        "id": "_bpUfqy5nZKa"
      },
      "execution_count": null,
      "outputs": []
    },
    {
      "cell_type": "code",
      "source": [],
      "metadata": {
        "id": "RtCTB0JinZIS"
      },
      "execution_count": null,
      "outputs": []
    },
    {
      "cell_type": "code",
      "source": [],
      "metadata": {
        "id": "9p15B71LnZGY"
      },
      "execution_count": null,
      "outputs": []
    },
    {
      "cell_type": "code",
      "source": [],
      "metadata": {
        "id": "Ly_SajkInZDz"
      },
      "execution_count": null,
      "outputs": []
    },
    {
      "cell_type": "code",
      "source": [],
      "metadata": {
        "id": "OyjWPF_vnZB0"
      },
      "execution_count": null,
      "outputs": []
    },
    {
      "cell_type": "code",
      "source": [],
      "metadata": {
        "id": "LncMYAHwnY-r"
      },
      "execution_count": null,
      "outputs": []
    },
    {
      "cell_type": "code",
      "source": [],
      "metadata": {
        "id": "qEk_SxYdnY8Z"
      },
      "execution_count": null,
      "outputs": []
    },
    {
      "cell_type": "code",
      "source": [],
      "metadata": {
        "id": "74BKF2icnY6N"
      },
      "execution_count": null,
      "outputs": []
    },
    {
      "cell_type": "markdown",
      "source": [
        "###  위 코드에서 어떤 기법들을 썼었고 왜 그것들을 썼는지 서술 하시오."
      ],
      "metadata": {
        "id": "eZwVGfTLz_wr"
      }
    },
    {
      "cell_type": "code",
      "source": [],
      "metadata": {
        "id": "wlRnTDDi0Jsd"
      },
      "execution_count": null,
      "outputs": []
    }
  ]
}